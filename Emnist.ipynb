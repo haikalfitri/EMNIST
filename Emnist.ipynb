{
  "nbformat": 4,
  "nbformat_minor": 0,
  "metadata": {
    "accelerator": "GPU",
    "colab": {
      "provenance": [],
      "include_colab_link": true
    },
    "kernelspec": {
      "display_name": "Python 3",
      "name": "python3"
    },
    "language_info": {
      "name": "python"
    }
  },
  "cells": [
    {
      "cell_type": "markdown",
      "metadata": {
        "id": "view-in-github",
        "colab_type": "text"
      },
      "source": [
        "<a href=\"https://colab.research.google.com/github/haikalfitri/EMNIST/blob/main/Emnist.ipynb\" target=\"_parent\"><img src=\"https://colab.research.google.com/assets/colab-badge.svg\" alt=\"Open In Colab\"/></a>"
      ]
    },
    {
      "cell_type": "code",
      "metadata": {
        "colab": {
          "base_uri": "https://localhost:8080/"
        },
        "id": "2SRdprMyR9QS",
        "outputId": "160f0df2-82aa-449c-90b0-900886d63e05"
      },
      "source": [
        "!nvidia-smi"
      ],
      "execution_count": null,
      "outputs": [
        {
          "output_type": "stream",
          "text": [
            "Sat Jul 24 08:11:31 2021       \n",
            "+-----------------------------------------------------------------------------+\n",
            "| NVIDIA-SMI 470.42.01    Driver Version: 460.32.03    CUDA Version: 11.2     |\n",
            "|-------------------------------+----------------------+----------------------+\n",
            "| GPU  Name        Persistence-M| Bus-Id        Disp.A | Volatile Uncorr. ECC |\n",
            "| Fan  Temp  Perf  Pwr:Usage/Cap|         Memory-Usage | GPU-Util  Compute M. |\n",
            "|                               |                      |               MIG M. |\n",
            "|===============================+======================+======================|\n",
            "|   0  Tesla T4            Off  | 00000000:00:04.0 Off |                    0 |\n",
            "| N/A   45C    P8    10W /  70W |      0MiB / 15109MiB |      0%      Default |\n",
            "|                               |                      |                  N/A |\n",
            "+-------------------------------+----------------------+----------------------+\n",
            "                                                                               \n",
            "+-----------------------------------------------------------------------------+\n",
            "| Processes:                                                                  |\n",
            "|  GPU   GI   CI        PID   Type   Process name                  GPU Memory |\n",
            "|        ID   ID                                                   Usage      |\n",
            "|=============================================================================|\n",
            "|  No running processes found                                                 |\n",
            "+-----------------------------------------------------------------------------+\n"
          ],
          "name": "stdout"
        }
      ]
    },
    {
      "cell_type": "code",
      "metadata": {
        "colab": {
          "resources": {
            "http://localhost:8080/nbextensions/google.colab/files.js": {
              "data": "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",
              "ok": true,
              "headers": [
                [
                  "content-type",
                  "application/javascript"
                ]
              ],
              "status": 200,
              "status_text": ""
            }
          },
          "base_uri": "https://localhost:8080/"
        },
        "id": "SEysu87icDWl",
        "outputId": "f73ff319-3f22-4ab4-c17c-288987bc413b"
      },
      "source": [
        "from google.colab import files\n",
        "import pandas as pd\n",
        "\n",
        "uploaded = files.upload()"
      ],
      "execution_count": null,
      "outputs": [
        {
          "output_type": "display_data",
          "data": {
            "text/html": [
              "\n",
              "     <input type=\"file\" id=\"files-2bbb4406-a257-4fc5-b4e3-536a0e029934\" name=\"files[]\" multiple disabled\n",
              "        style=\"border:none\" />\n",
              "     <output id=\"result-2bbb4406-a257-4fc5-b4e3-536a0e029934\">\n",
              "      Upload widget is only available when the cell has been executed in the\n",
              "      current browser session. Please rerun this cell to enable.\n",
              "      </output>\n",
              "      <script src=\"/nbextensions/google.colab/files.js\"></script> "
            ],
            "text/plain": [
              "<IPython.core.display.HTML object>"
            ]
          },
          "metadata": {
            "tags": []
          }
        }
      ]
    },
    {
      "cell_type": "code",
      "metadata": {
        "colab": {
          "base_uri": "https://localhost:8080/"
        },
        "id": "Yuq1VkrscFXz",
        "outputId": "7bc4c587-f438-4fd4-cfd1-af59e2b7242e"
      },
      "source": [
        "print(list(uploaded))"
      ],
      "execution_count": null,
      "outputs": [
        {
          "output_type": "stream",
          "text": [
            "['1.jfif']\n"
          ],
          "name": "stdout"
        }
      ]
    },
    {
      "cell_type": "code",
      "metadata": {
        "colab": {
          "base_uri": "https://localhost:8080/",
          "height": 35
        },
        "id": "8Ih3qe7r-Zdq",
        "outputId": "744fe95b-5f24-4f5b-ad0e-551e5a684522"
      },
      "source": [
        "import shutil\n",
        "import os\n",
        "src = 'drive/MyDrive/emnist-balanced.mat'\n",
        "dst =  'emnist-balanced.mat'\n",
        "shutil.copyfile(src, dst)"
      ],
      "execution_count": null,
      "outputs": [
        {
          "output_type": "execute_result",
          "data": {
            "application/vnd.google.colaboratory.intrinsic+json": {
              "type": "string"
            },
            "text/plain": [
              "'emnist-balanced.mat'"
            ]
          },
          "metadata": {
            "tags": []
          },
          "execution_count": 4
        }
      ]
    },
    {
      "cell_type": "markdown",
      "metadata": {
        "id": "jBdJZ9VW6WmI"
      },
      "source": [
        "#Load Data"
      ]
    },
    {
      "cell_type": "code",
      "metadata": {
        "id": "RT1kU75zUBwO"
      },
      "source": [
        "from scipy import io as spio\n",
        "import tensorflow as tf\n",
        "from tensorflow.keras.datasets import cifar10\n",
        "from tensorflow.keras.preprocessing.image import ImageDataGenerator\n",
        "from tensorflow.keras.models import Sequential\n",
        "from tensorflow.keras.layers import Dense, Dropout, Activation, Flatten\n",
        "from tensorflow.keras.layers import Conv2D, MaxPool2D\n",
        "from tensorflow.keras.callbacks import TensorBoard\n",
        "import tensorflow.keras as keras\n",
        "\n",
        "import matplotlib.pyplot as plt\n",
        "import pandas as pd\n",
        "from tensorflow.keras.models import load_model\n",
        "import numpy as np\n",
        "import seaborn as sns\n",
        "\n",
        "import pickle\n",
        "\n",
        "\n",
        "data = spio.loadmat(\"emnist-balanced.mat\")\n",
        "\n",
        "x_train = data[\"dataset\"][0][0][0][0][0][0]\n",
        "y_train = data[\"dataset\"][0][0][0][0][0][1]\n",
        "\n",
        "x_test = data[\"dataset\"][0][0][1][0][0][0]\n",
        "y_test = data[\"dataset\"][0][0][1][0][0][1]\n"
      ],
      "execution_count": null,
      "outputs": []
    },
    {
      "cell_type": "code",
      "metadata": {
        "id": "CDX7qMfBXdic"
      },
      "source": [
        "x_train = x_train.reshape(x_train.shape[0],28,28,1)\n",
        "x_test = x_test.reshape(x_test.shape[0],28,28,1)"
      ],
      "execution_count": null,
      "outputs": []
    },
    {
      "cell_type": "markdown",
      "metadata": {
        "id": "KsHxggYg-JXW"
      },
      "source": [
        "#Preprocess Data"
      ]
    },
    {
      "cell_type": "code",
      "metadata": {
        "colab": {
          "base_uri": "https://localhost:8080/",
          "height": 862
        },
        "id": "Fh1fWsHX88Gc",
        "outputId": "1bb7d827-ed40-41fa-8649-d2454891aef9"
      },
      "source": [
        "\n",
        "emnist = \"0123456789ABCDEFGHIJKLMNOPQRSTUVWXYZabdefghnqrt\"\n",
        "\n",
        "f, ax = plt.subplots(5, 5, figsize = (15, 15))\n",
        "for i in range(0,25):\n",
        "    \n",
        "    label = emnist[y_train[i][0]]\n",
        "    ax[i//5, i%5].imshow(tf.squeeze(x_train[i]), cmap='gray')\n",
        "    ax[i//5, i%5].axis('off')\n",
        "    ax[i//5, i%5].set_title(\"class : {}\".format(label)) \n",
        "plt.show()"
      ],
      "execution_count": null,
      "outputs": [
        {
          "output_type": "display_data",
          "data": {
            "image/png": "[encoded data removed]",
            "text/plain": [
              "<Figure size 1080x1080 with 25 Axes>"
            ]
          },
          "metadata": {
            "tags": []
          }
        }
      ]
    },
    {
      "cell_type": "code",
      "metadata": {
        "id": "QK7vlWX-XgPs"
      },
      "source": [
        "import numpy as np\n",
        "for i in range(x_train.shape[0]):\n",
        "    x_train[i] = np.rot90(np.fliplr(x_train[i]))\n",
        "\n",
        "for i in range(x_test.shape[0]):\n",
        "    x_test[i] = np.rot90(np.fliplr(x_test[i]))"
      ],
      "execution_count": null,
      "outputs": []
    },
    {
      "cell_type": "code",
      "metadata": {
        "colab": {
          "base_uri": "https://localhost:8080/",
          "height": 862
        },
        "id": "BQC_s2H597Xb",
        "outputId": "491446f8-c2ea-4e35-a7bf-bb944b0cd51e"
      },
      "source": [
        "\n",
        "emnist = \"0123456789ABCDEFGHIJKLMNOPQRSTUVWXYZabdefghnqrt\"\n",
        "\n",
        "f, ax = plt.subplots(5, 5, figsize = (15, 15))\n",
        "for i in range(0,25):\n",
        "    \n",
        "    label = emnist[y_train[i][0]]\n",
        "    ax[i//5, i%5].imshow(tf.squeeze(x_train[i]), cmap='gray')\n",
        "    ax[i//5, i%5].axis('off')\n",
        "    ax[i//5, i%5].set_title(\"class : {}\".format(label)) \n",
        "plt.show()"
      ],
      "execution_count": null,
      "outputs": [
        {
          "output_type": "display_data",
          "data": {
            "image/png": "[encoded data removed]",
            "text/plain": [
              "<Figure size 1080x1080 with 25 Axes>"
            ]
          },
          "metadata": {
            "tags": []
          }
        }
      ]
    },
    {
      "cell_type": "code",
      "metadata": {
        "id": "N7z7Lbp5XiH2"
      },
      "source": [
        "#Normalize Data\n",
        "x_train = x_train / 255\n",
        "x_test = x_test / 255"
      ],
      "execution_count": null,
      "outputs": []
    },
    {
      "cell_type": "markdown",
      "metadata": {
        "id": "Gn8qsXAg-pRK"
      },
      "source": [
        "#Image Augmentation 1"
      ]
    },
    {
      "cell_type": "code",
      "metadata": {
        "id": "h7SuZiMvQmda"
      },
      "source": [
        "data_generator1 = ImageDataGenerator(\n",
        "                        width_shift_range=0.2,\n",
        "                        height_shift_range=0.2,\n",
        "                        zoom_range=.1)"
      ],
      "execution_count": null,
      "outputs": []
    },
    {
      "cell_type": "markdown",
      "metadata": {
        "id": "IKgPSr2r-2UE"
      },
      "source": [
        "#Image Augmentation 2"
      ]
    },
    {
      "cell_type": "code",
      "metadata": {
        "id": "Wye_X4Rn-wSP"
      },
      "source": [
        "data_generator2 = ImageDataGenerator(\n",
        "                        fill_mode='nearest',\n",
        "                        rotation_range=0.2,\n",
        "                        zoom_range=.1)"
      ],
      "execution_count": null,
      "outputs": []
    },
    {
      "cell_type": "markdown",
      "metadata": {
        "id": "qR16x94P-7ud"
      },
      "source": [
        "#Reshape labels into categories"
      ]
    },
    {
      "cell_type": "code",
      "metadata": {
        "id": "fQnPGjdGUdTd"
      },
      "source": [
        "y_train = keras.utils.to_categorical(y_train, 47)\n",
        "y_test = keras.utils.to_categorical(y_test, 47)"
      ],
      "execution_count": null,
      "outputs": []
    },
    {
      "cell_type": "markdown",
      "metadata": {
        "id": "Iry0aFvBFEuY"
      },
      "source": [
        "#Design our Model"
      ]
    },
    {
      "cell_type": "code",
      "metadata": {
        "id": "N_xuzgTiFEFB"
      },
      "source": [
        "model=Sequential()\n",
        "\n",
        "\n",
        "model.add(Conv2D(32,(3,3), activation='relu', input_shape=(28,28,1)))\n",
        "model.add(MaxPool2D(strides=2))\n",
        "model.add(Conv2D(32,(3,3), activation='relu'))\n",
        "model.add(MaxPool2D(strides=2))\n",
        "model.add(Conv2D(64,(3,3), activation='relu'))\n",
        "\n",
        "model.add(Flatten())\n",
        "\n",
        "model.add(Dense(512, activation='relu'))\n",
        "model.add(Dense(128, activation='relu'))\n",
        "model.add(Dense(47, activation = \"softmax\"))"
      ],
      "execution_count": null,
      "outputs": []
    },
    {
      "cell_type": "code",
      "metadata": {
        "colab": {
          "base_uri": "https://localhost:8080/"
        },
        "id": "m6d7_atBFHK_",
        "outputId": "e2ae0269-3acc-403a-fc80-062021de0619"
      },
      "source": [
        "model.summary()"
      ],
      "execution_count": null,
      "outputs": [
        {
          "output_type": "stream",
          "text": [
            "Model: \"sequential\"\n",
            "_________________________________________________________________\n",
            "Layer (type)                 Output Shape              Param #   \n",
            "=================================================================\n",
            "conv2d (Conv2D)              (None, 26, 26, 32)        320       \n",
            "_________________________________________________________________\n",
            "max_pooling2d (MaxPooling2D) (None, 13, 13, 32)        0         \n",
            "_________________________________________________________________\n",
            "conv2d_1 (Conv2D)            (None, 11, 11, 32)        9248      \n",
            "_________________________________________________________________\n",
            "max_pooling2d_1 (MaxPooling2 (None, 5, 5, 32)          0         \n",
            "_________________________________________________________________\n",
            "conv2d_2 (Conv2D)            (None, 3, 3, 64)          18496     \n",
            "_________________________________________________________________\n",
            "flatten (Flatten)            (None, 576)               0         \n",
            "_________________________________________________________________\n",
            "dense (Dense)                (None, 512)               295424    \n",
            "_________________________________________________________________\n",
            "dense_1 (Dense)              (None, 128)               65664     \n",
            "_________________________________________________________________\n",
            "dense_2 (Dense)              (None, 47)                6063      \n",
            "=================================================================\n",
            "Total params: 395,215\n",
            "Trainable params: 395,215\n",
            "Non-trainable params: 0\n",
            "_________________________________________________________________\n"
          ],
          "name": "stdout"
        }
      ]
    },
    {
      "cell_type": "markdown",
      "metadata": {
        "id": "DXWSfJ0G_WeK"
      },
      "source": [
        "#Experiment 1"
      ]
    },
    {
      "cell_type": "code",
      "metadata": {
        "colab": {
          "base_uri": "https://localhost:8080/"
        },
        "id": "0lk3K-ILXjMX",
        "outputId": "c99e49da-69b9-4336-ad88-da125bdd5ab3"
      },
      "source": [
        "epoch = 100\n",
        "optimizer = 'adam'\n",
        "\n",
        "\n",
        "NAME = \"{}-optimizer-{}-epoch\".format(optimizer,epoch)\n",
        "\n",
        "BASE_SAVE_DIR = \"/content/drive/MyDrive/Emnist_Training/\"\n",
        "\n",
        "BASE_LOGS_DIR = \"/content/drive/MyDrive/Emnist_Training/logs\"\n",
        "\n",
        "tensorboard = TensorBoard(log_dir=\"{}/{}\".format(BASE_LOGS_DIR,NAME))\n",
        "\n",
        "#mcp_save = ModelCheckpoint(BASE_SAVE_DIR + NAME + '/cp_model.h5', save_best_only=True, monitor='val_loss',verbose=1, mode='auto')\n",
        "\n",
        "model.compile(optimizer=optimizer,\n",
        "              loss='categorical_crossentropy',\n",
        "              metrics=['accuracy'])\n",
        "              \n",
        "#history = model.fit(data_generator.flow(x_train,y_train),validation_data=(x_test,y_test), epochs=epoch, callbacks=[tensorboard])\n",
        "history = model.fit(x_train,y_train,validation_data=(x_test,y_test),batch_size=32, epochs=epoch, callbacks=[tensorboard])\n",
        "    "
      ],
      "execution_count": null,
      "outputs": [
        {
          "output_type": "stream",
          "text": [
            "Epoch 1/100\n",
            "3525/3525 [==============================] - 54s 7ms/step - loss: 0.6389 - accuracy: 0.7913 - val_loss: 0.4786 - val_accuracy: 0.8354\n",
            "Epoch 2/100\n",
            "3525/3525 [==============================] - 24s 7ms/step - loss: 0.3853 - accuracy: 0.8609 - val_loss: 0.3995 - val_accuracy: 0.8636\n",
            "Epoch 3/100\n",
            "3525/3525 [==============================] - 24s 7ms/step - loss: 0.3342 - accuracy: 0.8774 - val_loss: 0.3726 - val_accuracy: 0.8682\n",
            "Epoch 4/100\n",
            "3525/3525 [==============================] - 24s 7ms/step - loss: 0.3022 - accuracy: 0.8862 - val_loss: 0.3867 - val_accuracy: 0.8651\n",
            "Epoch 5/100\n",
            "3525/3525 [==============================] - 24s 7ms/step - loss: 0.2748 - accuracy: 0.8939 - val_loss: 0.3664 - val_accuracy: 0.8755\n",
            "Epoch 6/100\n",
            "3525/3525 [==============================] - 24s 7ms/step - loss: 0.2550 - accuracy: 0.8993 - val_loss: 0.3686 - val_accuracy: 0.8778\n",
            "Epoch 7/100\n",
            "3525/3525 [==============================] - 24s 7ms/step - loss: 0.2374 - accuracy: 0.9057 - val_loss: 0.3726 - val_accuracy: 0.8791\n",
            "Epoch 8/100\n",
            "3525/3525 [==============================] - 24s 7ms/step - loss: 0.2230 - accuracy: 0.9093 - val_loss: 0.4104 - val_accuracy: 0.8742\n",
            "Epoch 9/100\n",
            "3525/3525 [==============================] - 24s 7ms/step - loss: 0.2104 - accuracy: 0.9142 - val_loss: 0.4087 - val_accuracy: 0.8741\n",
            "Epoch 10/100\n",
            "3525/3525 [==============================] - 24s 7ms/step - loss: 0.1993 - accuracy: 0.9183 - val_loss: 0.4271 - val_accuracy: 0.8687\n",
            "Epoch 11/100\n",
            "3525/3525 [==============================] - 24s 7ms/step - loss: 0.1900 - accuracy: 0.9210 - val_loss: 0.4391 - val_accuracy: 0.8726\n",
            "Epoch 12/100\n",
            "3525/3525 [==============================] - 24s 7ms/step - loss: 0.1820 - accuracy: 0.9246 - val_loss: 0.4644 - val_accuracy: 0.8775\n",
            "Epoch 13/100\n",
            "3525/3525 [==============================] - 24s 7ms/step - loss: 0.1738 - accuracy: 0.9270 - val_loss: 0.4701 - val_accuracy: 0.8758\n",
            "Epoch 14/100\n",
            "3525/3525 [==============================] - 24s 7ms/step - loss: 0.1681 - accuracy: 0.9293 - val_loss: 0.5043 - val_accuracy: 0.8730\n",
            "Epoch 15/100\n",
            "3525/3525 [==============================] - 24s 7ms/step - loss: 0.1598 - accuracy: 0.9329 - val_loss: 0.5313 - val_accuracy: 0.8705\n",
            "Epoch 16/100\n",
            "3525/3525 [==============================] - 24s 7ms/step - loss: 0.1560 - accuracy: 0.9350 - val_loss: 0.5177 - val_accuracy: 0.8703\n",
            "Epoch 17/100\n",
            "3525/3525 [==============================] - 25s 7ms/step - loss: 0.1496 - accuracy: 0.9372 - val_loss: 0.6036 - val_accuracy: 0.8693\n",
            "Epoch 18/100\n",
            "3525/3525 [==============================] - 24s 7ms/step - loss: 0.1454 - accuracy: 0.9394 - val_loss: 0.5964 - val_accuracy: 0.8685\n",
            "Epoch 19/100\n",
            "3525/3525 [==============================] - 24s 7ms/step - loss: 0.1408 - accuracy: 0.9413 - val_loss: 0.6100 - val_accuracy: 0.8670\n",
            "Epoch 20/100\n",
            "3525/3525 [==============================] - 24s 7ms/step - loss: 0.1378 - accuracy: 0.9424 - val_loss: 0.6137 - val_accuracy: 0.8703\n",
            "Epoch 21/100\n",
            "3525/3525 [==============================] - 25s 7ms/step - loss: 0.1329 - accuracy: 0.9449 - val_loss: 0.6404 - val_accuracy: 0.8695\n",
            "Epoch 22/100\n",
            "3525/3525 [==============================] - 24s 7ms/step - loss: 0.1301 - accuracy: 0.9460 - val_loss: 0.6696 - val_accuracy: 0.8653\n",
            "Epoch 23/100\n",
            "3525/3525 [==============================] - 24s 7ms/step - loss: 0.1258 - accuracy: 0.9477 - val_loss: 0.7097 - val_accuracy: 0.8643\n",
            "Epoch 24/100\n",
            "3525/3525 [==============================] - 24s 7ms/step - loss: 0.1223 - accuracy: 0.9502 - val_loss: 0.7386 - val_accuracy: 0.8667\n",
            "Epoch 25/100\n",
            "3525/3525 [==============================] - 24s 7ms/step - loss: 0.1196 - accuracy: 0.9511 - val_loss: 0.7498 - val_accuracy: 0.8655\n",
            "Epoch 26/100\n",
            "3525/3525 [==============================] - 25s 7ms/step - loss: 0.1180 - accuracy: 0.9515 - val_loss: 0.7540 - val_accuracy: 0.8670\n",
            "Epoch 27/100\n",
            "3525/3525 [==============================] - 24s 7ms/step - loss: 0.1170 - accuracy: 0.9530 - val_loss: 0.7772 - val_accuracy: 0.8618\n",
            "Epoch 28/100\n",
            "3525/3525 [==============================] - 24s 7ms/step - loss: 0.1121 - accuracy: 0.9543 - val_loss: 0.8045 - val_accuracy: 0.8659\n",
            "Epoch 29/100\n",
            "3525/3525 [==============================] - 25s 7ms/step - loss: 0.1133 - accuracy: 0.9548 - val_loss: 0.7918 - val_accuracy: 0.8671\n",
            "Epoch 30/100\n",
            "3525/3525 [==============================] - 25s 7ms/step - loss: 0.1086 - accuracy: 0.9567 - val_loss: 0.8331 - val_accuracy: 0.8582\n",
            "Epoch 31/100\n",
            "3525/3525 [==============================] - 24s 7ms/step - loss: 0.1082 - accuracy: 0.9574 - val_loss: 0.8461 - val_accuracy: 0.8645\n",
            "Epoch 32/100\n",
            "3525/3525 [==============================] - 25s 7ms/step - loss: 0.1056 - accuracy: 0.9580 - val_loss: 0.8757 - val_accuracy: 0.8653\n",
            "Epoch 33/100\n",
            "3525/3525 [==============================] - 25s 7ms/step - loss: 0.1041 - accuracy: 0.9590 - val_loss: 0.9538 - val_accuracy: 0.8648\n",
            "Epoch 34/100\n",
            "3525/3525 [==============================] - 24s 7ms/step - loss: 0.1010 - accuracy: 0.9609 - val_loss: 1.0586 - val_accuracy: 0.8630\n",
            "Epoch 35/100\n",
            "3525/3525 [==============================] - 24s 7ms/step - loss: 0.0990 - accuracy: 0.9615 - val_loss: 1.0035 - val_accuracy: 0.8586\n",
            "Epoch 36/100\n",
            "3525/3525 [==============================] - 25s 7ms/step - loss: 0.1016 - accuracy: 0.9602 - val_loss: 1.0266 - val_accuracy: 0.8610\n",
            "Epoch 37/100\n",
            "3525/3525 [==============================] - 24s 7ms/step - loss: 0.0987 - accuracy: 0.9621 - val_loss: 1.0525 - val_accuracy: 0.8634\n",
            "Epoch 38/100\n",
            "3525/3525 [==============================] - 24s 7ms/step - loss: 0.0945 - accuracy: 0.9631 - val_loss: 1.0822 - val_accuracy: 0.8663\n",
            "Epoch 39/100\n",
            "3525/3525 [==============================] - 24s 7ms/step - loss: 0.0957 - accuracy: 0.9635 - val_loss: 1.0573 - val_accuracy: 0.8644\n",
            "Epoch 40/100\n",
            "3525/3525 [==============================] - 25s 7ms/step - loss: 0.0965 - accuracy: 0.9633 - val_loss: 1.0484 - val_accuracy: 0.8596\n",
            "Epoch 41/100\n",
            "3525/3525 [==============================] - 25s 7ms/step - loss: 0.0944 - accuracy: 0.9644 - val_loss: 1.0657 - val_accuracy: 0.8618\n",
            "Epoch 42/100\n",
            "3525/3525 [==============================] - 24s 7ms/step - loss: 0.0957 - accuracy: 0.9645 - val_loss: 1.2192 - val_accuracy: 0.8587\n",
            "Epoch 43/100\n",
            "3525/3525 [==============================] - 25s 7ms/step - loss: 0.0904 - accuracy: 0.9661 - val_loss: 1.1370 - val_accuracy: 0.8636\n",
            "Epoch 44/100\n",
            "3525/3525 [==============================] - 25s 7ms/step - loss: 0.0931 - accuracy: 0.9655 - val_loss: 1.0857 - val_accuracy: 0.8602\n",
            "Epoch 45/100\n",
            "3525/3525 [==============================] - 25s 7ms/step - loss: 0.0890 - accuracy: 0.9666 - val_loss: 1.2276 - val_accuracy: 0.8617\n",
            "Epoch 46/100\n",
            "3525/3525 [==============================] - 25s 7ms/step - loss: 0.0898 - accuracy: 0.9672 - val_loss: 1.1780 - val_accuracy: 0.8597\n",
            "Epoch 47/100\n",
            "3525/3525 [==============================] - 25s 7ms/step - loss: 0.0903 - accuracy: 0.9663 - val_loss: 1.1752 - val_accuracy: 0.8619\n",
            "Epoch 48/100\n",
            "3525/3525 [==============================] - 25s 7ms/step - loss: 0.0892 - accuracy: 0.9663 - val_loss: 1.2033 - val_accuracy: 0.8643\n",
            "Epoch 49/100\n",
            "3525/3525 [==============================] - 24s 7ms/step - loss: 0.0873 - accuracy: 0.9674 - val_loss: 1.2037 - val_accuracy: 0.8603\n",
            "Epoch 50/100\n",
            "3525/3525 [==============================] - 25s 7ms/step - loss: 0.0909 - accuracy: 0.9685 - val_loss: 1.2896 - val_accuracy: 0.8572\n",
            "Epoch 51/100\n",
            "3525/3525 [==============================] - 24s 7ms/step - loss: 0.0845 - accuracy: 0.9693 - val_loss: 1.3538 - val_accuracy: 0.8609\n",
            "Epoch 52/100\n",
            "3525/3525 [==============================] - 24s 7ms/step - loss: 0.0880 - accuracy: 0.9682 - val_loss: 1.3226 - val_accuracy: 0.8623\n",
            "Epoch 53/100\n",
            "3525/3525 [==============================] - 24s 7ms/step - loss: 0.0843 - accuracy: 0.9701 - val_loss: 1.3646 - val_accuracy: 0.8621\n",
            "Epoch 54/100\n",
            "3525/3525 [==============================] - 25s 7ms/step - loss: 0.0890 - accuracy: 0.9687 - val_loss: 1.2960 - val_accuracy: 0.8600\n",
            "Epoch 55/100\n",
            "3525/3525 [==============================] - 25s 7ms/step - loss: 0.0828 - accuracy: 0.9704 - val_loss: 1.3679 - val_accuracy: 0.8596\n",
            "Epoch 56/100\n",
            "3525/3525 [==============================] - 25s 7ms/step - loss: 0.0861 - accuracy: 0.9696 - val_loss: 1.4198 - val_accuracy: 0.8598\n",
            "Epoch 57/100\n",
            "3525/3525 [==============================] - 24s 7ms/step - loss: 0.0831 - accuracy: 0.9705 - val_loss: 1.3801 - val_accuracy: 0.8594\n",
            "Epoch 58/100\n",
            "3525/3525 [==============================] - 25s 7ms/step - loss: 0.0886 - accuracy: 0.9697 - val_loss: 1.3534 - val_accuracy: 0.8569\n",
            "Epoch 59/100\n",
            "3525/3525 [==============================] - 25s 7ms/step - loss: 0.0824 - accuracy: 0.9713 - val_loss: 1.5309 - val_accuracy: 0.8615\n",
            "Epoch 60/100\n",
            "3525/3525 [==============================] - 25s 7ms/step - loss: 0.0787 - accuracy: 0.9721 - val_loss: 1.4785 - val_accuracy: 0.8593\n",
            "Epoch 61/100\n",
            "3525/3525 [==============================] - 25s 7ms/step - loss: 0.0806 - accuracy: 0.9727 - val_loss: 1.5366 - val_accuracy: 0.8603\n",
            "Epoch 62/100\n",
            "3525/3525 [==============================] - 25s 7ms/step - loss: 0.0834 - accuracy: 0.9720 - val_loss: 1.4648 - val_accuracy: 0.8591\n",
            "Epoch 63/100\n",
            "3525/3525 [==============================] - 24s 7ms/step - loss: 0.0804 - accuracy: 0.9729 - val_loss: 1.4291 - val_accuracy: 0.8594\n",
            "Epoch 64/100\n",
            "3525/3525 [==============================] - 25s 7ms/step - loss: 0.0822 - accuracy: 0.9722 - val_loss: 1.5569 - val_accuracy: 0.8585\n",
            "Epoch 65/100\n",
            "3525/3525 [==============================] - 24s 7ms/step - loss: 0.0787 - accuracy: 0.9736 - val_loss: 1.6118 - val_accuracy: 0.8623\n",
            "Epoch 66/100\n",
            "3525/3525 [==============================] - 24s 7ms/step - loss: 0.0845 - accuracy: 0.9732 - val_loss: 1.6021 - val_accuracy: 0.8591\n",
            "Epoch 67/100\n",
            "3525/3525 [==============================] - 24s 7ms/step - loss: 0.0789 - accuracy: 0.9740 - val_loss: 1.6909 - val_accuracy: 0.8605\n",
            "Epoch 68/100\n",
            "3525/3525 [==============================] - 25s 7ms/step - loss: 0.0744 - accuracy: 0.9743 - val_loss: 1.6619 - val_accuracy: 0.8570\n",
            "Epoch 69/100\n",
            "3525/3525 [==============================] - 24s 7ms/step - loss: 0.0828 - accuracy: 0.9729 - val_loss: 1.6719 - val_accuracy: 0.8595\n",
            "Epoch 70/100\n",
            "3525/3525 [==============================] - 24s 7ms/step - loss: 0.0776 - accuracy: 0.9749 - val_loss: 1.7761 - val_accuracy: 0.8579\n",
            "Epoch 71/100\n",
            "3525/3525 [==============================] - 25s 7ms/step - loss: 0.0767 - accuracy: 0.9744 - val_loss: 1.6136 - val_accuracy: 0.8574\n",
            "Epoch 72/100\n",
            "3525/3525 [==============================] - 25s 7ms/step - loss: 0.0775 - accuracy: 0.9748 - val_loss: 1.7677 - val_accuracy: 0.8582\n",
            "Epoch 73/100\n",
            "3525/3525 [==============================] - 24s 7ms/step - loss: 0.0795 - accuracy: 0.9744 - val_loss: 1.8815 - val_accuracy: 0.8570\n",
            "Epoch 74/100\n",
            "3525/3525 [==============================] - 25s 7ms/step - loss: 0.0791 - accuracy: 0.9749 - val_loss: 1.7529 - val_accuracy: 0.8579\n",
            "Epoch 75/100\n",
            "3525/3525 [==============================] - 25s 7ms/step - loss: 0.0776 - accuracy: 0.9749 - val_loss: 1.8229 - val_accuracy: 0.8585\n",
            "Epoch 76/100\n",
            "3525/3525 [==============================] - 25s 7ms/step - loss: 0.0768 - accuracy: 0.9751 - val_loss: 1.8037 - val_accuracy: 0.8557\n",
            "Epoch 77/100\n",
            "3525/3525 [==============================] - 24s 7ms/step - loss: 0.0748 - accuracy: 0.9756 - val_loss: 1.8868 - val_accuracy: 0.8587\n",
            "Epoch 78/100\n",
            "3525/3525 [==============================] - 24s 7ms/step - loss: 0.0790 - accuracy: 0.9759 - val_loss: 1.9066 - val_accuracy: 0.8582\n",
            "Epoch 79/100\n",
            "3525/3525 [==============================] - 24s 7ms/step - loss: 0.0775 - accuracy: 0.9760 - val_loss: 1.8019 - val_accuracy: 0.8565\n",
            "Epoch 80/100\n",
            "3525/3525 [==============================] - 24s 7ms/step - loss: 0.0731 - accuracy: 0.9771 - val_loss: 2.0589 - val_accuracy: 0.8575\n",
            "Epoch 81/100\n",
            "3525/3525 [==============================] - 24s 7ms/step - loss: 0.0786 - accuracy: 0.9758 - val_loss: 1.8311 - val_accuracy: 0.8611\n",
            "Epoch 82/100\n",
            "3525/3525 [==============================] - 24s 7ms/step - loss: 0.0752 - accuracy: 0.9768 - val_loss: 1.8862 - val_accuracy: 0.8565\n",
            "Epoch 83/100\n",
            "3525/3525 [==============================] - 25s 7ms/step - loss: 0.0710 - accuracy: 0.9773 - val_loss: 2.0278 - val_accuracy: 0.8598\n",
            "Epoch 84/100\n",
            "3525/3525 [==============================] - 25s 7ms/step - loss: 0.0795 - accuracy: 0.9764 - val_loss: 2.1728 - val_accuracy: 0.8557\n",
            "Epoch 85/100\n",
            "3525/3525 [==============================] - 24s 7ms/step - loss: 0.0772 - accuracy: 0.9765 - val_loss: 2.1142 - val_accuracy: 0.8573\n",
            "Epoch 86/100\n",
            "3525/3525 [==============================] - 25s 7ms/step - loss: 0.0745 - accuracy: 0.9772 - val_loss: 2.1533 - val_accuracy: 0.8599\n",
            "Epoch 87/100\n",
            "3525/3525 [==============================] - 25s 7ms/step - loss: 0.0739 - accuracy: 0.9778 - val_loss: 2.4603 - val_accuracy: 0.8581\n",
            "Epoch 88/100\n",
            "3525/3525 [==============================] - 25s 7ms/step - loss: 0.0792 - accuracy: 0.9772 - val_loss: 1.9738 - val_accuracy: 0.8564\n",
            "Epoch 89/100\n",
            "3525/3525 [==============================] - 24s 7ms/step - loss: 0.0840 - accuracy: 0.9765 - val_loss: 1.9913 - val_accuracy: 0.8591\n",
            "Epoch 90/100\n",
            "3525/3525 [==============================] - 24s 7ms/step - loss: 0.0727 - accuracy: 0.9786 - val_loss: 2.1813 - val_accuracy: 0.8582\n",
            "Epoch 91/100\n",
            "3525/3525 [==============================] - 24s 7ms/step - loss: 0.0723 - accuracy: 0.9785 - val_loss: 2.2595 - val_accuracy: 0.8597\n",
            "Epoch 92/100\n",
            "3525/3525 [==============================] - 25s 7ms/step - loss: 0.0764 - accuracy: 0.9776 - val_loss: 2.0593 - val_accuracy: 0.8580\n",
            "Epoch 93/100\n",
            "3525/3525 [==============================] - 25s 7ms/step - loss: 0.0759 - accuracy: 0.9783 - val_loss: 2.3392 - val_accuracy: 0.8569\n",
            "Epoch 94/100\n",
            "3525/3525 [==============================] - 24s 7ms/step - loss: 0.0789 - accuracy: 0.9776 - val_loss: 2.2007 - val_accuracy: 0.8600\n",
            "Epoch 95/100\n",
            "3525/3525 [==============================] - 25s 7ms/step - loss: 0.0743 - accuracy: 0.9788 - val_loss: 2.2543 - val_accuracy: 0.8585\n",
            "Epoch 96/100\n",
            "3525/3525 [==============================] - 25s 7ms/step - loss: 0.0767 - accuracy: 0.9784 - val_loss: 2.3416 - val_accuracy: 0.8627\n",
            "Epoch 97/100\n",
            "3525/3525 [==============================] - 25s 7ms/step - loss: 0.0714 - accuracy: 0.9791 - val_loss: 2.4424 - val_accuracy: 0.8600\n",
            "Epoch 98/100\n",
            "3525/3525 [==============================] - 25s 7ms/step - loss: 0.0758 - accuracy: 0.9794 - val_loss: 2.4782 - val_accuracy: 0.8569\n",
            "Epoch 99/100\n",
            "3525/3525 [==============================] - 25s 7ms/step - loss: 0.0812 - accuracy: 0.9785 - val_loss: 2.4339 - val_accuracy: 0.8565\n",
            "Epoch 100/100\n",
            "3525/3525 [==============================] - 25s 7ms/step - loss: 0.0738 - accuracy: 0.9798 - val_loss: 2.5186 - val_accuracy: 0.8565\n"
          ],
          "name": "stdout"
        }
      ]
    },
    {
      "cell_type": "code",
      "metadata": {
        "id": "-oiLIc1R_onV"
      },
      "source": [
        "model.save(BASE_SAVE_DIR + NAME + '/model.h5',save_format ='h5')"
      ],
      "execution_count": null,
      "outputs": []
    },
    {
      "cell_type": "code",
      "metadata": {
        "colab": {
          "base_uri": "https://localhost:8080/"
        },
        "id": "mKOjuse8Ksyb",
        "outputId": "01dbd050-e221-40d3-ddcd-c2ad11cf4c9f"
      },
      "source": [
        "train_evaluation = model.evaluate(x_train,y_train)\n",
        "val_evaluation = model.evaluate(x_test,y_test)"
      ],
      "execution_count": null,
      "outputs": [
        {
          "output_type": "stream",
          "text": [
            "3525/3525 [==============================] - 14s 4ms/step - loss: 0.0764 - accuracy: 0.9798\n",
            "588/588 [==============================] - 2s 4ms/step - loss: 2.5186 - accuracy: 0.8565\n"
          ],
          "name": "stdout"
        }
      ]
    },
    {
      "cell_type": "code",
      "metadata": {
        "colab": {
          "base_uri": "https://localhost:8080/"
        },
        "id": "wilCpwpHOGFW",
        "outputId": "eaa67c1b-e00b-4063-a12c-46cd5d4d238b"
      },
      "source": [
        "print(\"Loss of the model (train data) is - \" , train_evaluation[0])\n",
        "print(\"Accuracy of the model (train data) is - \" , train_evaluation[1]*100 , \"%\")\n",
        "print()\n",
        "print(\"Loss of the model (validation data) is - \" , val_evaluation[0])\n",
        "print(\"Accuracy of the model (validation data) is - \" , val_evaluation[1]*100 , \"%\")"
      ],
      "execution_count": null,
      "outputs": [
        {
          "output_type": "stream",
          "text": [
            "Loss of the model (train data) is -  0.07641539722681046\n",
            "Accuracy of the model (train data) is -  97.98049926757812 %\n",
            "\n",
            "Loss of the model (validation data) is -  2.5185985565185547\n",
            "Accuracy of the model (validation data) is -  85.65425276756287 %\n"
          ],
          "name": "stdout"
        }
      ]
    },
    {
      "cell_type": "code",
      "metadata": {
        "id": "JIgwqSUB_l5l"
      },
      "source": [
        "acc = history.history['accuracy']\n",
        "val_acc = history.history['val_accuracy']\n",
        "\n",
        "loss = history.history['loss']\n",
        "val_loss = history.history['val_loss']\n",
        "\n",
        "epochs_range = range(epoch)\n",
        "\n",
        "plt.figure(figsize=(8, 8))\n",
        "plt.subplot(1, 2, 1)\n",
        "plt.plot(epochs_range, acc, label='Training Accuracy')\n",
        "plt.plot(epochs_range, val_acc, label='Validation Accuracy')\n",
        "plt.legend(loc='lower right')\n",
        "plt.title('ACCURACY')\n",
        "\n",
        "plt.subplot(1, 2, 2)\n",
        "plt.plot(epochs_range, loss, label='Training Loss')\n",
        "plt.plot(epochs_range, val_loss, label='Validation Loss')\n",
        "plt.legend(loc='upper left')\n",
        "plt.title('LOSS')\n",
        "\n",
        "plt.savefig(BASE_SAVE_DIR + NAME +'/graph.jpg')\n",
        "plt.clf()\n",
        "plt.cla()\n",
        "plt.close()"
      ],
      "execution_count": null,
      "outputs": []
    },
    {
      "cell_type": "code",
      "metadata": {
        "id": "MdcpHurb_h6n"
      },
      "source": [
        "class_predictions = np.argmax(model.predict(x_test), axis=-1)\n",
        "\n",
        "emnist = \"0123456789ABCDEFGHIJKLMNOPQRSTUVWXYZabdefghnqrt\"\n",
        "\n",
        "predict_classes = [emnist[i] for i in class_predictions]\n",
        "actual_classes = [emnist[i] for i in np.argmax(y_test, axis=-1)]\n",
        "\n",
        "out_df = pd.DataFrame(np.vstack([predict_classes,actual_classes]).T,columns=[\"predicted_class\",\"actual_class\"])\n",
        "confusion_matrix = pd.crosstab(out_df[\"actual_class\"],out_df[\"predicted_class\"],rownames=[\"Actuals\"],colnames=[\"Predicted\"])\n",
        "plt.figure(figsize=(22, 19))\n",
        "sns.heatmap(confusion_matrix,cmap=\"Reds\",annot=True,fmt='d')\n",
        "\n",
        "plt.savefig(BASE_SAVE_DIR + NAME +'/confusion_matrix.jpg')\n",
        "plt.clf()\n",
        "plt.cla()\n",
        "plt.close()"
      ],
      "execution_count": null,
      "outputs": []
    },
    {
      "cell_type": "code",
      "metadata": {
        "id": "fldJboNSTxSl"
      },
      "source": [
        "from tensorflow.keras import backend as K\n",
        "K.clear_session()"
      ],
      "execution_count": null,
      "outputs": []
    },
    {
      "cell_type": "markdown",
      "metadata": {
        "id": "h4GCbCokBAyk"
      },
      "source": [
        "#Experiment 2"
      ]
    },
    {
      "cell_type": "code",
      "metadata": {
        "colab": {
          "base_uri": "https://localhost:8080/"
        },
        "id": "EBAvgtV6BAyu",
        "outputId": "1bbc23eb-4f0b-4441-ed7a-c2b04db62f59"
      },
      "source": [
        "epoch = 100\n",
        "optimizer = 'rmsprop'\n",
        "\n",
        "\n",
        "NAME = \"{}-optimizer-{}-epoch\".format(optimizer,epoch)\n",
        "\n",
        "BASE_SAVE_DIR = \"/content/drive/MyDrive/Emnist_Training/\"\n",
        "\n",
        "BASE_LOGS_DIR = \"/content/drive/MyDrive/Emnist_Training/logs\"\n",
        "\n",
        "tensorboard = TensorBoard(log_dir=\"{}/{}\".format(BASE_LOGS_DIR,NAME))\n",
        "\n",
        "#mcp_save = ModelCheckpoint(BASE_SAVE_DIR + NAME + '/cp_model.h5', save_best_only=True, monitor='val_loss',verbose=1, mode='auto')\n",
        "\n",
        "model.compile(optimizer=optimizer,\n",
        "              loss='categorical_crossentropy',\n",
        "              metrics=['accuracy'])\n",
        "              \n",
        "#history = model.fit(data_generator.flow(x_train,y_train),validation_data=(x_test,y_test), epochs=epoch, callbacks=[tensorboard])\n",
        "history = model.fit(x_train,y_train,validation_data=(x_test,y_test),batch_size=32, epochs=epoch, callbacks=[tensorboard])\n",
        "    "
      ],
      "execution_count": null,
      "outputs": [
        {
          "output_type": "stream",
          "text": [
            "Epoch 1/100\n",
            "3525/3525 [==============================] - 30s 8ms/step - loss: 0.0451 - accuracy: 0.9860 - val_loss: 3.0548 - val_accuracy: 0.8655\n",
            "Epoch 2/100\n",
            "3525/3525 [==============================] - 27s 8ms/step - loss: 0.0395 - accuracy: 0.9875 - val_loss: 3.1810 - val_accuracy: 0.8652\n",
            "Epoch 3/100\n",
            "3525/3525 [==============================] - 28s 8ms/step - loss: 0.0414 - accuracy: 0.9871 - val_loss: 3.1701 - val_accuracy: 0.8614\n",
            "Epoch 4/100\n",
            "3525/3525 [==============================] - 28s 8ms/step - loss: 0.0421 - accuracy: 0.9870 - val_loss: 3.3742 - val_accuracy: 0.8636\n",
            "Epoch 5/100\n",
            "3525/3525 [==============================] - 27s 8ms/step - loss: 0.0459 - accuracy: 0.9862 - val_loss: 3.4709 - val_accuracy: 0.8657\n",
            "Epoch 6/100\n",
            "3525/3525 [==============================] - 28s 8ms/step - loss: 0.0481 - accuracy: 0.9855 - val_loss: 3.4023 - val_accuracy: 0.8664\n",
            "Epoch 7/100\n",
            "3525/3525 [==============================] - 28s 8ms/step - loss: 0.0514 - accuracy: 0.9848 - val_loss: 3.4776 - val_accuracy: 0.8621\n",
            "Epoch 8/100\n",
            "3525/3525 [==============================] - 28s 8ms/step - loss: 0.0533 - accuracy: 0.9844 - val_loss: 3.1829 - val_accuracy: 0.8631\n",
            "Epoch 9/100\n",
            "3525/3525 [==============================] - 28s 8ms/step - loss: 0.0678 - accuracy: 0.9819 - val_loss: 3.1825 - val_accuracy: 0.8644\n",
            "Epoch 10/100\n",
            "3525/3525 [==============================] - 28s 8ms/step - loss: 0.0726 - accuracy: 0.9801 - val_loss: 2.8623 - val_accuracy: 0.8620\n",
            "Epoch 11/100\n",
            "3525/3525 [==============================] - 28s 8ms/step - loss: 0.0773 - accuracy: 0.9783 - val_loss: 2.8115 - val_accuracy: 0.8608\n",
            "Epoch 12/100\n",
            "3525/3525 [==============================] - 27s 8ms/step - loss: 0.0900 - accuracy: 0.9746 - val_loss: 2.7435 - val_accuracy: 0.8609\n",
            "Epoch 13/100\n",
            "3525/3525 [==============================] - 28s 8ms/step - loss: 0.1034 - accuracy: 0.9722 - val_loss: 2.2249 - val_accuracy: 0.8580\n",
            "Epoch 14/100\n",
            "3525/3525 [==============================] - 28s 8ms/step - loss: 0.1160 - accuracy: 0.9689 - val_loss: 2.1158 - val_accuracy: 0.8596\n",
            "Epoch 15/100\n",
            "3525/3525 [==============================] - 27s 8ms/step - loss: 0.1294 - accuracy: 0.9650 - val_loss: 1.9838 - val_accuracy: 0.8587\n",
            "Epoch 16/100\n",
            "3525/3525 [==============================] - 27s 8ms/step - loss: 0.1490 - accuracy: 0.9579 - val_loss: 1.8020 - val_accuracy: 0.8592\n",
            "Epoch 17/100\n",
            "3525/3525 [==============================] - 27s 8ms/step - loss: 0.1799 - accuracy: 0.9498 - val_loss: 1.4832 - val_accuracy: 0.8538\n",
            "Epoch 18/100\n",
            "3525/3525 [==============================] - 27s 8ms/step - loss: 0.2102 - accuracy: 0.9416 - val_loss: 1.3003 - val_accuracy: 0.8545\n",
            "Epoch 19/100\n",
            "3525/3525 [==============================] - 27s 8ms/step - loss: 0.2403 - accuracy: 0.9331 - val_loss: 1.4575 - val_accuracy: 0.8552\n",
            "Epoch 20/100\n",
            "3525/3525 [==============================] - 28s 8ms/step - loss: 0.3038 - accuracy: 0.9180 - val_loss: 1.1184 - val_accuracy: 0.8546\n",
            "Epoch 21/100\n",
            "3525/3525 [==============================] - 28s 8ms/step - loss: 0.3377 - accuracy: 0.9079 - val_loss: 0.9823 - val_accuracy: 0.8436\n",
            "Epoch 22/100\n",
            "3525/3525 [==============================] - 28s 8ms/step - loss: 0.3970 - accuracy: 0.8938 - val_loss: 1.0215 - val_accuracy: 0.8509\n",
            "Epoch 23/100\n",
            "3525/3525 [==============================] - 27s 8ms/step - loss: 0.4061 - accuracy: 0.8859 - val_loss: 0.6694 - val_accuracy: 0.8396\n",
            "Epoch 24/100\n",
            "3525/3525 [==============================] - 27s 8ms/step - loss: 0.4249 - accuracy: 0.8779 - val_loss: 0.8432 - val_accuracy: 0.8393\n",
            "Epoch 25/100\n",
            "3525/3525 [==============================] - 28s 8ms/step - loss: 0.4498 - accuracy: 0.8711 - val_loss: 0.6747 - val_accuracy: 0.8435\n",
            "Epoch 26/100\n",
            "3525/3525 [==============================] - 28s 8ms/step - loss: 0.4691 - accuracy: 0.8662 - val_loss: 0.5666 - val_accuracy: 0.8246\n",
            "Epoch 27/100\n",
            "3525/3525 [==============================] - 28s 8ms/step - loss: 0.4842 - accuracy: 0.8593 - val_loss: 0.8007 - val_accuracy: 0.8518\n",
            "Epoch 28/100\n",
            "3525/3525 [==============================] - 28s 8ms/step - loss: 0.4954 - accuracy: 0.8563 - val_loss: 0.6343 - val_accuracy: 0.8303\n",
            "Epoch 29/100\n",
            "3525/3525 [==============================] - 29s 8ms/step - loss: 0.5019 - accuracy: 0.8530 - val_loss: 0.8680 - val_accuracy: 0.8163\n",
            "Epoch 30/100\n",
            "3525/3525 [==============================] - 28s 8ms/step - loss: 0.5244 - accuracy: 0.8460 - val_loss: 0.6355 - val_accuracy: 0.8393\n",
            "Epoch 31/100\n",
            "3525/3525 [==============================] - 27s 8ms/step - loss: 0.5355 - accuracy: 0.8424 - val_loss: 0.5287 - val_accuracy: 0.8353\n",
            "Epoch 32/100\n",
            "3525/3525 [==============================] - 28s 8ms/step - loss: 0.5173 - accuracy: 0.8448 - val_loss: 0.5992 - val_accuracy: 0.8334\n",
            "Epoch 33/100\n",
            "3525/3525 [==============================] - 28s 8ms/step - loss: 0.5238 - accuracy: 0.8415 - val_loss: 0.6846 - val_accuracy: 0.8328\n",
            "Epoch 34/100\n",
            "3525/3525 [==============================] - 28s 8ms/step - loss: 0.5294 - accuracy: 0.8408 - val_loss: 0.6127 - val_accuracy: 0.8143\n",
            "Epoch 35/100\n",
            "3525/3525 [==============================] - 28s 8ms/step - loss: 0.5269 - accuracy: 0.8403 - val_loss: 0.6132 - val_accuracy: 0.8163\n",
            "Epoch 36/100\n",
            "3525/3525 [==============================] - 27s 8ms/step - loss: 0.6395 - accuracy: 0.8392 - val_loss: 0.7421 - val_accuracy: 0.8208\n",
            "Epoch 37/100\n",
            "3525/3525 [==============================] - 28s 8ms/step - loss: 0.5350 - accuracy: 0.8385 - val_loss: 0.5714 - val_accuracy: 0.8250\n",
            "Epoch 38/100\n",
            "3525/3525 [==============================] - 27s 8ms/step - loss: 0.5392 - accuracy: 0.8378 - val_loss: 0.5336 - val_accuracy: 0.8325\n",
            "Epoch 39/100\n",
            "3525/3525 [==============================] - 27s 8ms/step - loss: 0.5497 - accuracy: 0.8361 - val_loss: 0.5978 - val_accuracy: 0.8174\n",
            "Epoch 40/100\n",
            "3525/3525 [==============================] - 28s 8ms/step - loss: 0.5838 - accuracy: 0.8350 - val_loss: 0.7145 - val_accuracy: 0.8250\n",
            "Epoch 41/100\n",
            "3525/3525 [==============================] - 27s 8ms/step - loss: 0.5454 - accuracy: 0.8361 - val_loss: 0.5552 - val_accuracy: 0.8268\n",
            "Epoch 42/100\n",
            "3525/3525 [==============================] - 28s 8ms/step - loss: 0.5915 - accuracy: 0.8338 - val_loss: 0.8761 - val_accuracy: 0.8393\n",
            "Epoch 43/100\n",
            "3525/3525 [==============================] - 28s 8ms/step - loss: 0.5934 - accuracy: 0.8351 - val_loss: 0.6210 - val_accuracy: 0.8103\n",
            "Epoch 44/100\n",
            "3525/3525 [==============================] - 28s 8ms/step - loss: 0.5532 - accuracy: 0.8326 - val_loss: 0.6638 - val_accuracy: 0.7969\n",
            "Epoch 45/100\n",
            "3525/3525 [==============================] - 27s 8ms/step - loss: 0.5785 - accuracy: 0.8298 - val_loss: 0.5932 - val_accuracy: 0.8331\n",
            "Epoch 46/100\n",
            "3525/3525 [==============================] - 27s 8ms/step - loss: 0.5657 - accuracy: 0.8292 - val_loss: 0.6351 - val_accuracy: 0.8341\n",
            "Epoch 47/100\n",
            "3525/3525 [==============================] - 28s 8ms/step - loss: 0.5774 - accuracy: 0.8274 - val_loss: 0.6345 - val_accuracy: 0.8196\n",
            "Epoch 48/100\n",
            "3525/3525 [==============================] - 28s 8ms/step - loss: 0.5902 - accuracy: 0.8244 - val_loss: 0.9417 - val_accuracy: 0.7157\n",
            "Epoch 49/100\n",
            "3525/3525 [==============================] - 27s 8ms/step - loss: 0.5778 - accuracy: 0.8260 - val_loss: 0.6264 - val_accuracy: 0.8170\n",
            "Epoch 50/100\n",
            "3525/3525 [==============================] - 27s 8ms/step - loss: 0.5986 - accuracy: 0.8262 - val_loss: 0.5794 - val_accuracy: 0.8284\n",
            "Epoch 51/100\n",
            "3525/3525 [==============================] - 27s 8ms/step - loss: 0.5826 - accuracy: 0.8264 - val_loss: 0.6369 - val_accuracy: 0.8045\n",
            "Epoch 52/100\n",
            "3525/3525 [==============================] - 28s 8ms/step - loss: 0.5944 - accuracy: 0.8249 - val_loss: 0.5834 - val_accuracy: 0.8212\n",
            "Epoch 53/100\n",
            "3525/3525 [==============================] - 27s 8ms/step - loss: 0.5914 - accuracy: 0.8218 - val_loss: 0.5456 - val_accuracy: 0.8278\n",
            "Epoch 54/100\n",
            "3525/3525 [==============================] - 28s 8ms/step - loss: 0.5887 - accuracy: 0.8226 - val_loss: 0.5771 - val_accuracy: 0.8198\n",
            "Epoch 55/100\n",
            "3525/3525 [==============================] - 27s 8ms/step - loss: 0.6097 - accuracy: 0.8196 - val_loss: 0.7025 - val_accuracy: 0.8100\n",
            "Epoch 56/100\n",
            "3525/3525 [==============================] - 27s 8ms/step - loss: 0.6143 - accuracy: 0.8191 - val_loss: 0.6776 - val_accuracy: 0.8155\n",
            "Epoch 57/100\n",
            "3525/3525 [==============================] - 28s 8ms/step - loss: 0.6156 - accuracy: 0.8192 - val_loss: 0.6020 - val_accuracy: 0.8158\n",
            "Epoch 58/100\n",
            "3525/3525 [==============================] - 28s 8ms/step - loss: 0.6339 - accuracy: 0.8170 - val_loss: 0.6156 - val_accuracy: 0.8099\n",
            "Epoch 59/100\n",
            "3525/3525 [==============================] - 27s 8ms/step - loss: 0.6225 - accuracy: 0.8180 - val_loss: 0.6487 - val_accuracy: 0.8176\n",
            "Epoch 60/100\n",
            "3525/3525 [==============================] - 27s 8ms/step - loss: 0.6682 - accuracy: 0.8150 - val_loss: 0.9659 - val_accuracy: 0.7997\n",
            "Epoch 61/100\n",
            "3525/3525 [==============================] - 28s 8ms/step - loss: 0.6271 - accuracy: 0.8151 - val_loss: 0.5957 - val_accuracy: 0.8246\n",
            "Epoch 62/100\n",
            "3525/3525 [==============================] - 28s 8ms/step - loss: 0.6397 - accuracy: 0.8126 - val_loss: 0.6524 - val_accuracy: 0.7959\n",
            "Epoch 63/100\n",
            "3525/3525 [==============================] - 28s 8ms/step - loss: 0.6504 - accuracy: 0.8139 - val_loss: 0.6939 - val_accuracy: 0.8194\n",
            "Epoch 64/100\n",
            "3525/3525 [==============================] - 28s 8ms/step - loss: 0.6340 - accuracy: 0.8127 - val_loss: 0.7087 - val_accuracy: 0.8060\n",
            "Epoch 65/100\n",
            "3525/3525 [==============================] - 28s 8ms/step - loss: 0.6487 - accuracy: 0.8097 - val_loss: 0.7195 - val_accuracy: 0.8154\n",
            "Epoch 66/100\n",
            "3525/3525 [==============================] - 28s 8ms/step - loss: 0.7277 - accuracy: 0.8115 - val_loss: 0.6460 - val_accuracy: 0.8119\n",
            "Epoch 67/100\n",
            "3525/3525 [==============================] - 28s 8ms/step - loss: 0.6637 - accuracy: 0.8064 - val_loss: 0.8439 - val_accuracy: 0.7622\n",
            "Epoch 68/100\n",
            "3525/3525 [==============================] - 28s 8ms/step - loss: 0.6791 - accuracy: 0.8037 - val_loss: 0.6620 - val_accuracy: 0.7968\n",
            "Epoch 69/100\n",
            "3525/3525 [==============================] - 28s 8ms/step - loss: 0.6685 - accuracy: 0.8030 - val_loss: 0.6270 - val_accuracy: 0.8148\n",
            "Epoch 70/100\n",
            "3525/3525 [==============================] - 28s 8ms/step - loss: 0.6702 - accuracy: 0.8036 - val_loss: 0.6559 - val_accuracy: 0.8109\n",
            "Epoch 71/100\n",
            "3525/3525 [==============================] - 28s 8ms/step - loss: 0.8831 - accuracy: 0.8017 - val_loss: 0.6707 - val_accuracy: 0.7941\n",
            "Epoch 72/100\n",
            "3525/3525 [==============================] - 28s 8ms/step - loss: 0.7076 - accuracy: 0.8008 - val_loss: 0.6586 - val_accuracy: 0.8056\n",
            "Epoch 73/100\n",
            "3525/3525 [==============================] - 28s 8ms/step - loss: 0.6805 - accuracy: 0.8000 - val_loss: 0.6954 - val_accuracy: 0.7860\n",
            "Epoch 74/100\n",
            "3525/3525 [==============================] - 28s 8ms/step - loss: 0.7052 - accuracy: 0.7954 - val_loss: 1.0094 - val_accuracy: 0.6934\n",
            "Epoch 75/100\n",
            "3525/3525 [==============================] - 28s 8ms/step - loss: 0.7202 - accuracy: 0.7940 - val_loss: 0.7043 - val_accuracy: 0.7915\n",
            "Epoch 76/100\n",
            "3525/3525 [==============================] - 28s 8ms/step - loss: 0.6994 - accuracy: 0.7963 - val_loss: 0.9229 - val_accuracy: 0.7830\n",
            "Epoch 77/100\n",
            "3525/3525 [==============================] - 28s 8ms/step - loss: 0.7080 - accuracy: 0.7951 - val_loss: 0.7545 - val_accuracy: 0.8107\n",
            "Epoch 78/100\n",
            "3525/3525 [==============================] - 28s 8ms/step - loss: 0.7192 - accuracy: 0.7965 - val_loss: 0.6612 - val_accuracy: 0.7937\n",
            "Epoch 79/100\n",
            "3525/3525 [==============================] - 28s 8ms/step - loss: 0.7076 - accuracy: 0.7965 - val_loss: 0.6851 - val_accuracy: 0.8009\n",
            "Epoch 80/100\n",
            "3525/3525 [==============================] - 28s 8ms/step - loss: 0.9226 - accuracy: 0.7934 - val_loss: 0.6755 - val_accuracy: 0.8014\n",
            "Epoch 81/100\n",
            "3525/3525 [==============================] - 28s 8ms/step - loss: 0.7375 - accuracy: 0.7940 - val_loss: 0.6887 - val_accuracy: 0.7997\n",
            "Epoch 82/100\n",
            "3525/3525 [==============================] - 28s 8ms/step - loss: 0.7408 - accuracy: 0.7936 - val_loss: 0.6547 - val_accuracy: 0.8098\n",
            "Epoch 83/100\n",
            "3525/3525 [==============================] - 28s 8ms/step - loss: 0.7245 - accuracy: 0.7907 - val_loss: 0.7400 - val_accuracy: 0.7737\n",
            "Epoch 84/100\n",
            "3525/3525 [==============================] - 28s 8ms/step - loss: 0.7193 - accuracy: 0.7925 - val_loss: 0.8520 - val_accuracy: 0.8072\n",
            "Epoch 85/100\n",
            "3525/3525 [==============================] - 28s 8ms/step - loss: 0.7415 - accuracy: 0.7933 - val_loss: 0.7449 - val_accuracy: 0.7898\n",
            "Epoch 86/100\n",
            "3525/3525 [==============================] - 29s 8ms/step - loss: 0.7620 - accuracy: 0.7885 - val_loss: 0.8657 - val_accuracy: 0.7807\n",
            "Epoch 87/100\n",
            "3525/3525 [==============================] - 29s 8ms/step - loss: 0.9498 - accuracy: 0.7887 - val_loss: 0.8054 - val_accuracy: 0.7641\n",
            "Epoch 88/100\n",
            "3525/3525 [==============================] - 28s 8ms/step - loss: 0.7371 - accuracy: 0.7897 - val_loss: 1.0104 - val_accuracy: 0.7180\n",
            "Epoch 89/100\n",
            "3525/3525 [==============================] - 28s 8ms/step - loss: 0.7461 - accuracy: 0.7875 - val_loss: 0.7810 - val_accuracy: 0.7581\n",
            "Epoch 90/100\n",
            "3525/3525 [==============================] - 28s 8ms/step - loss: 0.7388 - accuracy: 0.7887 - val_loss: 0.7932 - val_accuracy: 0.7885\n",
            "Epoch 91/100\n",
            "3525/3525 [==============================] - 28s 8ms/step - loss: 0.7434 - accuracy: 0.7871 - val_loss: 0.6927 - val_accuracy: 0.8003\n",
            "Epoch 92/100\n",
            "3525/3525 [==============================] - 29s 8ms/step - loss: 0.8943 - accuracy: 0.7860 - val_loss: 0.8677 - val_accuracy: 0.7890\n",
            "Epoch 93/100\n",
            "3525/3525 [==============================] - 28s 8ms/step - loss: 0.7909 - accuracy: 0.7848 - val_loss: 0.8291 - val_accuracy: 0.7751\n",
            "Epoch 94/100\n",
            "3525/3525 [==============================] - 29s 8ms/step - loss: 0.7672 - accuracy: 0.7836 - val_loss: 0.7334 - val_accuracy: 0.7769\n",
            "Epoch 95/100\n",
            "3525/3525 [==============================] - 28s 8ms/step - loss: 0.7925 - accuracy: 0.7840 - val_loss: 0.7960 - val_accuracy: 0.7997\n",
            "Epoch 96/100\n",
            "3525/3525 [==============================] - 29s 8ms/step - loss: 0.7884 - accuracy: 0.7790 - val_loss: 0.7549 - val_accuracy: 0.7780\n",
            "Epoch 97/100\n",
            "3525/3525 [==============================] - 28s 8ms/step - loss: 0.7781 - accuracy: 0.7811 - val_loss: 1.0325 - val_accuracy: 0.7876\n",
            "Epoch 98/100\n",
            "3525/3525 [==============================] - 28s 8ms/step - loss: 0.8134 - accuracy: 0.7790 - val_loss: 0.7885 - val_accuracy: 0.7738\n",
            "Epoch 99/100\n",
            "3525/3525 [==============================] - 29s 8ms/step - loss: 0.7984 - accuracy: 0.7806 - val_loss: 1.2232 - val_accuracy: 0.6663\n",
            "Epoch 100/100\n",
            "3525/3525 [==============================] - 29s 8ms/step - loss: 0.7815 - accuracy: 0.7844 - val_loss: 0.9498 - val_accuracy: 0.7448\n"
          ],
          "name": "stdout"
        }
      ]
    },
    {
      "cell_type": "code",
      "metadata": {
        "id": "Gx8cdZjqBAyv"
      },
      "source": [
        "model.save(BASE_SAVE_DIR + NAME + '/model.h5',save_format ='h5')"
      ],
      "execution_count": null,
      "outputs": []
    },
    {
      "cell_type": "code",
      "metadata": {
        "colab": {
          "base_uri": "https://localhost:8080/"
        },
        "id": "q-Ms6NmnS2dc",
        "outputId": "2c175c63-576d-4aa4-cd5a-e77cfcfc66dd"
      },
      "source": [
        "train_evaluation = model.evaluate(x_train,y_train)\n",
        "val_evaluation = model.evaluate(x_test,y_test)"
      ],
      "execution_count": null,
      "outputs": [
        {
          "output_type": "stream",
          "text": [
            "3525/3525 [==============================] - 14s 4ms/step - loss: 0.8528 - accuracy: 0.7526\n",
            "588/588 [==============================] - 2s 4ms/step - loss: 0.9498 - accuracy: 0.7448\n"
          ],
          "name": "stdout"
        }
      ]
    },
    {
      "cell_type": "code",
      "metadata": {
        "colab": {
          "base_uri": "https://localhost:8080/"
        },
        "id": "MKHBAz3oS4VE",
        "outputId": "0ede5951-b441-4d97-e6e2-7abe349feecf"
      },
      "source": [
        "print(\"Loss of the model (train data) is - \" , train_evaluation[0])\n",
        "print(\"Accuracy of the model (train data) is - \" , train_evaluation[1]*100 , \"%\")\n",
        "print()\n",
        "print(\"Loss of the model (validation data) is - \" , val_evaluation[0])\n",
        "print(\"Accuracy of the model (validation data) is - \" , val_evaluation[1]*100 , \"%\")"
      ],
      "execution_count": null,
      "outputs": [
        {
          "output_type": "stream",
          "text": [
            "Loss of the model (train data) is -  0.8528062105178833\n",
            "Accuracy of the model (train data) is -  75.26329755783081 %\n",
            "\n",
            "Loss of the model (validation data) is -  0.9498245120048523\n",
            "Accuracy of the model (validation data) is -  74.47872161865234 %\n"
          ],
          "name": "stdout"
        }
      ]
    },
    {
      "cell_type": "code",
      "metadata": {
        "id": "FtzhvL9zBAyv"
      },
      "source": [
        "acc = history.history['accuracy']\n",
        "val_acc = history.history['val_accuracy']\n",
        "\n",
        "loss = history.history['loss']\n",
        "val_loss = history.history['val_loss']\n",
        "\n",
        "epochs_range = range(epoch)\n",
        "\n",
        "plt.figure(figsize=(8, 8))\n",
        "plt.subplot(1, 2, 1)\n",
        "plt.plot(epochs_range, acc, label='Training Accuracy')\n",
        "plt.plot(epochs_range, val_acc, label='Validation Accuracy')\n",
        "plt.legend(loc='lower right')\n",
        "plt.title('ACCURACY')\n",
        "\n",
        "plt.subplot(1, 2, 2)\n",
        "plt.plot(epochs_range, loss, label='Training Loss')\n",
        "plt.plot(epochs_range, val_loss, label='Validation Loss')\n",
        "plt.legend(loc='upper left')\n",
        "plt.title('LOSS')\n",
        "\n",
        "plt.savefig(BASE_SAVE_DIR + NAME +'/graph.jpg')\n",
        "plt.clf()\n",
        "plt.cla()\n",
        "plt.close()"
      ],
      "execution_count": null,
      "outputs": []
    },
    {
      "cell_type": "code",
      "metadata": {
        "id": "TedlErEwBAyv"
      },
      "source": [
        "class_predictions = np.argmax(model.predict(x_test), axis=-1)\n",
        "\n",
        "emnist = \"0123456789ABCDEFGHIJKLMNOPQRSTUVWXYZabdefghnqrt\"\n",
        "\n",
        "predict_classes = [emnist[i] for i in class_predictions]\n",
        "actual_classes = [emnist[i] for i in np.argmax(y_test, axis=-1)]\n",
        "\n",
        "out_df = pd.DataFrame(np.vstack([predict_classes,actual_classes]).T,columns=[\"predicted_class\",\"actual_class\"])\n",
        "confusion_matrix = pd.crosstab(out_df[\"actual_class\"],out_df[\"predicted_class\"],rownames=[\"Actuals\"],colnames=[\"Predicted\"])\n",
        "plt.figure(figsize=(22, 19))\n",
        "sns.heatmap(confusion_matrix,cmap=\"Reds\",annot=True,fmt='d')\n",
        "\n",
        "plt.savefig(BASE_SAVE_DIR + NAME +'/confusion_matrix.jpg')\n",
        "plt.clf()\n",
        "plt.cla()\n",
        "plt.close()"
      ],
      "execution_count": null,
      "outputs": []
    },
    {
      "cell_type": "code",
      "metadata": {
        "id": "VvC75M_oTwF5"
      },
      "source": [
        "from tensorflow.keras import backend as K\n",
        "K.clear_session()"
      ],
      "execution_count": null,
      "outputs": []
    },
    {
      "cell_type": "markdown",
      "metadata": {
        "id": "qxmloPEYBGLg"
      },
      "source": [
        "#Experiment 3"
      ]
    },
    {
      "cell_type": "code",
      "metadata": {
        "colab": {
          "base_uri": "https://localhost:8080/"
        },
        "id": "T-gURIpiBGLh",
        "outputId": "e204408d-1c4b-48b6-ff2b-a7ffe7c945c2"
      },
      "source": [
        "epoch = 100\n",
        "optimizer = 'adamax'\n",
        "\n",
        "\n",
        "NAME = \"{}-optimizer-{}-epoch\".format(optimizer,epoch)\n",
        "\n",
        "BASE_SAVE_DIR = \"/content/drive/MyDrive/Emnist_Training/\"\n",
        "\n",
        "BASE_LOGS_DIR = \"/content/drive/MyDrive/Emnist_Training/logs\"\n",
        "\n",
        "tensorboard = TensorBoard(log_dir=\"{}/{}\".format(BASE_LOGS_DIR,NAME))\n",
        "\n",
        "#mcp_save = ModelCheckpoint(BASE_SAVE_DIR + NAME + '/cp_model.h5', save_best_only=True, monitor='val_loss',verbose=1, mode='auto')\n",
        "\n",
        "model.compile(optimizer=optimizer,\n",
        "              loss='categorical_crossentropy',\n",
        "              metrics=['accuracy'])\n",
        "              \n",
        "#history = model.fit(data_generator.flow(x_train,y_train),validation_data=(x_test,y_test), epochs=epoch, callbacks=[tensorboard])\n",
        "history = model.fit(x_train,y_train,validation_data=(x_test,y_test), batch_size=32, epochs=epoch, callbacks=[tensorboard])\n",
        "    "
      ],
      "execution_count": null,
      "outputs": [
        {
          "output_type": "stream",
          "text": [
            "Epoch 1/100\n",
            "3525/3525 [==============================] - 31s 7ms/step - loss: 0.8363 - accuracy: 0.7424 - val_loss: 0.5011 - val_accuracy: 0.8323\n",
            "Epoch 2/100\n",
            "3525/3525 [==============================] - 23s 6ms/step - loss: 0.4352 - accuracy: 0.8480 - val_loss: 0.4383 - val_accuracy: 0.8510\n",
            "Epoch 3/100\n",
            "3525/3525 [==============================] - 24s 7ms/step - loss: 0.3676 - accuracy: 0.8688 - val_loss: 0.3924 - val_accuracy: 0.8620\n",
            "Epoch 4/100\n",
            "3525/3525 [==============================] - 24s 7ms/step - loss: 0.3297 - accuracy: 0.8806 - val_loss: 0.4010 - val_accuracy: 0.8617\n",
            "Epoch 5/100\n",
            "3525/3525 [==============================] - 23s 6ms/step - loss: 0.3036 - accuracy: 0.8872 - val_loss: 0.3695 - val_accuracy: 0.8708\n",
            "Epoch 6/100\n",
            "3525/3525 [==============================] - 24s 7ms/step - loss: 0.2818 - accuracy: 0.8936 - val_loss: 0.3620 - val_accuracy: 0.8737\n",
            "Epoch 7/100\n",
            "3525/3525 [==============================] - 23s 6ms/step - loss: 0.2607 - accuracy: 0.9017 - val_loss: 0.3619 - val_accuracy: 0.8778\n",
            "Epoch 8/100\n",
            "3525/3525 [==============================] - 23s 7ms/step - loss: 0.2438 - accuracy: 0.9058 - val_loss: 0.3547 - val_accuracy: 0.8771\n",
            "Epoch 9/100\n",
            "3525/3525 [==============================] - 24s 7ms/step - loss: 0.2293 - accuracy: 0.9106 - val_loss: 0.3590 - val_accuracy: 0.8787\n",
            "Epoch 10/100\n",
            "3525/3525 [==============================] - 23s 7ms/step - loss: 0.2152 - accuracy: 0.9153 - val_loss: 0.3673 - val_accuracy: 0.8773\n",
            "Epoch 11/100\n",
            "3525/3525 [==============================] - 23s 6ms/step - loss: 0.2020 - accuracy: 0.9192 - val_loss: 0.3781 - val_accuracy: 0.8790\n",
            "Epoch 12/100\n",
            "3525/3525 [==============================] - 23s 7ms/step - loss: 0.1889 - accuracy: 0.9235 - val_loss: 0.3814 - val_accuracy: 0.8748\n",
            "Epoch 13/100\n",
            "3525/3525 [==============================] - 23s 7ms/step - loss: 0.1783 - accuracy: 0.9273 - val_loss: 0.3900 - val_accuracy: 0.8780\n",
            "Epoch 14/100\n",
            "3525/3525 [==============================] - 23s 7ms/step - loss: 0.1674 - accuracy: 0.9312 - val_loss: 0.4018 - val_accuracy: 0.8759\n",
            "Epoch 15/100\n",
            "3525/3525 [==============================] - 24s 7ms/step - loss: 0.1580 - accuracy: 0.9349 - val_loss: 0.4161 - val_accuracy: 0.8757\n",
            "Epoch 16/100\n",
            "3525/3525 [==============================] - 24s 7ms/step - loss: 0.1482 - accuracy: 0.9382 - val_loss: 0.4403 - val_accuracy: 0.8731\n",
            "Epoch 17/100\n",
            "3525/3525 [==============================] - 23s 7ms/step - loss: 0.1393 - accuracy: 0.9419 - val_loss: 0.4692 - val_accuracy: 0.8731\n",
            "Epoch 18/100\n",
            "3525/3525 [==============================] - 24s 7ms/step - loss: 0.1326 - accuracy: 0.9439 - val_loss: 0.4879 - val_accuracy: 0.8715\n",
            "Epoch 19/100\n",
            "3525/3525 [==============================] - 24s 7ms/step - loss: 0.1238 - accuracy: 0.9480 - val_loss: 0.4933 - val_accuracy: 0.8738\n",
            "Epoch 20/100\n",
            "3525/3525 [==============================] - 23s 7ms/step - loss: 0.1175 - accuracy: 0.9503 - val_loss: 0.5197 - val_accuracy: 0.8713\n",
            "Epoch 21/100\n",
            "3525/3525 [==============================] - 23s 7ms/step - loss: 0.1112 - accuracy: 0.9530 - val_loss: 0.5496 - val_accuracy: 0.8688\n",
            "Epoch 22/100\n",
            "3525/3525 [==============================] - 23s 7ms/step - loss: 0.1041 - accuracy: 0.9558 - val_loss: 0.5792 - val_accuracy: 0.8693\n",
            "Epoch 23/100\n",
            "3525/3525 [==============================] - 23s 7ms/step - loss: 0.0983 - accuracy: 0.9585 - val_loss: 0.6016 - val_accuracy: 0.8710\n",
            "Epoch 24/100\n",
            "3525/3525 [==============================] - 24s 7ms/step - loss: 0.0937 - accuracy: 0.9602 - val_loss: 0.6314 - val_accuracy: 0.8665\n",
            "Epoch 25/100\n",
            "3525/3525 [==============================] - 23s 7ms/step - loss: 0.0881 - accuracy: 0.9620 - val_loss: 0.6585 - val_accuracy: 0.8695\n",
            "Epoch 26/100\n",
            "3525/3525 [==============================] - 24s 7ms/step - loss: 0.0844 - accuracy: 0.9642 - val_loss: 0.6697 - val_accuracy: 0.8698\n",
            "Epoch 27/100\n",
            "3525/3525 [==============================] - 24s 7ms/step - loss: 0.0793 - accuracy: 0.9664 - val_loss: 0.7117 - val_accuracy: 0.8659\n",
            "Epoch 28/100\n",
            "3525/3525 [==============================] - 24s 7ms/step - loss: 0.0758 - accuracy: 0.9680 - val_loss: 0.7345 - val_accuracy: 0.8657\n",
            "Epoch 29/100\n",
            "3525/3525 [==============================] - 23s 7ms/step - loss: 0.0718 - accuracy: 0.9696 - val_loss: 0.7775 - val_accuracy: 0.8644\n",
            "Epoch 30/100\n",
            "3525/3525 [==============================] - 24s 7ms/step - loss: 0.0692 - accuracy: 0.9708 - val_loss: 0.7769 - val_accuracy: 0.8708\n",
            "Epoch 31/100\n",
            "3525/3525 [==============================] - 24s 7ms/step - loss: 0.0670 - accuracy: 0.9717 - val_loss: 0.8409 - val_accuracy: 0.8653\n",
            "Epoch 32/100\n",
            "3525/3525 [==============================] - 23s 7ms/step - loss: 0.0630 - accuracy: 0.9735 - val_loss: 0.8378 - val_accuracy: 0.8650\n",
            "Epoch 33/100\n",
            "3525/3525 [==============================] - 24s 7ms/step - loss: 0.0610 - accuracy: 0.9747 - val_loss: 0.8857 - val_accuracy: 0.8599\n",
            "Epoch 34/100\n",
            "3525/3525 [==============================] - 24s 7ms/step - loss: 0.0577 - accuracy: 0.9760 - val_loss: 0.9242 - val_accuracy: 0.8647\n",
            "Epoch 35/100\n",
            "3525/3525 [==============================] - 23s 7ms/step - loss: 0.0555 - accuracy: 0.9769 - val_loss: 0.9523 - val_accuracy: 0.8645\n",
            "Epoch 36/100\n",
            "3525/3525 [==============================] - 23s 7ms/step - loss: 0.0543 - accuracy: 0.9774 - val_loss: 0.9360 - val_accuracy: 0.8651\n",
            "Epoch 37/100\n",
            "3525/3525 [==============================] - 23s 7ms/step - loss: 0.0518 - accuracy: 0.9787 - val_loss: 0.9856 - val_accuracy: 0.8625\n",
            "Epoch 38/100\n",
            "3525/3525 [==============================] - 24s 7ms/step - loss: 0.0502 - accuracy: 0.9788 - val_loss: 1.0004 - val_accuracy: 0.8640\n",
            "Epoch 39/100\n",
            "3525/3525 [==============================] - 24s 7ms/step - loss: 0.0489 - accuracy: 0.9795 - val_loss: 1.0461 - val_accuracy: 0.8656\n",
            "Epoch 40/100\n",
            "3525/3525 [==============================] - 23s 7ms/step - loss: 0.0465 - accuracy: 0.9812 - val_loss: 1.0698 - val_accuracy: 0.8640\n",
            "Epoch 41/100\n",
            "3525/3525 [==============================] - 23s 7ms/step - loss: 0.0460 - accuracy: 0.9808 - val_loss: 1.0908 - val_accuracy: 0.8596\n",
            "Epoch 42/100\n",
            "3525/3525 [==============================] - 23s 7ms/step - loss: 0.0446 - accuracy: 0.9814 - val_loss: 1.1202 - val_accuracy: 0.8638\n",
            "Epoch 43/100\n",
            "3525/3525 [==============================] - 23s 7ms/step - loss: 0.0435 - accuracy: 0.9819 - val_loss: 1.1443 - val_accuracy: 0.8617\n",
            "Epoch 44/100\n",
            "3525/3525 [==============================] - 23s 7ms/step - loss: 0.0424 - accuracy: 0.9825 - val_loss: 1.1589 - val_accuracy: 0.8594\n",
            "Epoch 45/100\n",
            "3525/3525 [==============================] - 23s 7ms/step - loss: 0.0407 - accuracy: 0.9831 - val_loss: 1.1725 - val_accuracy: 0.8635\n",
            "Epoch 46/100\n",
            "3525/3525 [==============================] - 24s 7ms/step - loss: 0.0400 - accuracy: 0.9833 - val_loss: 1.1656 - val_accuracy: 0.8605\n",
            "Epoch 47/100\n",
            "3525/3525 [==============================] - 24s 7ms/step - loss: 0.0384 - accuracy: 0.9842 - val_loss: 1.2010 - val_accuracy: 0.8614\n",
            "Epoch 48/100\n",
            "3525/3525 [==============================] - 23s 7ms/step - loss: 0.0373 - accuracy: 0.9845 - val_loss: 1.2128 - val_accuracy: 0.8620\n",
            "Epoch 49/100\n",
            "3525/3525 [==============================] - 24s 7ms/step - loss: 0.0362 - accuracy: 0.9850 - val_loss: 1.2495 - val_accuracy: 0.8614\n",
            "Epoch 50/100\n",
            "3525/3525 [==============================] - 24s 7ms/step - loss: 0.0368 - accuracy: 0.9847 - val_loss: 1.2727 - val_accuracy: 0.8616\n",
            "Epoch 51/100\n",
            "3525/3525 [==============================] - 24s 7ms/step - loss: 0.0343 - accuracy: 0.9861 - val_loss: 1.2911 - val_accuracy: 0.8637\n",
            "Epoch 52/100\n",
            "3525/3525 [==============================] - 23s 7ms/step - loss: 0.0334 - accuracy: 0.9864 - val_loss: 1.2934 - val_accuracy: 0.8587\n",
            "Epoch 53/100\n",
            "3525/3525 [==============================] - 23s 7ms/step - loss: 0.0341 - accuracy: 0.9861 - val_loss: 1.3066 - val_accuracy: 0.8587\n",
            "Epoch 54/100\n",
            "3525/3525 [==============================] - 23s 7ms/step - loss: 0.0325 - accuracy: 0.9869 - val_loss: 1.3502 - val_accuracy: 0.8614\n",
            "Epoch 55/100\n",
            "3525/3525 [==============================] - 23s 7ms/step - loss: 0.0315 - accuracy: 0.9872 - val_loss: 1.3534 - val_accuracy: 0.8598\n",
            "Epoch 56/100\n",
            "3525/3525 [==============================] - 24s 7ms/step - loss: 0.0313 - accuracy: 0.9873 - val_loss: 1.3640 - val_accuracy: 0.8604\n",
            "Epoch 57/100\n",
            "3525/3525 [==============================] - 24s 7ms/step - loss: 0.0302 - accuracy: 0.9877 - val_loss: 1.3947 - val_accuracy: 0.8614\n",
            "Epoch 58/100\n",
            "3525/3525 [==============================] - 23s 7ms/step - loss: 0.0291 - accuracy: 0.9880 - val_loss: 1.4228 - val_accuracy: 0.8585\n",
            "Epoch 59/100\n",
            "3525/3525 [==============================] - 24s 7ms/step - loss: 0.0285 - accuracy: 0.9884 - val_loss: 1.4018 - val_accuracy: 0.8623\n",
            "Epoch 60/100\n",
            "3525/3525 [==============================] - 23s 7ms/step - loss: 0.0271 - accuracy: 0.9893 - val_loss: 1.4362 - val_accuracy: 0.8607\n",
            "Epoch 61/100\n",
            "3525/3525 [==============================] - 23s 7ms/step - loss: 0.0268 - accuracy: 0.9897 - val_loss: 1.4710 - val_accuracy: 0.8607\n",
            "Epoch 62/100\n",
            "3525/3525 [==============================] - 24s 7ms/step - loss: 0.0270 - accuracy: 0.9894 - val_loss: 1.4626 - val_accuracy: 0.8596\n",
            "Epoch 63/100\n",
            "3525/3525 [==============================] - 23s 7ms/step - loss: 0.0253 - accuracy: 0.9902 - val_loss: 1.4638 - val_accuracy: 0.8640\n",
            "Epoch 64/100\n",
            "3525/3525 [==============================] - 23s 7ms/step - loss: 0.0242 - accuracy: 0.9907 - val_loss: 1.4855 - val_accuracy: 0.8604\n",
            "Epoch 65/100\n",
            "3525/3525 [==============================] - 24s 7ms/step - loss: 0.0238 - accuracy: 0.9904 - val_loss: 1.5114 - val_accuracy: 0.8597\n",
            "Epoch 66/100\n",
            "3525/3525 [==============================] - 23s 7ms/step - loss: 0.0236 - accuracy: 0.9907 - val_loss: 1.5458 - val_accuracy: 0.8597\n",
            "Epoch 67/100\n",
            "3525/3525 [==============================] - 24s 7ms/step - loss: 0.0221 - accuracy: 0.9915 - val_loss: 1.5328 - val_accuracy: 0.8591\n",
            "Epoch 68/100\n",
            "3525/3525 [==============================] - 23s 7ms/step - loss: 0.0209 - accuracy: 0.9919 - val_loss: 1.5830 - val_accuracy: 0.8604\n",
            "Epoch 69/100\n",
            "3525/3525 [==============================] - 24s 7ms/step - loss: 0.0207 - accuracy: 0.9922 - val_loss: 1.6003 - val_accuracy: 0.8615\n",
            "Epoch 70/100\n",
            "3525/3525 [==============================] - 24s 7ms/step - loss: 0.0204 - accuracy: 0.9921 - val_loss: 1.6269 - val_accuracy: 0.8620\n",
            "Epoch 71/100\n",
            "3525/3525 [==============================] - 23s 7ms/step - loss: 0.0199 - accuracy: 0.9925 - val_loss: 1.6260 - val_accuracy: 0.8590\n",
            "Epoch 72/100\n",
            "3525/3525 [==============================] - 23s 7ms/step - loss: 0.0186 - accuracy: 0.9930 - val_loss: 1.6596 - val_accuracy: 0.8573\n",
            "Epoch 73/100\n",
            "3525/3525 [==============================] - 23s 7ms/step - loss: 0.0179 - accuracy: 0.9934 - val_loss: 1.6296 - val_accuracy: 0.8606\n",
            "Epoch 74/100\n",
            "3525/3525 [==============================] - 24s 7ms/step - loss: 0.0177 - accuracy: 0.9932 - val_loss: 1.6695 - val_accuracy: 0.8599\n",
            "Epoch 75/100\n",
            "3525/3525 [==============================] - 24s 7ms/step - loss: 0.0172 - accuracy: 0.9936 - val_loss: 1.6927 - val_accuracy: 0.8588\n",
            "Epoch 76/100\n",
            "3525/3525 [==============================] - 24s 7ms/step - loss: 0.0159 - accuracy: 0.9940 - val_loss: 1.7439 - val_accuracy: 0.8576\n",
            "Epoch 77/100\n",
            "3525/3525 [==============================] - 23s 7ms/step - loss: 0.0164 - accuracy: 0.9943 - val_loss: 1.6997 - val_accuracy: 0.8581\n",
            "Epoch 78/100\n",
            "3525/3525 [==============================] - 24s 7ms/step - loss: 0.0161 - accuracy: 0.9939 - val_loss: 1.7558 - val_accuracy: 0.8588\n",
            "Epoch 79/100\n",
            "3525/3525 [==============================] - 24s 7ms/step - loss: 0.0141 - accuracy: 0.9949 - val_loss: 1.7717 - val_accuracy: 0.8594\n",
            "Epoch 80/100\n",
            "3525/3525 [==============================] - 24s 7ms/step - loss: 0.0151 - accuracy: 0.9946 - val_loss: 1.7524 - val_accuracy: 0.8565\n",
            "Epoch 81/100\n",
            "3525/3525 [==============================] - 25s 7ms/step - loss: 0.0143 - accuracy: 0.9948 - val_loss: 1.7666 - val_accuracy: 0.8603\n",
            "Epoch 82/100\n",
            "3525/3525 [==============================] - 24s 7ms/step - loss: 0.0146 - accuracy: 0.9948 - val_loss: 1.7952 - val_accuracy: 0.8599\n",
            "Epoch 83/100\n",
            "3525/3525 [==============================] - 24s 7ms/step - loss: 0.0125 - accuracy: 0.9954 - val_loss: 1.8007 - val_accuracy: 0.8602\n",
            "Epoch 84/100\n",
            "3525/3525 [==============================] - 24s 7ms/step - loss: 0.0132 - accuracy: 0.9955 - val_loss: 1.7921 - val_accuracy: 0.8583\n",
            "Epoch 85/100\n",
            "3525/3525 [==============================] - 24s 7ms/step - loss: 0.0119 - accuracy: 0.9959 - val_loss: 1.8759 - val_accuracy: 0.8586\n",
            "Epoch 86/100\n",
            "3525/3525 [==============================] - 24s 7ms/step - loss: 0.0123 - accuracy: 0.9959 - val_loss: 1.8395 - val_accuracy: 0.8582\n",
            "Epoch 87/100\n",
            "3525/3525 [==============================] - 24s 7ms/step - loss: 0.0113 - accuracy: 0.9959 - val_loss: 1.8770 - val_accuracy: 0.8568\n",
            "Epoch 88/100\n",
            "3525/3525 [==============================] - 24s 7ms/step - loss: 0.0107 - accuracy: 0.9963 - val_loss: 1.9004 - val_accuracy: 0.8565\n",
            "Epoch 89/100\n",
            "3525/3525 [==============================] - 24s 7ms/step - loss: 0.0115 - accuracy: 0.9961 - val_loss: 1.9355 - val_accuracy: 0.8595\n",
            "Epoch 90/100\n",
            "3525/3525 [==============================] - 24s 7ms/step - loss: 0.0105 - accuracy: 0.9963 - val_loss: 1.9229 - val_accuracy: 0.8568\n",
            "Epoch 91/100\n",
            "3525/3525 [==============================] - 24s 7ms/step - loss: 0.0102 - accuracy: 0.9968 - val_loss: 1.9421 - val_accuracy: 0.8580\n",
            "Epoch 92/100\n",
            "3525/3525 [==============================] - 24s 7ms/step - loss: 0.0101 - accuracy: 0.9965 - val_loss: 1.9919 - val_accuracy: 0.8582\n",
            "Epoch 93/100\n",
            "3525/3525 [==============================] - 24s 7ms/step - loss: 0.0099 - accuracy: 0.9966 - val_loss: 1.9978 - val_accuracy: 0.8598\n",
            "Epoch 94/100\n",
            "3525/3525 [==============================] - 24s 7ms/step - loss: 0.0090 - accuracy: 0.9970 - val_loss: 1.9916 - val_accuracy: 0.8584\n",
            "Epoch 95/100\n",
            "3525/3525 [==============================] - 24s 7ms/step - loss: 0.0093 - accuracy: 0.9970 - val_loss: 1.9635 - val_accuracy: 0.8604\n",
            "Epoch 96/100\n",
            "3525/3525 [==============================] - 24s 7ms/step - loss: 0.0084 - accuracy: 0.9972 - val_loss: 2.0235 - val_accuracy: 0.8592\n",
            "Epoch 97/100\n",
            "3525/3525 [==============================] - 24s 7ms/step - loss: 0.0089 - accuracy: 0.9973 - val_loss: 2.0098 - val_accuracy: 0.8564\n",
            "Epoch 98/100\n",
            "3525/3525 [==============================] - 24s 7ms/step - loss: 0.0087 - accuracy: 0.9971 - val_loss: 2.0229 - val_accuracy: 0.8599\n",
            "Epoch 99/100\n",
            "3525/3525 [==============================] - 24s 7ms/step - loss: 0.0088 - accuracy: 0.9970 - val_loss: 2.0472 - val_accuracy: 0.8601\n",
            "Epoch 100/100\n",
            "3525/3525 [==============================] - 24s 7ms/step - loss: 0.0081 - accuracy: 0.9977 - val_loss: 2.0576 - val_accuracy: 0.8582\n"
          ],
          "name": "stdout"
        }
      ]
    },
    {
      "cell_type": "code",
      "metadata": {
        "id": "prRCqDKsBGLh"
      },
      "source": [
        "model.save(BASE_SAVE_DIR + NAME + '/model.h5',save_format ='h5')"
      ],
      "execution_count": null,
      "outputs": []
    },
    {
      "cell_type": "code",
      "metadata": {
        "colab": {
          "base_uri": "https://localhost:8080/"
        },
        "id": "ANey8VACTCXi",
        "outputId": "8cec3e6b-087c-4151-e482-806585b06819"
      },
      "source": [
        "train_evaluation = model.evaluate(x_train,y_train)\n",
        "val_evaluation = model.evaluate(x_test,y_test)"
      ],
      "execution_count": null,
      "outputs": [
        {
          "output_type": "stream",
          "text": [
            "3525/3525 [==============================] - 13s 4ms/step - loss: 0.0062 - accuracy: 0.9980\n",
            "588/588 [==============================] - 2s 4ms/step - loss: 2.0576 - accuracy: 0.8582\n"
          ],
          "name": "stdout"
        }
      ]
    },
    {
      "cell_type": "code",
      "metadata": {
        "colab": {
          "base_uri": "https://localhost:8080/"
        },
        "id": "W5VDNsiRTA50",
        "outputId": "401f67ad-22e2-49ba-bbb5-246f74e73d72"
      },
      "source": [
        "print(\"Loss of the model (train data) is - \" , train_evaluation[0])\n",
        "print(\"Accuracy of the model (train data) is - \" , train_evaluation[1]*100 , \"%\")\n",
        "print()\n",
        "print(\"Loss of the model (validation data) is - \" , val_evaluation[0])\n",
        "print(\"Accuracy of the model (validation data) is - \" , val_evaluation[1]*100 , \"%\")"
      ],
      "execution_count": null,
      "outputs": [
        {
          "output_type": "stream",
          "text": [
            "Loss of the model (train data) is -  0.006245531607419252\n",
            "Accuracy of the model (train data) is -  99.80407953262329 %\n",
            "\n",
            "Loss of the model (validation data) is -  2.0576210021972656\n",
            "Accuracy of the model (validation data) is -  85.81914901733398 %\n"
          ],
          "name": "stdout"
        }
      ]
    },
    {
      "cell_type": "code",
      "metadata": {
        "id": "rEHYm67OBGLh"
      },
      "source": [
        "acc = history.history['accuracy']\n",
        "val_acc = history.history['val_accuracy']\n",
        "\n",
        "loss = history.history['loss']\n",
        "val_loss = history.history['val_loss']\n",
        "\n",
        "epochs_range = range(epoch)\n",
        "\n",
        "plt.figure(figsize=(8, 8))\n",
        "plt.subplot(1, 2, 1)\n",
        "plt.plot(epochs_range, acc, label='Training Accuracy')\n",
        "plt.plot(epochs_range, val_acc, label='Validation Accuracy')\n",
        "plt.legend(loc='lower right')\n",
        "plt.title('ACCURACY')\n",
        "\n",
        "plt.subplot(1, 2, 2)\n",
        "plt.plot(epochs_range, loss, label='Training Loss')\n",
        "plt.plot(epochs_range, val_loss, label='Validation Loss')\n",
        "plt.legend(loc='upper left')\n",
        "plt.title('LOSS')\n",
        "\n",
        "plt.savefig(BASE_SAVE_DIR + NAME +'/graph.jpg')\n",
        "plt.clf()\n",
        "plt.cla()\n",
        "plt.close()"
      ],
      "execution_count": null,
      "outputs": []
    },
    {
      "cell_type": "code",
      "metadata": {
        "id": "zrW2BBkvBGLi"
      },
      "source": [
        "class_predictions = np.argmax(model.predict(x_test), axis=-1)\n",
        "\n",
        "emnist = \"0123456789ABCDEFGHIJKLMNOPQRSTUVWXYZabdefghnqrt\"\n",
        "\n",
        "predict_classes = [emnist[i] for i in class_predictions]\n",
        "actual_classes = [emnist[i] for i in np.argmax(y_test, axis=-1)]\n",
        "\n",
        "out_df = pd.DataFrame(np.vstack([predict_classes,actual_classes]).T,columns=[\"predicted_class\",\"actual_class\"])\n",
        "confusion_matrix = pd.crosstab(out_df[\"actual_class\"],out_df[\"predicted_class\"],rownames=[\"Actuals\"],colnames=[\"Predicted\"])\n",
        "plt.figure(figsize=(22, 19))\n",
        "sns.heatmap(confusion_matrix,cmap=\"Reds\",annot=True,fmt='d')\n",
        "\n",
        "plt.savefig(BASE_SAVE_DIR + NAME +'/confusion_matrix.jpg')\n",
        "plt.clf()\n",
        "plt.cla()\n",
        "plt.close()"
      ],
      "execution_count": null,
      "outputs": []
    },
    {
      "cell_type": "code",
      "metadata": {
        "id": "6Xsfnhm_Tuvu"
      },
      "source": [
        "from tensorflow.keras import backend as K\n",
        "K.clear_session()"
      ],
      "execution_count": null,
      "outputs": []
    },
    {
      "cell_type": "markdown",
      "metadata": {
        "id": "KMHwCrRoBKlt"
      },
      "source": [
        "#Experiment 4"
      ]
    },
    {
      "cell_type": "code",
      "metadata": {
        "colab": {
          "base_uri": "https://localhost:8080/"
        },
        "id": "RIxG5UMoBKlu",
        "outputId": "afe5d947-3151-475b-b8fc-354a830d7346"
      },
      "source": [
        "epoch = 100\n",
        "optimizer = 'adam'\n",
        "\n",
        "\n",
        "NAME = \"{}-optimizer-{}-epoch\".format(optimizer,epoch)\n",
        "\n",
        "BASE_SAVE_DIR = \"/content/drive/MyDrive/Emnist_Training/\"\n",
        "\n",
        "BASE_LOGS_DIR = \"/content/drive/MyDrive/Emnist_Training/logs\"\n",
        "\n",
        "tensorboard = TensorBoard(log_dir=\"{}/{}\".format(BASE_LOGS_DIR,NAME))\n",
        "\n",
        "#mcp_save = ModelCheckpoint(BASE_SAVE_DIR + NAME + '/cp_model.h5', save_best_only=True, monitor='val_loss',verbose=1, mode='auto')\n",
        "\n",
        "model.compile(optimizer=optimizer,\n",
        "              loss='categorical_crossentropy',\n",
        "              metrics=['accuracy'])\n",
        "              \n",
        "history = model.fit(data_generator1.flow(x_train,y_train),validation_data=(x_test,y_test), epochs=epoch, callbacks=[tensorboard])\n",
        "#history = model.fit(x_train,y_train,validation_data=(x_test,y_test), epochs=epoch, callbacks=[tensorboard])\n",
        "    "
      ],
      "execution_count": null,
      "outputs": [
        {
          "output_type": "stream",
          "text": [
            "Epoch 1/100\n",
            "3525/3525 [==============================] - 59s 16ms/step - loss: 1.1861 - accuracy: 0.6289 - val_loss: 0.5929 - val_accuracy: 0.8028\n",
            "Epoch 2/100\n",
            "3525/3525 [==============================] - 55s 16ms/step - loss: 0.6717 - accuracy: 0.7714 - val_loss: 0.4832 - val_accuracy: 0.8285\n",
            "Epoch 3/100\n",
            "3525/3525 [==============================] - 54s 15ms/step - loss: 0.5888 - accuracy: 0.7971 - val_loss: 0.4740 - val_accuracy: 0.8373\n",
            "Epoch 4/100\n",
            "3525/3525 [==============================] - 54s 15ms/step - loss: 0.5458 - accuracy: 0.8109 - val_loss: 0.4441 - val_accuracy: 0.8452\n",
            "Epoch 5/100\n",
            "3525/3525 [==============================] - 54s 15ms/step - loss: 0.5188 - accuracy: 0.8193 - val_loss: 0.4171 - val_accuracy: 0.8556\n",
            "Epoch 6/100\n",
            "3525/3525 [==============================] - 56s 16ms/step - loss: 0.4982 - accuracy: 0.8246 - val_loss: 0.4177 - val_accuracy: 0.8593\n",
            "Epoch 7/100\n",
            "3525/3525 [==============================] - 56s 16ms/step - loss: 0.4836 - accuracy: 0.8293 - val_loss: 0.4222 - val_accuracy: 0.8537\n",
            "Epoch 8/100\n",
            "3525/3525 [==============================] - 55s 16ms/step - loss: 0.4728 - accuracy: 0.8337 - val_loss: 0.4294 - val_accuracy: 0.8510\n",
            "Epoch 9/100\n",
            "3525/3525 [==============================] - 55s 16ms/step - loss: 0.4661 - accuracy: 0.8364 - val_loss: 0.3833 - val_accuracy: 0.8654\n",
            "Epoch 10/100\n",
            "3525/3525 [==============================] - 55s 15ms/step - loss: 0.4552 - accuracy: 0.8382 - val_loss: 0.4048 - val_accuracy: 0.8580\n",
            "Epoch 11/100\n",
            "3525/3525 [==============================] - 55s 16ms/step - loss: 0.4506 - accuracy: 0.8403 - val_loss: 0.3793 - val_accuracy: 0.8655\n",
            "Epoch 12/100\n",
            "3525/3525 [==============================] - 55s 16ms/step - loss: 0.4412 - accuracy: 0.8427 - val_loss: 0.3934 - val_accuracy: 0.8608\n",
            "Epoch 13/100\n",
            "3525/3525 [==============================] - 55s 16ms/step - loss: 0.4391 - accuracy: 0.8445 - val_loss: 0.3831 - val_accuracy: 0.8647\n",
            "Epoch 14/100\n",
            "3525/3525 [==============================] - 54s 15ms/step - loss: 0.4317 - accuracy: 0.8464 - val_loss: 0.3773 - val_accuracy: 0.8670\n",
            "Epoch 15/100\n",
            "3525/3525 [==============================] - 55s 16ms/step - loss: 0.4317 - accuracy: 0.8462 - val_loss: 0.3689 - val_accuracy: 0.8716\n",
            "Epoch 16/100\n",
            "3525/3525 [==============================] - 55s 16ms/step - loss: 0.4297 - accuracy: 0.8466 - val_loss: 0.3807 - val_accuracy: 0.8665\n",
            "Epoch 17/100\n",
            "3525/3525 [==============================] - 57s 16ms/step - loss: 0.4243 - accuracy: 0.8483 - val_loss: 0.3793 - val_accuracy: 0.8674\n",
            "Epoch 18/100\n",
            "3525/3525 [==============================] - 57s 16ms/step - loss: 0.4204 - accuracy: 0.8499 - val_loss: 0.4351 - val_accuracy: 0.8492\n",
            "Epoch 19/100\n",
            "3525/3525 [==============================] - 56s 16ms/step - loss: 0.4168 - accuracy: 0.8506 - val_loss: 0.3902 - val_accuracy: 0.8637\n",
            "Epoch 20/100\n",
            "3525/3525 [==============================] - 57s 16ms/step - loss: 0.4190 - accuracy: 0.8500 - val_loss: 0.3937 - val_accuracy: 0.8595\n",
            "Epoch 21/100\n",
            "3525/3525 [==============================] - 59s 17ms/step - loss: 0.4136 - accuracy: 0.8518 - val_loss: 0.3834 - val_accuracy: 0.8650\n",
            "Epoch 22/100\n",
            "3525/3525 [==============================] - 58s 16ms/step - loss: 0.4135 - accuracy: 0.8519 - val_loss: 0.3843 - val_accuracy: 0.8672\n",
            "Epoch 23/100\n",
            "3525/3525 [==============================] - 58s 17ms/step - loss: 0.4113 - accuracy: 0.8533 - val_loss: 0.3695 - val_accuracy: 0.8671\n",
            "Epoch 24/100\n",
            "3525/3525 [==============================] - 59s 17ms/step - loss: 0.4077 - accuracy: 0.8533 - val_loss: 0.4024 - val_accuracy: 0.8608\n",
            "Epoch 25/100\n",
            "3525/3525 [==============================] - 59s 17ms/step - loss: 0.4092 - accuracy: 0.8534 - val_loss: 0.3828 - val_accuracy: 0.8700\n",
            "Epoch 26/100\n",
            "3525/3525 [==============================] - 59s 17ms/step - loss: 0.4088 - accuracy: 0.8538 - val_loss: 0.3717 - val_accuracy: 0.8706\n",
            "Epoch 27/100\n",
            "3525/3525 [==============================] - 60s 17ms/step - loss: 0.4052 - accuracy: 0.8540 - val_loss: 0.3776 - val_accuracy: 0.8728\n",
            "Epoch 28/100\n",
            "3525/3525 [==============================] - 59s 17ms/step - loss: 0.4059 - accuracy: 0.8549 - val_loss: 0.4043 - val_accuracy: 0.8610\n",
            "Epoch 29/100\n",
            "3525/3525 [==============================] - 59s 17ms/step - loss: 0.4018 - accuracy: 0.8549 - val_loss: 0.3971 - val_accuracy: 0.8629\n",
            "Epoch 30/100\n",
            "3525/3525 [==============================] - 55s 15ms/step - loss: 0.4001 - accuracy: 0.8559 - val_loss: 0.3899 - val_accuracy: 0.8649\n",
            "Epoch 31/100\n",
            "3525/3525 [==============================] - 54s 15ms/step - loss: 0.3975 - accuracy: 0.8566 - val_loss: 0.3934 - val_accuracy: 0.8642\n",
            "Epoch 32/100\n",
            "3525/3525 [==============================] - 55s 15ms/step - loss: 0.4028 - accuracy: 0.8550 - val_loss: 0.3809 - val_accuracy: 0.8673\n",
            "Epoch 33/100\n",
            "3525/3525 [==============================] - 56s 16ms/step - loss: 0.4020 - accuracy: 0.8553 - val_loss: 0.3796 - val_accuracy: 0.8695\n",
            "Epoch 34/100\n",
            "3525/3525 [==============================] - 54s 15ms/step - loss: 0.3983 - accuracy: 0.8569 - val_loss: 0.3848 - val_accuracy: 0.8655\n",
            "Epoch 35/100\n",
            "3525/3525 [==============================] - 54s 15ms/step - loss: 0.3985 - accuracy: 0.8561 - val_loss: 0.3846 - val_accuracy: 0.8653\n",
            "Epoch 36/100\n",
            "3525/3525 [==============================] - 55s 16ms/step - loss: 0.3982 - accuracy: 0.8567 - val_loss: 0.3927 - val_accuracy: 0.8577\n",
            "Epoch 37/100\n",
            "3525/3525 [==============================] - 55s 16ms/step - loss: 0.3991 - accuracy: 0.8556 - val_loss: 0.3823 - val_accuracy: 0.8665\n",
            "Epoch 38/100\n",
            "3525/3525 [==============================] - 55s 16ms/step - loss: 0.3978 - accuracy: 0.8586 - val_loss: 0.3674 - val_accuracy: 0.8743\n",
            "Epoch 39/100\n",
            "3525/3525 [==============================] - 54s 15ms/step - loss: 0.3967 - accuracy: 0.8571 - val_loss: 0.4010 - val_accuracy: 0.8641\n",
            "Epoch 40/100\n",
            "3525/3525 [==============================] - 54s 15ms/step - loss: 0.3959 - accuracy: 0.8580 - val_loss: 0.3854 - val_accuracy: 0.8638\n",
            "Epoch 41/100\n",
            "3525/3525 [==============================] - 55s 16ms/step - loss: 0.3985 - accuracy: 0.8571 - val_loss: 0.3891 - val_accuracy: 0.8614\n",
            "Epoch 42/100\n",
            "3525/3525 [==============================] - 55s 16ms/step - loss: 0.3953 - accuracy: 0.8574 - val_loss: 0.3992 - val_accuracy: 0.8604\n",
            "Epoch 43/100\n",
            "3525/3525 [==============================] - 54s 15ms/step - loss: 0.3928 - accuracy: 0.8583 - val_loss: 0.3912 - val_accuracy: 0.8657\n",
            "Epoch 44/100\n",
            "3525/3525 [==============================] - 54s 15ms/step - loss: 0.3943 - accuracy: 0.8572 - val_loss: 0.3803 - val_accuracy: 0.8715\n",
            "Epoch 45/100\n",
            "3525/3525 [==============================] - 55s 16ms/step - loss: 0.3963 - accuracy: 0.8577 - val_loss: 0.3765 - val_accuracy: 0.8710\n",
            "Epoch 46/100\n",
            "3525/3525 [==============================] - 55s 15ms/step - loss: 0.3950 - accuracy: 0.8579 - val_loss: 0.3983 - val_accuracy: 0.8616\n",
            "Epoch 47/100\n",
            "3525/3525 [==============================] - 54s 15ms/step - loss: 0.3955 - accuracy: 0.8578 - val_loss: 0.3673 - val_accuracy: 0.8710\n",
            "Epoch 48/100\n",
            "3525/3525 [==============================] - 54s 15ms/step - loss: 0.3964 - accuracy: 0.8586 - val_loss: 0.3678 - val_accuracy: 0.8754\n",
            "Epoch 49/100\n",
            "3525/3525 [==============================] - 54s 15ms/step - loss: 0.3944 - accuracy: 0.8574 - val_loss: 0.3791 - val_accuracy: 0.8706\n",
            "Epoch 50/100\n",
            "3525/3525 [==============================] - 54s 15ms/step - loss: 0.3897 - accuracy: 0.8593 - val_loss: 0.3593 - val_accuracy: 0.8759\n",
            "Epoch 51/100\n",
            "3525/3525 [==============================] - 55s 15ms/step - loss: 0.3905 - accuracy: 0.8577 - val_loss: 0.3713 - val_accuracy: 0.8708\n",
            "Epoch 52/100\n",
            "3525/3525 [==============================] - 55s 15ms/step - loss: 0.3936 - accuracy: 0.8581 - val_loss: 0.3904 - val_accuracy: 0.8703\n",
            "Epoch 53/100\n",
            "3525/3525 [==============================] - 55s 16ms/step - loss: 0.3907 - accuracy: 0.8589 - val_loss: 0.3662 - val_accuracy: 0.8732\n",
            "Epoch 54/100\n",
            "3525/3525 [==============================] - 55s 15ms/step - loss: 0.3876 - accuracy: 0.8598 - val_loss: 0.4117 - val_accuracy: 0.8615\n",
            "Epoch 55/100\n",
            "3525/3525 [==============================] - 55s 15ms/step - loss: 0.3907 - accuracy: 0.8598 - val_loss: 0.4039 - val_accuracy: 0.8604\n",
            "Epoch 56/100\n",
            "3525/3525 [==============================] - 54s 15ms/step - loss: 0.3904 - accuracy: 0.8595 - val_loss: 0.4041 - val_accuracy: 0.8611\n",
            "Epoch 57/100\n",
            "3525/3525 [==============================] - 54s 15ms/step - loss: 0.3915 - accuracy: 0.8588 - val_loss: 0.3622 - val_accuracy: 0.8781\n",
            "Epoch 58/100\n",
            "3525/3525 [==============================] - 55s 15ms/step - loss: 0.3926 - accuracy: 0.8600 - val_loss: 0.3728 - val_accuracy: 0.8703\n",
            "Epoch 59/100\n",
            "3525/3525 [==============================] - 54s 15ms/step - loss: 0.3923 - accuracy: 0.8591 - val_loss: 0.3745 - val_accuracy: 0.8695\n",
            "Epoch 60/100\n",
            "3525/3525 [==============================] - 55s 15ms/step - loss: 0.3922 - accuracy: 0.8588 - val_loss: 0.3827 - val_accuracy: 0.8703\n",
            "Epoch 61/100\n",
            "3525/3525 [==============================] - 54s 15ms/step - loss: 0.3878 - accuracy: 0.8601 - val_loss: 0.3750 - val_accuracy: 0.8712\n",
            "Epoch 62/100\n",
            "3525/3525 [==============================] - 55s 16ms/step - loss: 0.3920 - accuracy: 0.8596 - val_loss: 0.3688 - val_accuracy: 0.8753\n",
            "Epoch 63/100\n",
            "3525/3525 [==============================] - 55s 16ms/step - loss: 0.3915 - accuracy: 0.8587 - val_loss: 0.3648 - val_accuracy: 0.8768\n",
            "Epoch 64/100\n",
            "3525/3525 [==============================] - 56s 16ms/step - loss: 0.3919 - accuracy: 0.8594 - val_loss: 0.3833 - val_accuracy: 0.8721\n",
            "Epoch 65/100\n",
            "3525/3525 [==============================] - 56s 16ms/step - loss: 0.3877 - accuracy: 0.8601 - val_loss: 0.4073 - val_accuracy: 0.8623\n",
            "Epoch 66/100\n",
            "3525/3525 [==============================] - 54s 15ms/step - loss: 0.3912 - accuracy: 0.8596 - val_loss: 0.3873 - val_accuracy: 0.8670\n",
            "Epoch 67/100\n",
            "3525/3525 [==============================] - 55s 15ms/step - loss: 0.3919 - accuracy: 0.8586 - val_loss: 0.4099 - val_accuracy: 0.8592\n",
            "Epoch 68/100\n",
            "3525/3525 [==============================] - 56s 16ms/step - loss: 0.3893 - accuracy: 0.8596 - val_loss: 0.4000 - val_accuracy: 0.8650\n",
            "Epoch 69/100\n",
            "3525/3525 [==============================] - 56s 16ms/step - loss: 0.3908 - accuracy: 0.8575 - val_loss: 0.3883 - val_accuracy: 0.8724\n",
            "Epoch 70/100\n",
            "3525/3525 [==============================] - 55s 16ms/step - loss: 0.3888 - accuracy: 0.8608 - val_loss: 0.3706 - val_accuracy: 0.8721\n",
            "Epoch 71/100\n",
            "3525/3525 [==============================] - 56s 16ms/step - loss: 0.3879 - accuracy: 0.8613 - val_loss: 0.3707 - val_accuracy: 0.8728\n",
            "Epoch 72/100\n",
            "3525/3525 [==============================] - 55s 16ms/step - loss: 0.3896 - accuracy: 0.8604 - val_loss: 0.3965 - val_accuracy: 0.8687\n",
            "Epoch 73/100\n",
            "3525/3525 [==============================] - 56s 16ms/step - loss: 0.3910 - accuracy: 0.8594 - val_loss: 0.3956 - val_accuracy: 0.8668\n",
            "Epoch 74/100\n",
            "3525/3525 [==============================] - 56s 16ms/step - loss: 0.3910 - accuracy: 0.8605 - val_loss: 0.3737 - val_accuracy: 0.8742\n",
            "Epoch 75/100\n",
            "3525/3525 [==============================] - 56s 16ms/step - loss: 0.3893 - accuracy: 0.8607 - val_loss: 0.4089 - val_accuracy: 0.8607\n",
            "Epoch 76/100\n",
            "3525/3525 [==============================] - 55s 16ms/step - loss: 0.3887 - accuracy: 0.8601 - val_loss: 0.3679 - val_accuracy: 0.8768\n",
            "Epoch 77/100\n",
            "3525/3525 [==============================] - 55s 16ms/step - loss: 0.3896 - accuracy: 0.8596 - val_loss: 0.4082 - val_accuracy: 0.8660\n",
            "Epoch 78/100\n",
            "3525/3525 [==============================] - 56s 16ms/step - loss: 0.3878 - accuracy: 0.8602 - val_loss: 0.3864 - val_accuracy: 0.8685\n",
            "Epoch 79/100\n",
            "3525/3525 [==============================] - 55s 16ms/step - loss: 0.3881 - accuracy: 0.8600 - val_loss: 0.3722 - val_accuracy: 0.8734\n",
            "Epoch 80/100\n",
            "3525/3525 [==============================] - 55s 16ms/step - loss: 0.3881 - accuracy: 0.8597 - val_loss: 0.4055 - val_accuracy: 0.8659\n",
            "Epoch 81/100\n",
            "3525/3525 [==============================] - 55s 16ms/step - loss: 0.3889 - accuracy: 0.8598 - val_loss: 0.3895 - val_accuracy: 0.8702\n",
            "Epoch 82/100\n",
            "3525/3525 [==============================] - 55s 16ms/step - loss: 0.3891 - accuracy: 0.8611 - val_loss: 0.3877 - val_accuracy: 0.8716\n",
            "Epoch 83/100\n",
            "3525/3525 [==============================] - 57s 16ms/step - loss: 0.3882 - accuracy: 0.8604 - val_loss: 0.3830 - val_accuracy: 0.8702\n",
            "Epoch 84/100\n",
            "3525/3525 [==============================] - 55s 16ms/step - loss: 0.3846 - accuracy: 0.8607 - val_loss: 0.3871 - val_accuracy: 0.8682\n",
            "Epoch 85/100\n",
            "3525/3525 [==============================] - 56s 16ms/step - loss: 0.3935 - accuracy: 0.8603 - val_loss: 0.3985 - val_accuracy: 0.8701\n",
            "Epoch 86/100\n",
            "3525/3525 [==============================] - 57s 16ms/step - loss: 0.3896 - accuracy: 0.8603 - val_loss: 0.4192 - val_accuracy: 0.8577\n",
            "Epoch 87/100\n",
            "3525/3525 [==============================] - 57s 16ms/step - loss: 0.3868 - accuracy: 0.8612 - val_loss: 0.3705 - val_accuracy: 0.8755\n",
            "Epoch 88/100\n",
            "3525/3525 [==============================] - 56s 16ms/step - loss: 0.3866 - accuracy: 0.8599 - val_loss: 0.4027 - val_accuracy: 0.8632\n",
            "Epoch 89/100\n",
            "3525/3525 [==============================] - 57s 16ms/step - loss: 0.3881 - accuracy: 0.8603 - val_loss: 0.4029 - val_accuracy: 0.8718\n",
            "Epoch 90/100\n",
            "3525/3525 [==============================] - 56s 16ms/step - loss: 0.3888 - accuracy: 0.8611 - val_loss: 0.3954 - val_accuracy: 0.8672\n",
            "Epoch 91/100\n",
            "3525/3525 [==============================] - 56s 16ms/step - loss: 0.3914 - accuracy: 0.8589 - val_loss: 0.3908 - val_accuracy: 0.8683\n",
            "Epoch 92/100\n",
            "3525/3525 [==============================] - 56s 16ms/step - loss: 0.3907 - accuracy: 0.8604 - val_loss: 0.4258 - val_accuracy: 0.8606\n",
            "Epoch 93/100\n",
            "3525/3525 [==============================] - 56s 16ms/step - loss: 0.3907 - accuracy: 0.8596 - val_loss: 0.3974 - val_accuracy: 0.8677\n",
            "Epoch 94/100\n",
            "3525/3525 [==============================] - 56s 16ms/step - loss: 0.3879 - accuracy: 0.8604 - val_loss: 0.3788 - val_accuracy: 0.8772\n",
            "Epoch 95/100\n",
            "3525/3525 [==============================] - 56s 16ms/step - loss: 0.3904 - accuracy: 0.8595 - val_loss: 0.3830 - val_accuracy: 0.8730\n",
            "Epoch 96/100\n",
            "3525/3525 [==============================] - 56s 16ms/step - loss: 0.3866 - accuracy: 0.8610 - val_loss: 0.4072 - val_accuracy: 0.8627\n",
            "Epoch 97/100\n",
            "3525/3525 [==============================] - 57s 16ms/step - loss: 0.3871 - accuracy: 0.8605 - val_loss: 0.3675 - val_accuracy: 0.8738\n",
            "Epoch 98/100\n",
            "3525/3525 [==============================] - 57s 16ms/step - loss: 0.3871 - accuracy: 0.8623 - val_loss: 0.3931 - val_accuracy: 0.8676\n",
            "Epoch 99/100\n",
            "3525/3525 [==============================] - 57s 16ms/step - loss: 0.3852 - accuracy: 0.8609 - val_loss: 0.4079 - val_accuracy: 0.8649\n",
            "Epoch 100/100\n",
            "3525/3525 [==============================] - 56s 16ms/step - loss: 0.3888 - accuracy: 0.8606 - val_loss: 0.3765 - val_accuracy: 0.8726\n"
          ],
          "name": "stdout"
        }
      ]
    },
    {
      "cell_type": "code",
      "metadata": {
        "id": "FeOxDJLqBKlu"
      },
      "source": [
        "model.save(BASE_SAVE_DIR + NAME + '/model.h5',save_format ='h5')"
      ],
      "execution_count": null,
      "outputs": []
    },
    {
      "cell_type": "code",
      "metadata": {
        "colab": {
          "base_uri": "https://localhost:8080/"
        },
        "id": "2NONhOZeTE_g",
        "outputId": "f7368d65-7d59-407c-d436-4f80b337e4af"
      },
      "source": [
        "train_evaluation = model.evaluate(x_train,y_train)\n",
        "val_evaluation = model.evaluate(x_test,y_test)"
      ],
      "execution_count": null,
      "outputs": [
        {
          "output_type": "stream",
          "text": [
            "3525/3525 [==============================] - 13s 4ms/step - loss: 0.3058 - accuracy: 0.8851\n",
            "588/588 [==============================] - 2s 4ms/step - loss: 0.3765 - accuracy: 0.8726\n"
          ],
          "name": "stdout"
        }
      ]
    },
    {
      "cell_type": "code",
      "metadata": {
        "colab": {
          "base_uri": "https://localhost:8080/"
        },
        "id": "BwsePIbYTGmA",
        "outputId": "9c0deda3-aa23-432e-fe87-3d9f4d552d6e"
      },
      "source": [
        "print(\"Loss of the model (train data) is - \" , train_evaluation[0])\n",
        "print(\"Accuracy of the model (train data) is - \" , train_evaluation[1]*100 , \"%\")\n",
        "print()\n",
        "print(\"Loss of the model (validation data) is - \" , val_evaluation[0])\n",
        "print(\"Accuracy of the model (validation data) is - \" , val_evaluation[1]*100 , \"%\")"
      ],
      "execution_count": null,
      "outputs": [
        {
          "output_type": "stream",
          "text": [
            "Loss of the model (train data) is -  0.30576303601264954\n",
            "Accuracy of the model (train data) is -  88.50709199905396 %\n",
            "\n",
            "Loss of the model (validation data) is -  0.37647634744644165\n",
            "Accuracy of the model (validation data) is -  87.26063966751099 %\n"
          ],
          "name": "stdout"
        }
      ]
    },
    {
      "cell_type": "code",
      "metadata": {
        "id": "OaAfVvfrBKlu"
      },
      "source": [
        "acc = history.history['accuracy']\n",
        "val_acc = history.history['val_accuracy']\n",
        "\n",
        "loss = history.history['loss']\n",
        "val_loss = history.history['val_loss']\n",
        "\n",
        "epochs_range = range(epoch)\n",
        "\n",
        "plt.figure(figsize=(8, 8))\n",
        "plt.subplot(1, 2, 1)\n",
        "plt.plot(epochs_range, acc, label='Training Accuracy')\n",
        "plt.plot(epochs_range, val_acc, label='Validation Accuracy')\n",
        "plt.legend(loc='lower right')\n",
        "plt.title('ACCURACY')\n",
        "\n",
        "plt.subplot(1, 2, 2)\n",
        "plt.plot(epochs_range, loss, label='Training Loss')\n",
        "plt.plot(epochs_range, val_loss, label='Validation Loss')\n",
        "plt.legend(loc='upper left')\n",
        "plt.title('LOSS')\n",
        "\n",
        "plt.savefig(BASE_SAVE_DIR + NAME +'/graph.jpg')\n",
        "plt.clf()\n",
        "plt.cla()\n",
        "plt.close()"
      ],
      "execution_count": null,
      "outputs": []
    },
    {
      "cell_type": "code",
      "metadata": {
        "id": "DeDM8YxdBKlv"
      },
      "source": [
        "class_predictions = np.argmax(model.predict(x_test), axis=-1)\n",
        "\n",
        "emnist = \"0123456789ABCDEFGHIJKLMNOPQRSTUVWXYZabdefghnqrt\"\n",
        "\n",
        "predict_classes = [emnist[i] for i in class_predictions]\n",
        "actual_classes = [emnist[i] for i in np.argmax(y_test, axis=-1)]\n",
        "\n",
        "out_df = pd.DataFrame(np.vstack([predict_classes,actual_classes]).T,columns=[\"predicted_class\",\"actual_class\"])\n",
        "confusion_matrix = pd.crosstab(out_df[\"actual_class\"],out_df[\"predicted_class\"],rownames=[\"Actuals\"],colnames=[\"Predicted\"])\n",
        "plt.figure(figsize=(22, 19))\n",
        "sns.heatmap(confusion_matrix,cmap=\"Reds\",annot=True,fmt='d')\n",
        "\n",
        "plt.savefig(BASE_SAVE_DIR + NAME +'/confusion_matrix.jpg')\n",
        "plt.clf()\n",
        "plt.cla()\n",
        "plt.close()"
      ],
      "execution_count": null,
      "outputs": []
    },
    {
      "cell_type": "code",
      "metadata": {
        "id": "3fD12p86Tsz0"
      },
      "source": [
        "from tensorflow.keras import backend as K\n",
        "K.clear_session()"
      ],
      "execution_count": null,
      "outputs": []
    },
    {
      "cell_type": "code",
      "metadata": {
        "id": "89R22U4_53U0"
      },
      "source": [],
      "execution_count": null,
      "outputs": []
    },
    {
      "cell_type": "markdown",
      "metadata": {
        "id": "BmQ823DJFjZC"
      },
      "source": [
        "#Experiment 5"
      ]
    },
    {
      "cell_type": "code",
      "metadata": {
        "colab": {
          "base_uri": "https://localhost:8080/"
        },
        "id": "x43d7y2tFjZL",
        "outputId": "e14cb0ef-59a9-438b-ccb1-a9bd1f5006ad"
      },
      "source": [
        "epoch = 100\n",
        "optimizer = 'rmsprop'\n",
        "\n",
        "\n",
        "NAME = \"{}-optimizer-{}-epoch\".format(optimizer,epoch)\n",
        "\n",
        "BASE_SAVE_DIR = \"/content/drive/MyDrive/Emnist_Training/\"\n",
        "\n",
        "BASE_LOGS_DIR = \"/content/drive/MyDrive/Emnist_Training/logs\"\n",
        "\n",
        "tensorboard = TensorBoard(log_dir=\"{}/{}\".format(BASE_LOGS_DIR,NAME))\n",
        "\n",
        "#mcp_save = ModelCheckpoint(BASE_SAVE_DIR + NAME + '/cp_model.h5', save_best_only=True, monitor='val_loss',verbose=1, mode='auto')\n",
        "\n",
        "model.compile(optimizer=optimizer,\n",
        "              loss='categorical_crossentropy',\n",
        "              metrics=['accuracy'])\n",
        "              \n",
        "history = model.fit(data_generator1.flow(x_train,y_train),validation_data=(x_test,y_test), epochs=epoch, callbacks=[tensorboard])\n",
        "#history = model.fit(x_train,y_train,validation_data=(x_test,y_test), epochs=epoch, callbacks=[tensorboard])\n",
        "    "
      ],
      "execution_count": null,
      "outputs": [
        {
          "output_type": "stream",
          "text": [
            "Epoch 1/100\n",
            "3525/3525 [==============================] - 59s 16ms/step - loss: 1.2439 - accuracy: 0.6160 - val_loss: 0.6220 - val_accuracy: 0.7965\n",
            "Epoch 2/100\n",
            "3525/3525 [==============================] - 57s 16ms/step - loss: 0.6744 - accuracy: 0.7766 - val_loss: 0.4924 - val_accuracy: 0.8385\n",
            "Epoch 3/100\n",
            "3525/3525 [==============================] - 56s 16ms/step - loss: 0.6114 - accuracy: 0.7980 - val_loss: 0.5279 - val_accuracy: 0.8248\n",
            "Epoch 4/100\n",
            "3525/3525 [==============================] - 57s 16ms/step - loss: 0.6037 - accuracy: 0.8045 - val_loss: 0.4794 - val_accuracy: 0.8427\n",
            "Epoch 5/100\n",
            "3525/3525 [==============================] - 57s 16ms/step - loss: 0.6135 - accuracy: 0.8020 - val_loss: 0.5398 - val_accuracy: 0.8444\n",
            "Epoch 6/100\n",
            "3525/3525 [==============================] - 57s 16ms/step - loss: 0.6313 - accuracy: 0.7987 - val_loss: 0.6585 - val_accuracy: 0.8089\n",
            "Epoch 7/100\n",
            "3525/3525 [==============================] - 56s 16ms/step - loss: 0.6506 - accuracy: 0.7941 - val_loss: 1.2595 - val_accuracy: 0.8402\n",
            "Epoch 8/100\n",
            "3525/3525 [==============================] - 56s 16ms/step - loss: 0.6713 - accuracy: 0.7899 - val_loss: 0.5822 - val_accuracy: 0.8362\n",
            "Epoch 9/100\n",
            "3525/3525 [==============================] - 57s 16ms/step - loss: 0.6815 - accuracy: 0.7880 - val_loss: 0.6762 - val_accuracy: 0.8353\n",
            "Epoch 10/100\n",
            "3525/3525 [==============================] - 56s 16ms/step - loss: 0.6937 - accuracy: 0.7876 - val_loss: 0.7806 - val_accuracy: 0.8225\n",
            "Epoch 11/100\n",
            "3525/3525 [==============================] - 56s 16ms/step - loss: 0.6961 - accuracy: 0.7837 - val_loss: 0.7444 - val_accuracy: 0.8318\n",
            "Epoch 12/100\n",
            "3525/3525 [==============================] - 56s 16ms/step - loss: 0.7690 - accuracy: 0.7825 - val_loss: 0.6600 - val_accuracy: 0.8248\n",
            "Epoch 13/100\n",
            "3525/3525 [==============================] - 57s 16ms/step - loss: 0.7110 - accuracy: 0.7824 - val_loss: 2.0644 - val_accuracy: 0.8046\n",
            "Epoch 14/100\n",
            "3525/3525 [==============================] - 56s 16ms/step - loss: 0.7333 - accuracy: 0.7783 - val_loss: 1.3682 - val_accuracy: 0.8128\n",
            "Epoch 15/100\n",
            "3525/3525 [==============================] - 56s 16ms/step - loss: 0.7495 - accuracy: 0.7757 - val_loss: 1.0395 - val_accuracy: 0.8084\n",
            "Epoch 16/100\n",
            "3525/3525 [==============================] - 55s 16ms/step - loss: 0.7460 - accuracy: 0.7760 - val_loss: 0.8947 - val_accuracy: 0.8356\n",
            "Epoch 17/100\n",
            "3525/3525 [==============================] - 55s 16ms/step - loss: 0.8131 - accuracy: 0.7692 - val_loss: 1.2165 - val_accuracy: 0.7605\n",
            "Epoch 18/100\n",
            "3525/3525 [==============================] - 56s 16ms/step - loss: 0.8859 - accuracy: 0.7623 - val_loss: 1.2356 - val_accuracy: 0.8085\n",
            "Epoch 19/100\n",
            "3525/3525 [==============================] - 57s 16ms/step - loss: 0.8555 - accuracy: 0.7585 - val_loss: 0.6797 - val_accuracy: 0.8001\n",
            "Epoch 20/100\n",
            "3525/3525 [==============================] - 55s 16ms/step - loss: 0.8325 - accuracy: 0.7578 - val_loss: 4.3259 - val_accuracy: 0.8018\n",
            "Epoch 21/100\n",
            "3525/3525 [==============================] - 56s 16ms/step - loss: 0.8547 - accuracy: 0.7543 - val_loss: 0.8761 - val_accuracy: 0.8237\n",
            "Epoch 22/100\n",
            "3525/3525 [==============================] - 58s 16ms/step - loss: 0.8762 - accuracy: 0.7496 - val_loss: 0.9099 - val_accuracy: 0.7872\n",
            "Epoch 23/100\n",
            "3525/3525 [==============================] - 57s 16ms/step - loss: 0.8754 - accuracy: 0.7472 - val_loss: 1.0190 - val_accuracy: 0.7285\n",
            "Epoch 24/100\n",
            "3525/3525 [==============================] - 57s 16ms/step - loss: 0.9059 - accuracy: 0.7413 - val_loss: 0.8344 - val_accuracy: 0.8189\n",
            "Epoch 25/100\n",
            "3525/3525 [==============================] - 57s 16ms/step - loss: 0.9031 - accuracy: 0.7425 - val_loss: 1.0221 - val_accuracy: 0.7738\n",
            "Epoch 26/100\n",
            "3525/3525 [==============================] - 58s 16ms/step - loss: 0.9795 - accuracy: 0.7365 - val_loss: 1.6496 - val_accuracy: 0.8165\n",
            "Epoch 27/100\n",
            "3525/3525 [==============================] - 58s 16ms/step - loss: 0.9761 - accuracy: 0.7340 - val_loss: 1.6850 - val_accuracy: 0.8044\n",
            "Epoch 28/100\n",
            "3525/3525 [==============================] - 57s 16ms/step - loss: 1.0145 - accuracy: 0.7301 - val_loss: 1.3639 - val_accuracy: 0.8045\n",
            "Epoch 29/100\n",
            "3525/3525 [==============================] - 58s 16ms/step - loss: 1.0138 - accuracy: 0.7226 - val_loss: 1.1525 - val_accuracy: 0.7671\n",
            "Epoch 30/100\n",
            "3525/3525 [==============================] - 58s 16ms/step - loss: 1.0121 - accuracy: 0.7211 - val_loss: 0.9565 - val_accuracy: 0.7981\n",
            "Epoch 31/100\n",
            "3525/3525 [==============================] - 58s 16ms/step - loss: 1.0634 - accuracy: 0.7132 - val_loss: 1.1496 - val_accuracy: 0.7931\n",
            "Epoch 32/100\n",
            "3525/3525 [==============================] - 58s 16ms/step - loss: 1.0304 - accuracy: 0.7135 - val_loss: 1.9700 - val_accuracy: 0.7976\n",
            "Epoch 33/100\n",
            "3525/3525 [==============================] - 57s 16ms/step - loss: 1.0843 - accuracy: 0.7101 - val_loss: 1.0886 - val_accuracy: 0.7276\n",
            "Epoch 34/100\n",
            "3525/3525 [==============================] - 57s 16ms/step - loss: 1.1028 - accuracy: 0.7060 - val_loss: 1.0232 - val_accuracy: 0.7255\n",
            "Epoch 35/100\n",
            "3525/3525 [==============================] - 58s 17ms/step - loss: 1.0861 - accuracy: 0.7052 - val_loss: 2.0682 - val_accuracy: 0.5697\n",
            "Epoch 36/100\n",
            "3525/3525 [==============================] - 58s 16ms/step - loss: 1.1610 - accuracy: 0.7014 - val_loss: 1.8743 - val_accuracy: 0.7774\n",
            "Epoch 37/100\n",
            "3525/3525 [==============================] - 58s 16ms/step - loss: 1.2036 - accuracy: 0.6971 - val_loss: 1.9849 - val_accuracy: 0.7829\n",
            "Epoch 38/100\n",
            "3525/3525 [==============================] - 58s 16ms/step - loss: 1.1737 - accuracy: 0.6937 - val_loss: 1.1412 - val_accuracy: 0.7287\n",
            "Epoch 39/100\n",
            "3525/3525 [==============================] - 58s 16ms/step - loss: 1.1474 - accuracy: 0.6904 - val_loss: 1.1541 - val_accuracy: 0.7812\n",
            "Epoch 40/100\n",
            "3525/3525 [==============================] - 58s 17ms/step - loss: 1.3342 - accuracy: 0.6855 - val_loss: 1.2570 - val_accuracy: 0.7629\n",
            "Epoch 41/100\n",
            "3525/3525 [==============================] - 58s 17ms/step - loss: 1.2416 - accuracy: 0.6829 - val_loss: 2.3910 - val_accuracy: 0.7670\n",
            "Epoch 42/100\n",
            "3525/3525 [==============================] - 58s 17ms/step - loss: 1.2256 - accuracy: 0.6763 - val_loss: 1.5116 - val_accuracy: 0.7771\n",
            "Epoch 43/100\n",
            "3525/3525 [==============================] - 58s 16ms/step - loss: 1.2304 - accuracy: 0.6782 - val_loss: 2.1190 - val_accuracy: 0.7619\n",
            "Epoch 44/100\n",
            "3525/3525 [==============================] - 58s 17ms/step - loss: 1.2626 - accuracy: 0.6753 - val_loss: 5.2946 - val_accuracy: 0.7046\n",
            "Epoch 45/100\n",
            "3525/3525 [==============================] - 57s 16ms/step - loss: 1.2697 - accuracy: 0.6749 - val_loss: 1.9023 - val_accuracy: 0.7439\n",
            "Epoch 46/100\n",
            "3525/3525 [==============================] - 58s 17ms/step - loss: 1.2942 - accuracy: 0.6645 - val_loss: 1.8352 - val_accuracy: 0.7802\n",
            "Epoch 47/100\n",
            "3525/3525 [==============================] - 57s 16ms/step - loss: 1.3450 - accuracy: 0.6570 - val_loss: 2.2125 - val_accuracy: 0.7373\n",
            "Epoch 48/100\n",
            "3525/3525 [==============================] - 57s 16ms/step - loss: 1.3641 - accuracy: 0.6474 - val_loss: 1.5801 - val_accuracy: 0.7342\n",
            "Epoch 49/100\n",
            "3525/3525 [==============================] - 57s 16ms/step - loss: 1.3552 - accuracy: 0.6482 - val_loss: 1.6961 - val_accuracy: 0.7645\n",
            "Epoch 50/100\n",
            "3525/3525 [==============================] - 58s 16ms/step - loss: 1.5787 - accuracy: 0.6443 - val_loss: 7.7434 - val_accuracy: 0.6747\n",
            "Epoch 51/100\n",
            "3525/3525 [==============================] - 57s 16ms/step - loss: 1.4103 - accuracy: 0.6383 - val_loss: 7.7222 - val_accuracy: 0.7148\n",
            "Epoch 52/100\n",
            "3525/3525 [==============================] - 58s 16ms/step - loss: 1.5128 - accuracy: 0.6330 - val_loss: 2.4512 - val_accuracy: 0.7498\n",
            "Epoch 53/100\n",
            "3525/3525 [==============================] - 58s 16ms/step - loss: 1.4012 - accuracy: 0.6356 - val_loss: 1.5130 - val_accuracy: 0.7497\n",
            "Epoch 54/100\n",
            "3525/3525 [==============================] - 58s 16ms/step - loss: 1.5430 - accuracy: 0.6305 - val_loss: 2.8897 - val_accuracy: 0.7615\n",
            "Epoch 55/100\n",
            "3525/3525 [==============================] - 58s 16ms/step - loss: 1.7061 - accuracy: 0.6310 - val_loss: 2.8441 - val_accuracy: 0.6304\n",
            "Epoch 56/100\n",
            "3525/3525 [==============================] - 58s 16ms/step - loss: 1.4953 - accuracy: 0.6291 - val_loss: 2.8624 - val_accuracy: 0.7115\n",
            "Epoch 57/100\n",
            "3525/3525 [==============================] - 58s 16ms/step - loss: 1.5327 - accuracy: 0.6327 - val_loss: 2.0593 - val_accuracy: 0.6856\n",
            "Epoch 58/100\n",
            "3525/3525 [==============================] - 57s 16ms/step - loss: 1.4291 - accuracy: 0.6313 - val_loss: 18.9578 - val_accuracy: 0.6218\n",
            "Epoch 59/100\n",
            "3525/3525 [==============================] - 57s 16ms/step - loss: 1.4561 - accuracy: 0.6232 - val_loss: 2.4582 - val_accuracy: 0.7487\n",
            "Epoch 60/100\n",
            "3525/3525 [==============================] - 57s 16ms/step - loss: 1.5941 - accuracy: 0.6252 - val_loss: 2.6015 - val_accuracy: 0.7106\n",
            "Epoch 61/100\n",
            "3525/3525 [==============================] - 57s 16ms/step - loss: 1.6900 - accuracy: 0.6203 - val_loss: 4.6576 - val_accuracy: 0.7097\n",
            "Epoch 62/100\n",
            "3525/3525 [==============================] - 57s 16ms/step - loss: 1.5227 - accuracy: 0.6216 - val_loss: 2.5679 - val_accuracy: 0.7378\n",
            "Epoch 63/100\n",
            "3525/3525 [==============================] - 57s 16ms/step - loss: 1.9520 - accuracy: 0.6251 - val_loss: 2.6102 - val_accuracy: 0.7118\n",
            "Epoch 64/100\n",
            "3525/3525 [==============================] - 57s 16ms/step - loss: 1.5041 - accuracy: 0.6173 - val_loss: 5.5524 - val_accuracy: 0.6968\n",
            "Epoch 65/100\n",
            "3525/3525 [==============================] - 57s 16ms/step - loss: 1.7688 - accuracy: 0.6147 - val_loss: 2.2570 - val_accuracy: 0.7261\n",
            "Epoch 66/100\n",
            "3525/3525 [==============================] - 57s 16ms/step - loss: 1.5186 - accuracy: 0.6151 - val_loss: 5.3548 - val_accuracy: 0.5827\n",
            "Epoch 67/100\n",
            "3525/3525 [==============================] - 58s 16ms/step - loss: 1.6363 - accuracy: 0.6086 - val_loss: 1.8310 - val_accuracy: 0.7089\n",
            "Epoch 68/100\n",
            "3525/3525 [==============================] - 57s 16ms/step - loss: 1.5522 - accuracy: 0.6080 - val_loss: 2.5101 - val_accuracy: 0.5366\n",
            "Epoch 69/100\n",
            "3525/3525 [==============================] - 58s 16ms/step - loss: 1.5755 - accuracy: 0.6125 - val_loss: 9.1891 - val_accuracy: 0.6826\n",
            "Epoch 70/100\n",
            "3525/3525 [==============================] - 57s 16ms/step - loss: 1.5207 - accuracy: 0.6110 - val_loss: 4.1867 - val_accuracy: 0.7184\n",
            "Epoch 71/100\n",
            "3525/3525 [==============================] - 58s 16ms/step - loss: 1.6257 - accuracy: 0.6064 - val_loss: 3.1927 - val_accuracy: 0.7384\n",
            "Epoch 72/100\n",
            "3525/3525 [==============================] - 57s 16ms/step - loss: 1.5958 - accuracy: 0.6041 - val_loss: 2.1908 - val_accuracy: 0.7334\n",
            "Epoch 73/100\n",
            "3525/3525 [==============================] - 57s 16ms/step - loss: 1.5453 - accuracy: 0.6047 - val_loss: 2.6322 - val_accuracy: 0.6749\n",
            "Epoch 74/100\n",
            "3525/3525 [==============================] - 57s 16ms/step - loss: 2.9544 - accuracy: 0.6015 - val_loss: 1.3289 - val_accuracy: 0.6899\n",
            "Epoch 75/100\n",
            "3525/3525 [==============================] - 57s 16ms/step - loss: 1.5799 - accuracy: 0.6008 - val_loss: 1.6755 - val_accuracy: 0.7219\n",
            "Epoch 76/100\n",
            "3525/3525 [==============================] - 57s 16ms/step - loss: 1.6280 - accuracy: 0.5963 - val_loss: 1.4527 - val_accuracy: 0.7389\n",
            "Epoch 77/100\n",
            " 207/3525 [>.............................] - ETA: 51s - loss: 1.5842 - accuracy: 0.5959"
          ],
          "name": "stdout"
        }
      ]
    },
    {
      "cell_type": "code",
      "metadata": {
        "colab": {
          "background_save": true
        },
        "id": "fQ11pN4bFjZM"
      },
      "source": [
        "model.save(BASE_SAVE_DIR + NAME + '/model.h5',save_format ='h5')"
      ],
      "execution_count": null,
      "outputs": []
    },
    {
      "cell_type": "code",
      "metadata": {
        "colab": {
          "background_save": true
        },
        "id": "2w8TlV3-TJRz"
      },
      "source": [
        "train_evaluation = model.evaluate(x_train,y_train)\n",
        "val_evaluation = model.evaluate(x_test,y_test)"
      ],
      "execution_count": null,
      "outputs": []
    },
    {
      "cell_type": "code",
      "metadata": {
        "colab": {
          "background_save": true
        },
        "id": "PavvtqQxTH3I"
      },
      "source": [
        "print(\"Loss of the model (train data) is - \" , train_evaluation[0])\n",
        "print(\"Accuracy of the model (train data) is - \" , train_evaluation[1]*100 , \"%\")\n",
        "print()\n",
        "print(\"Loss of the model (validation data) is - \" , val_evaluation[0])\n",
        "print(\"Accuracy of the model (validation data) is - \" , val_evaluation[1]*100 , \"%\")"
      ],
      "execution_count": null,
      "outputs": []
    },
    {
      "cell_type": "code",
      "metadata": {
        "colab": {
          "background_save": true
        },
        "id": "n1IPH5HvFjZM"
      },
      "source": [
        "acc = history.history['accuracy']\n",
        "val_acc = history.history['val_accuracy']\n",
        "\n",
        "loss = history.history['loss']\n",
        "val_loss = history.history['val_loss']\n",
        "\n",
        "epochs_range = range(epoch)\n",
        "\n",
        "plt.figure(figsize=(8, 8))\n",
        "plt.subplot(1, 2, 1)\n",
        "plt.plot(epochs_range, acc, label='Training Accuracy')\n",
        "plt.plot(epochs_range, val_acc, label='Validation Accuracy')\n",
        "plt.legend(loc='lower right')\n",
        "plt.title('ACCURACY')\n",
        "\n",
        "plt.subplot(1, 2, 2)\n",
        "plt.plot(epochs_range, loss, label='Training Loss')\n",
        "plt.plot(epochs_range, val_loss, label='Validation Loss')\n",
        "plt.legend(loc='upper left')\n",
        "plt.title('LOSS')\n",
        "\n",
        "plt.savefig(BASE_SAVE_DIR + NAME +'/graph.jpg')\n",
        "plt.clf()\n",
        "plt.cla()\n",
        "plt.close()"
      ],
      "execution_count": null,
      "outputs": []
    },
    {
      "cell_type": "code",
      "metadata": {
        "colab": {
          "background_save": true
        },
        "id": "8c-XrGQ-FjZM"
      },
      "source": [
        "class_predictions = np.argmax(model.predict(x_test), axis=-1)\n",
        "\n",
        "emnist = \"0123456789ABCDEFGHIJKLMNOPQRSTUVWXYZabdefghnqrt\"\n",
        "\n",
        "predict_classes = [emnist[i] for i in class_predictions]\n",
        "actual_classes = [emnist[i] for i in np.argmax(y_test, axis=-1)]\n",
        "\n",
        "out_df = pd.DataFrame(np.vstack([predict_classes,actual_classes]).T,columns=[\"predicted_class\",\"actual_class\"])\n",
        "confusion_matrix = pd.crosstab(out_df[\"actual_class\"],out_df[\"predicted_class\"],rownames=[\"Actuals\"],colnames=[\"Predicted\"])\n",
        "plt.figure(figsize=(22, 19))\n",
        "sns.heatmap(confusion_matrix,cmap=\"Reds\",annot=True,fmt='d')\n",
        "\n",
        "plt.savefig(BASE_SAVE_DIR + NAME +'/confusion_matrix.jpg')\n",
        "plt.clf()\n",
        "plt.cla()\n",
        "plt.close()"
      ],
      "execution_count": null,
      "outputs": []
    },
    {
      "cell_type": "code",
      "metadata": {
        "colab": {
          "background_save": true
        },
        "id": "wU8_GtmgTrEk"
      },
      "source": [
        "from tensorflow.keras import backend as K\n",
        "K.clear_session()"
      ],
      "execution_count": null,
      "outputs": []
    },
    {
      "cell_type": "markdown",
      "metadata": {
        "id": "z4p2LxphFpGW"
      },
      "source": [
        "\n",
        "\n",
        "#Experiment 6"
      ]
    },
    {
      "cell_type": "code",
      "metadata": {
        "colab": {
          "background_save": true
        },
        "id": "66rLAtTmFpGW"
      },
      "source": [
        "epoch = 100\n",
        "optimizer = 'adamax'\n",
        "\n",
        "\n",
        "NAME = \"{}-optimizer-{}-epoch\".format(optimizer,epoch)\n",
        "\n",
        "BASE_SAVE_DIR = \"/content/drive/MyDrive/Emnist_Training/\"\n",
        "\n",
        "BASE_LOGS_DIR = \"/content/drive/MyDrive/Emnist_Training/logs\"\n",
        "\n",
        "tensorboard = TensorBoard(log_dir=\"{}/{}\".format(BASE_LOGS_DIR,NAME))\n",
        "\n",
        "#mcp_save = ModelCheckpoint(BASE_SAVE_DIR + NAME + '/cp_model.h5', save_best_only=True, monitor='val_loss',verbose=1, mode='auto')\n",
        "\n",
        "model.compile(optimizer=optimizer,\n",
        "              loss='categorical_crossentropy',\n",
        "              metrics=['accuracy'])\n",
        "              \n",
        "history = model.fit(data_generator1.flow(x_train,y_train),validation_data=(x_test,y_test), epochs=epoch, callbacks=[tensorboard])\n",
        "#history = model.fit(x_train,y_train,validation_data=(x_test,y_test), epochs=epoch, callbacks=[tensorboard])\n",
        "    "
      ],
      "execution_count": null,
      "outputs": []
    },
    {
      "cell_type": "code",
      "metadata": {
        "colab": {
          "background_save": true
        },
        "id": "Vb505u1uFpGX"
      },
      "source": [
        "model.save(BASE_SAVE_DIR + NAME + '/model.h5',save_format ='h5')"
      ],
      "execution_count": null,
      "outputs": []
    },
    {
      "cell_type": "code",
      "metadata": {
        "colab": {
          "background_save": true
        },
        "id": "2BLW-uvlTKYv"
      },
      "source": [
        "train_evaluation = model.evaluate(x_train,y_train)\n",
        "val_evaluation = model.evaluate(x_test,y_test)"
      ],
      "execution_count": null,
      "outputs": []
    },
    {
      "cell_type": "code",
      "metadata": {
        "colab": {
          "background_save": true
        },
        "id": "QznA3XjhTLxP"
      },
      "source": [
        "print(\"Loss of the model (train data) is - \" , train_evaluation[0])\n",
        "print(\"Accuracy of the model (train data) is - \" , train_evaluation[1]*100 , \"%\")\n",
        "print()\n",
        "print(\"Loss of the model (validation data) is - \" , val_evaluation[0])\n",
        "print(\"Accuracy of the model (validation data) is - \" , val_evaluation[1]*100 , \"%\")"
      ],
      "execution_count": null,
      "outputs": []
    },
    {
      "cell_type": "code",
      "metadata": {
        "colab": {
          "background_save": true
        },
        "id": "q6q7HSvBFpGX"
      },
      "source": [
        "acc = history.history['accuracy']\n",
        "val_acc = history.history['val_accuracy']\n",
        "\n",
        "loss = history.history['loss']\n",
        "val_loss = history.history['val_loss']\n",
        "\n",
        "epochs_range = range(epoch)\n",
        "\n",
        "plt.figure(figsize=(8, 8))\n",
        "plt.subplot(1, 2, 1)\n",
        "plt.plot(epochs_range, acc, label='Training Accuracy')\n",
        "plt.plot(epochs_range, val_acc, label='Validation Accuracy')\n",
        "plt.legend(loc='lower right')\n",
        "plt.title('ACCURACY')\n",
        "\n",
        "plt.subplot(1, 2, 2)\n",
        "plt.plot(epochs_range, loss, label='Training Loss')\n",
        "plt.plot(epochs_range, val_loss, label='Validation Loss')\n",
        "plt.legend(loc='upper left')\n",
        "plt.title('LOSS')\n",
        "\n",
        "plt.savefig(BASE_SAVE_DIR + NAME +'/graph.jpg')\n",
        "plt.clf()\n",
        "plt.cla()\n",
        "plt.close()"
      ],
      "execution_count": null,
      "outputs": []
    },
    {
      "cell_type": "code",
      "metadata": {
        "colab": {
          "background_save": true
        },
        "id": "TzDi5GppFpGX"
      },
      "source": [
        "class_predictions = np.argmax(model.predict(x_test), axis=-1)\n",
        "\n",
        "emnist = \"0123456789ABCDEFGHIJKLMNOPQRSTUVWXYZabdefghnqrt\"\n",
        "\n",
        "predict_classes = [emnist[i] for i in class_predictions]\n",
        "actual_classes = [emnist[i] for i in np.argmax(y_test, axis=-1)]\n",
        "\n",
        "out_df = pd.DataFrame(np.vstack([predict_classes,actual_classes]).T,columns=[\"predicted_class\",\"actual_class\"])\n",
        "confusion_matrix = pd.crosstab(out_df[\"actual_class\"],out_df[\"predicted_class\"],rownames=[\"Actuals\"],colnames=[\"Predicted\"])\n",
        "plt.figure(figsize=(22, 19))\n",
        "sns.heatmap(confusion_matrix,cmap=\"Reds\",annot=True,fmt='d')\n",
        "\n",
        "plt.savefig(BASE_SAVE_DIR + NAME +'/confusion_matrix.jpg')\n",
        "plt.clf()\n",
        "plt.cla()\n",
        "plt.close()"
      ],
      "execution_count": null,
      "outputs": []
    },
    {
      "cell_type": "code",
      "metadata": {
        "colab": {
          "background_save": true
        },
        "id": "2n6DqL0wTpP7"
      },
      "source": [
        "from tensorflow.keras import backend as K\n",
        "K.clear_session()"
      ],
      "execution_count": null,
      "outputs": []
    },
    {
      "cell_type": "markdown",
      "metadata": {
        "id": "bnPHWnO8JXtL"
      },
      "source": [
        "\n",
        "\n",
        "#Experiment 7"
      ]
    },
    {
      "cell_type": "code",
      "metadata": {
        "id": "CV6vEz0yJXtU"
      },
      "source": [
        "epoch = 100\n",
        "optimizer = 'adam'\n",
        "\n",
        "\n",
        "NAME = \"{}-optimizer-{}-epoch\".format(optimizer,epoch)\n",
        "\n",
        "BASE_SAVE_DIR = \"/content/drive/MyDrive/Emnist_Training/\"\n",
        "\n",
        "BASE_LOGS_DIR = \"/content/drive/MyDrive/Emnist_Training/logs\"\n",
        "\n",
        "tensorboard = TensorBoard(log_dir=\"{}/{}\".format(BASE_LOGS_DIR,NAME))\n",
        "\n",
        "#mcp_save = ModelCheckpoint(BASE_SAVE_DIR + NAME + '/cp_model.h5', save_best_only=True, monitor='val_loss',verbose=1, mode='auto')\n",
        "\n",
        "model.compile(optimizer=optimizer,\n",
        "              loss='categorical_crossentropy',\n",
        "              metrics=['accuracy'])\n",
        "              \n",
        "history = model.fit(data_generator2.flow(x_train,y_train),validation_data=(x_test,y_test), epochs=epoch, callbacks=[tensorboard])\n",
        "#history = model.fit(x_train,y_train,validation_data=(x_test,y_test), epochs=epoch, callbacks=[tensorboard])\n",
        "    "
      ],
      "execution_count": null,
      "outputs": []
    },
    {
      "cell_type": "code",
      "metadata": {
        "id": "MzlE0g1LJXtV"
      },
      "source": [
        "model.save(BASE_SAVE_DIR + NAME + '/model.h5',save_format ='h5')"
      ],
      "execution_count": null,
      "outputs": []
    },
    {
      "cell_type": "code",
      "metadata": {
        "id": "Hv5uupEQTOkQ"
      },
      "source": [
        "train_evaluation = model.evaluate(x_train,y_train)\n",
        "val_evaluation = model.evaluate(x_test,y_test)"
      ],
      "execution_count": null,
      "outputs": []
    },
    {
      "cell_type": "code",
      "metadata": {
        "id": "mJuRHCeZTNI1"
      },
      "source": [
        "print(\"Loss of the model (train data) is - \" , train_evaluation[0])\n",
        "print(\"Accuracy of the model (train data) is - \" , train_evaluation[1]*100 , \"%\")\n",
        "print()\n",
        "print(\"Loss of the model (validation data) is - \" , val_evaluation[0])\n",
        "print(\"Accuracy of the model (validation data) is - \" , val_evaluation[1]*100 , \"%\")"
      ],
      "execution_count": null,
      "outputs": []
    },
    {
      "cell_type": "code",
      "metadata": {
        "id": "CWPuiQWfJXtV"
      },
      "source": [
        "acc = history.history['accuracy']\n",
        "val_acc = history.history['val_accuracy']\n",
        "\n",
        "loss = history.history['loss']\n",
        "val_loss = history.history['val_loss']\n",
        "\n",
        "epochs_range = range(epoch)\n",
        "\n",
        "plt.figure(figsize=(8, 8))\n",
        "plt.subplot(1, 2, 1)\n",
        "plt.plot(epochs_range, acc, label='Training Accuracy')\n",
        "plt.plot(epochs_range, val_acc, label='Validation Accuracy')\n",
        "plt.legend(loc='lower right')\n",
        "plt.title('ACCURACY')\n",
        "\n",
        "plt.subplot(1, 2, 2)\n",
        "plt.plot(epochs_range, loss, label='Training Loss')\n",
        "plt.plot(epochs_range, val_loss, label='Validation Loss')\n",
        "plt.legend(loc='upper left')\n",
        "plt.title('LOSS')\n",
        "\n",
        "plt.savefig(BASE_SAVE_DIR + NAME +'/graph.jpg')\n",
        "plt.clf()\n",
        "plt.cla()\n",
        "plt.close()"
      ],
      "execution_count": null,
      "outputs": []
    },
    {
      "cell_type": "code",
      "metadata": {
        "id": "42OlQrOVJXtV"
      },
      "source": [
        "class_predictions = np.argmax(model.predict(x_test), axis=-1)\n",
        "\n",
        "emnist = \"0123456789ABCDEFGHIJKLMNOPQRSTUVWXYZabdefghnqrt\"\n",
        "\n",
        "predict_classes = [emnist[i] for i in class_predictions]\n",
        "actual_classes = [emnist[i] for i in np.argmax(y_test, axis=-1)]\n",
        "\n",
        "out_df = pd.DataFrame(np.vstack([predict_classes,actual_classes]).T,columns=[\"predicted_class\",\"actual_class\"])\n",
        "confusion_matrix = pd.crosstab(out_df[\"actual_class\"],out_df[\"predicted_class\"],rownames=[\"Actuals\"],colnames=[\"Predicted\"])\n",
        "plt.figure(figsize=(22, 19))\n",
        "sns.heatmap(confusion_matrix,cmap=\"Reds\",annot=True,fmt='d')\n",
        "\n",
        "plt.savefig(BASE_SAVE_DIR + NAME +'/confusion_matrix.jpg')\n",
        "plt.clf()\n",
        "plt.cla()\n",
        "plt.close()"
      ],
      "execution_count": null,
      "outputs": []
    },
    {
      "cell_type": "code",
      "metadata": {
        "id": "UZn_H4CGTnRG"
      },
      "source": [
        "from tensorflow.keras import backend as K\n",
        "K.clear_session()"
      ],
      "execution_count": null,
      "outputs": []
    },
    {
      "cell_type": "markdown",
      "metadata": {
        "id": "D2sCAJ-kJfmb"
      },
      "source": [
        "\n",
        "\n",
        "#Experiment 8"
      ]
    },
    {
      "cell_type": "code",
      "metadata": {
        "id": "9yfEfmTYJfmb"
      },
      "source": [
        "epoch = 100\n",
        "optimizer = 'rmsprop'\n",
        "\n",
        "\n",
        "NAME = \"{}-optimizer-{}-epoch\".format(optimizer,epoch)\n",
        "\n",
        "BASE_SAVE_DIR = \"/content/drive/MyDrive/Emnist_Training/\"\n",
        "\n",
        "BASE_LOGS_DIR = \"/content/drive/MyDrive/Emnist_Training/logs\"\n",
        "\n",
        "tensorboard = TensorBoard(log_dir=\"{}/{}\".format(BASE_LOGS_DIR,NAME))\n",
        "\n",
        "#mcp_save = ModelCheckpoint(BASE_SAVE_DIR + NAME + '/cp_model.h5', save_best_only=True, monitor='val_loss',verbose=1, mode='auto')\n",
        "\n",
        "model.compile(optimizer=optimizer,\n",
        "              loss='categorical_crossentropy',\n",
        "              metrics=['accuracy'])\n",
        "              \n",
        "history = model.fit(data_generator2.flow(x_train,y_train),validation_data=(x_test,y_test), epochs=epoch, callbacks=[tensorboard])\n",
        "#history = model.fit(x_train,y_train,validation_data=(x_test,y_test), epochs=epoch, callbacks=[tensorboard])\n",
        "    "
      ],
      "execution_count": null,
      "outputs": []
    },
    {
      "cell_type": "code",
      "metadata": {
        "id": "xeVDhulDJfmb"
      },
      "source": [
        "model.save(BASE_SAVE_DIR + NAME + '/model.h5',save_format ='h5')"
      ],
      "execution_count": null,
      "outputs": []
    },
    {
      "cell_type": "code",
      "metadata": {
        "id": "L7SU4QfPTPkU"
      },
      "source": [
        "train_evaluation = model.evaluate(x_train,y_train)\n",
        "val_evaluation = model.evaluate(x_test,y_test)"
      ],
      "execution_count": null,
      "outputs": []
    },
    {
      "cell_type": "code",
      "metadata": {
        "id": "ukQEPdN8TQFy"
      },
      "source": [
        "print(\"Loss of the model (train data) is - \" , train_evaluation[0])\n",
        "print(\"Accuracy of the model (train data) is - \" , train_evaluation[1]*100 , \"%\")\n",
        "print()\n",
        "print(\"Loss of the model (validation data) is - \" , val_evaluation[0])\n",
        "print(\"Accuracy of the model (validation data) is - \" , val_evaluation[1]*100 , \"%\")"
      ],
      "execution_count": null,
      "outputs": []
    },
    {
      "cell_type": "code",
      "metadata": {
        "id": "2IdjJtJfJfmb"
      },
      "source": [
        "acc = history.history['accuracy']\n",
        "val_acc = history.history['val_accuracy']\n",
        "\n",
        "loss = history.history['loss']\n",
        "val_loss = history.history['val_loss']\n",
        "\n",
        "epochs_range = range(epoch)\n",
        "\n",
        "plt.figure(figsize=(8, 8))\n",
        "plt.subplot(1, 2, 1)\n",
        "plt.plot(epochs_range, acc, label='Training Accuracy')\n",
        "plt.plot(epochs_range, val_acc, label='Validation Accuracy')\n",
        "plt.legend(loc='lower right')\n",
        "plt.title('ACCURACY')\n",
        "\n",
        "plt.subplot(1, 2, 2)\n",
        "plt.plot(epochs_range, loss, label='Training Loss')\n",
        "plt.plot(epochs_range, val_loss, label='Validation Loss')\n",
        "plt.legend(loc='upper left')\n",
        "plt.title('LOSS')\n",
        "\n",
        "plt.savefig(BASE_SAVE_DIR + NAME +'/graph.jpg')\n",
        "plt.clf()\n",
        "plt.cla()\n",
        "plt.close()"
      ],
      "execution_count": null,
      "outputs": []
    },
    {
      "cell_type": "code",
      "metadata": {
        "id": "bmRrtVWNJfmd"
      },
      "source": [
        "class_predictions = np.argmax(model.predict(x_test), axis=-1)\n",
        "\n",
        "emnist = \"0123456789ABCDEFGHIJKLMNOPQRSTUVWXYZabdefghnqrt\"\n",
        "\n",
        "predict_classes = [emnist[i] for i in class_predictions]\n",
        "actual_classes = [emnist[i] for i in np.argmax(y_test, axis=-1)]\n",
        "\n",
        "out_df = pd.DataFrame(np.vstack([predict_classes,actual_classes]).T,columns=[\"predicted_class\",\"actual_class\"])\n",
        "confusion_matrix = pd.crosstab(out_df[\"actual_class\"],out_df[\"predicted_class\"],rownames=[\"Actuals\"],colnames=[\"Predicted\"])\n",
        "plt.figure(figsize=(22, 19))\n",
        "sns.heatmap(confusion_matrix,cmap=\"Reds\",annot=True,fmt='d')\n",
        "\n",
        "plt.savefig(BASE_SAVE_DIR + NAME +'/confusion_matrix.jpg')\n",
        "plt.clf()\n",
        "plt.cla()\n",
        "plt.close()"
      ],
      "execution_count": null,
      "outputs": []
    },
    {
      "cell_type": "code",
      "metadata": {
        "id": "8P4OdqVUTldS"
      },
      "source": [
        "from tensorflow.keras import backend as K\n",
        "K.clear_session()"
      ],
      "execution_count": null,
      "outputs": []
    },
    {
      "cell_type": "markdown",
      "metadata": {
        "id": "N0lp6lxuJjM4"
      },
      "source": [
        "\n",
        "\n",
        "#Experiment 9"
      ]
    },
    {
      "cell_type": "code",
      "metadata": {
        "id": "VUXoWxr7JjM4"
      },
      "source": [
        "epoch = 100\n",
        "optimizer = 'adamax'\n",
        "\n",
        "\n",
        "NAME = \"{}-optimizer-{}-epoch\".format(optimizer,epoch)\n",
        "\n",
        "BASE_SAVE_DIR = \"/content/drive/MyDrive/Emnist_Training/\"\n",
        "\n",
        "BASE_LOGS_DIR = \"/content/drive/MyDrive/Emnist_Training/logs\"\n",
        "\n",
        "tensorboard = TensorBoard(log_dir=\"{}/{}\".format(BASE_LOGS_DIR,NAME))\n",
        "\n",
        "#mcp_save = ModelCheckpoint(BASE_SAVE_DIR + NAME + '/cp_model.h5', save_best_only=True, monitor='val_loss',verbose=1, mode='auto')\n",
        "\n",
        "model.compile(optimizer=optimizer,\n",
        "              loss='categorical_crossentropy',\n",
        "              metrics=['accuracy'])\n",
        "              \n",
        "history = model.fit(data_generator2.flow(x_train,y_train),validation_data=(x_test,y_test), epochs=epoch, callbacks=[tensorboard])\n",
        "#history = model.fit(x_train,y_train,validation_data=(x_test,y_test), epochs=epoch, callbacks=[tensorboard])\n",
        "    "
      ],
      "execution_count": null,
      "outputs": []
    },
    {
      "cell_type": "code",
      "metadata": {
        "id": "pnyn5tKSJjM5"
      },
      "source": [
        "model.save(BASE_SAVE_DIR + NAME + '/model.h5',save_format ='h5')"
      ],
      "execution_count": null,
      "outputs": []
    },
    {
      "cell_type": "code",
      "metadata": {
        "id": "DPxBorT2TUEc"
      },
      "source": [
        "train_evaluation = model.evaluate(x_train,y_train)\n",
        "val_evaluation = model.evaluate(x_test,y_test)"
      ],
      "execution_count": null,
      "outputs": []
    },
    {
      "cell_type": "code",
      "metadata": {
        "id": "ApU_xkO_TSYy"
      },
      "source": [
        "print(\"Loss of the model (train data) is - \" , train_evaluation[0])\n",
        "print(\"Accuracy of the model (train data) is - \" , train_evaluation[1]*100 , \"%\")\n",
        "print()\n",
        "print(\"Loss of the model (validation data) is - \" , val_evaluation[0])\n",
        "print(\"Accuracy of the model (validation data) is - \" , val_evaluation[1]*100 , \"%\")"
      ],
      "execution_count": null,
      "outputs": []
    },
    {
      "cell_type": "code",
      "metadata": {
        "id": "kJn9hnKOJjM5"
      },
      "source": [
        "acc = history.history['accuracy']\n",
        "val_acc = history.history['val_accuracy']\n",
        "\n",
        "loss = history.history['loss']\n",
        "val_loss = history.history['val_loss']\n",
        "\n",
        "epochs_range = range(epoch)\n",
        "\n",
        "plt.figure(figsize=(8, 8))\n",
        "plt.subplot(1, 2, 1)\n",
        "plt.plot(epochs_range, acc, label='Training Accuracy')\n",
        "plt.plot(epochs_range, val_acc, label='Validation Accuracy')\n",
        "plt.legend(loc='lower right')\n",
        "plt.title('ACCURACY')\n",
        "\n",
        "plt.subplot(1, 2, 2)\n",
        "plt.plot(epochs_range, loss, label='Training Loss')\n",
        "plt.plot(epochs_range, val_loss, label='Validation Loss')\n",
        "plt.legend(loc='upper left')\n",
        "plt.title('LOSS')\n",
        "\n",
        "plt.savefig(BASE_SAVE_DIR + NAME +'/graph.jpg')\n",
        "plt.clf()\n",
        "plt.cla()\n",
        "plt.close()"
      ],
      "execution_count": null,
      "outputs": []
    },
    {
      "cell_type": "code",
      "metadata": {
        "id": "GCi9NciJJjM5"
      },
      "source": [
        "class_predictions = np.argmax(model.predict(x_test), axis=-1)\n",
        "\n",
        "emnist = \"0123456789ABCDEFGHIJKLMNOPQRSTUVWXYZabdefghnqrt\"\n",
        "\n",
        "predict_classes = [emnist[i] for i in class_predictions]\n",
        "actual_classes = [emnist[i] for i in np.argmax(y_test, axis=-1)]\n",
        "\n",
        "out_df = pd.DataFrame(np.vstack([predict_classes,actual_classes]).T,columns=[\"predicted_class\",\"actual_class\"])\n",
        "confusion_matrix = pd.crosstab(out_df[\"actual_class\"],out_df[\"predicted_class\"],rownames=[\"Actuals\"],colnames=[\"Predicted\"])\n",
        "plt.figure(figsize=(22, 19))\n",
        "sns.heatmap(confusion_matrix,cmap=\"Reds\",annot=True,fmt='d')\n",
        "\n",
        "plt.savefig(BASE_SAVE_DIR + NAME +'/confusion_matrix.jpg')\n",
        "plt.clf()\n",
        "plt.cla()\n",
        "plt.close()"
      ],
      "execution_count": null,
      "outputs": []
    },
    {
      "cell_type": "code",
      "metadata": {
        "id": "dYyDM-PaTjuI"
      },
      "source": [
        "from tensorflow.keras import backend as K\n",
        "K.clear_session()"
      ],
      "execution_count": null,
      "outputs": []
    },
    {
      "cell_type": "markdown",
      "metadata": {
        "id": "c8QeppLWA5w9"
      },
      "source": [
        "#T"
      ]
    }
  ]
}