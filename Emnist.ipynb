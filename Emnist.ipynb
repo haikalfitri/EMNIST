{
  "nbformat": 4,
  "nbformat_minor": 0,
  "metadata": {
    "colab": {
      "provenance": [],
      "collapsed_sections": [
        "jBdJZ9VW6WmI",
        "KsHxggYg-JXW",
        "Gn8qsXAg-pRK",
        "IKgPSr2r-2UE",
        "qR16x94P-7ud",
        "Iry0aFvBFEuY",
        "DXWSfJ0G_WeK",
        "h4GCbCokBAyk",
        "qxmloPEYBGLg",
        "KMHwCrRoBKlt",
        "BmQ823DJFjZC",
        "z4p2LxphFpGW",
        "bnPHWnO8JXtL",
        "c8QeppLWA5w9"
      ],
      "include_colab_link": true
    },
    "kernelspec": {
      "display_name": "Python 3",
      "name": "python3"
    },
    "language_info": {
      "name": "python"
    },
    "accelerator": "GPU"
  },
  "cells": [
    {
      "cell_type": "markdown",
      "metadata": {
        "id": "view-in-github",
        "colab_type": "text"
      },
      "source": [
        "<a href=\"https://colab.research.google.com/github/haikalfitri/EMNIST/blob/main/Emnist.ipynb\" target=\"_parent\"><img src=\"https://colab.research.google.com/assets/colab-badge.svg\" alt=\"Open In Colab\"/></a>"
      ]
    },
    {
      "cell_type": "code",
      "metadata": {
        "colab": {
          "base_uri": "https://localhost:8080/"
        },
        "id": "2SRdprMyR9QS",
        "outputId": "ddc245ca-f938-40cc-b20d-04d94fd86130"
      },
      "source": [
        "!nvidia-smi"
      ],
      "execution_count": null,
      "outputs": [
        {
          "output_type": "stream",
          "text": [
            "Sat Jul 24 13:30:56 2021       \n",
            "+-----------------------------------------------------------------------------+\n",
            "| NVIDIA-SMI 470.42.01    Driver Version: 460.32.03    CUDA Version: 11.2     |\n",
            "|-------------------------------+----------------------+----------------------+\n",
            "| GPU  Name        Persistence-M| Bus-Id        Disp.A | Volatile Uncorr. ECC |\n",
            "| Fan  Temp  Perf  Pwr:Usage/Cap|         Memory-Usage | GPU-Util  Compute M. |\n",
            "|                               |                      |               MIG M. |\n",
            "|===============================+======================+======================|\n",
            "|   0  Tesla T4            Off  | 00000000:00:04.0 Off |                    0 |\n",
            "| N/A   54C    P0    29W /  70W |    816MiB / 15109MiB |      0%      Default |\n",
            "|                               |                      |                  N/A |\n",
            "+-------------------------------+----------------------+----------------------+\n",
            "                                                                               \n",
            "+-----------------------------------------------------------------------------+\n",
            "| Processes:                                                                  |\n",
            "|  GPU   GI   CI        PID   Type   Process name                  GPU Memory |\n",
            "|        ID   ID                                                   Usage      |\n",
            "|=============================================================================|\n",
            "|  No running processes found                                                 |\n",
            "+-----------------------------------------------------------------------------+\n"
          ],
          "name": "stdout"
        }
      ]
    },
    {
      "cell_type": "code",
      "metadata": {
        "colab": {
          "base_uri": "https://localhost:8080/"
        },
        "id": "fdpiGWskmUiS",
        "outputId": "cef12bd9-88ea-4d7d-ef1f-4f91d3ac529f"
      },
      "source": [
        "from google.colab import drive\n",
        "drive.mount('/content/drive')"
      ],
      "execution_count": null,
      "outputs": [
        {
          "output_type": "stream",
          "text": [
            "Drive already mounted at /content/drive; to attempt to forcibly remount, call drive.mount(\"/content/drive\", force_remount=True).\n"
          ],
          "name": "stdout"
        }
      ]
    },
    {
      "cell_type": "code",
      "metadata": {
        "colab": {
          "base_uri": "https://localhost:8080/",
          "height": 35
        },
        "id": "8Ih3qe7r-Zdq",
        "outputId": "e116f3c9-1656-4d67-80f1-95cf4ab178ee"
      },
      "source": [
        "import shutil\n",
        "import os\n",
        "src = 'drive/MyDrive/emnist-balanced.mat'\n",
        "dst =  'emnist-balanced.mat'\n",
        "shutil.copyfile(src, dst)"
      ],
      "execution_count": null,
      "outputs": [
        {
          "output_type": "execute_result",
          "data": {
            "application/vnd.google.colaboratory.intrinsic+json": {
              "type": "string"
            },
            "text/plain": [
              "'emnist-balanced.mat'"
            ]
          },
          "metadata": {
            "tags": []
          },
          "execution_count": 29
        }
      ]
    },
    {
      "cell_type": "code",
      "metadata": {
        "id": "O9JYFt70lN3y"
      },
      "source": [
        "from scipy import io as spio\n",
        "import tensorflow as tf\n",
        "from tensorflow.keras.datasets import cifar10\n",
        "from tensorflow.keras.preprocessing.image import ImageDataGenerator\n",
        "from tensorflow.keras.models import Sequential\n",
        "from tensorflow.keras.layers import Dense, Dropout, Activation, Flatten\n",
        "from tensorflow.keras.layers import Conv2D, MaxPool2D\n",
        "from tensorflow.keras.callbacks import TensorBoard\n",
        "import tensorflow.keras as keras\n",
        "\n",
        "import cv2\n",
        "\n",
        "import matplotlib.pyplot as plt\n",
        "import pandas as pd\n",
        "from tensorflow.keras.models import load_model\n",
        "import numpy as np\n",
        "import seaborn as sns\n",
        "\n",
        "import pickle"
      ],
      "execution_count": null,
      "outputs": []
    },
    {
      "cell_type": "markdown",
      "metadata": {
        "id": "jBdJZ9VW6WmI"
      },
      "source": [
        "#Load Data"
      ]
    },
    {
      "cell_type": "code",
      "metadata": {
        "id": "RT1kU75zUBwO"
      },
      "source": [
        "data = spio.loadmat(\"emnist-balanced.mat\")\n",
        "\n",
        "x_train = data[\"dataset\"][0][0][0][0][0][0]\n",
        "y_train = data[\"dataset\"][0][0][0][0][0][1]\n",
        "\n",
        "x_test = data[\"dataset\"][0][0][1][0][0][0]\n",
        "y_test = data[\"dataset\"][0][0][1][0][0][1]\n"
      ],
      "execution_count": null,
      "outputs": []
    },
    {
      "cell_type": "code",
      "metadata": {
        "id": "CDX7qMfBXdic"
      },
      "source": [
        "x_train = x_train.reshape(x_train.shape[0],28,28,1)\n",
        "x_test = x_test.reshape(x_test.shape[0],28,28,1)"
      ],
      "execution_count": null,
      "outputs": []
    },
    {
      "cell_type": "markdown",
      "metadata": {
        "id": "KsHxggYg-JXW"
      },
      "source": [
        "#Preprocess Data"
      ]
    },
    {
      "cell_type": "code",
      "metadata": {
        "colab": {
          "base_uri": "https://localhost:8080/"
        },
        "id": "Fh1fWsHX88Gc",
        "outputId": "5df825a3-53ca-4ea2-d494-6e7b00df9ad0"
      },
      "source": [
        "\n",
        "emnist = \"0123456789ABCDEFGHIJKLMNOPQRSTUVWXYZabdefghnqrt\"\n",
        "\n",
        "f, ax = plt.subplots(5, 5, figsize = (15, 15))\n",
        "for i in range(0,25):\n",
        "    \n",
        "    label = emnist[y_train[i][0]]\n",
        "    ax[i//5, i%5].imshow(tf.squeeze(x_train[i]), cmap='gray')\n",
        "    ax[i//5, i%5].axis('off')\n",
        "    ax[i//5, i%5].set_title(\"class : {}\".format(label)) \n",
        "plt.show()"
      ],
      "execution_count": null,
      "outputs": [
        {
          "output_type": "display_data",
          "data": {
            "image/png": "[encoded data removed]",
            "text/plain": [
              "<Figure size 1080x1080 with 25 Axes>"
            ]
          },
          "metadata": {
            "tags": [],
            "needs_background": "light"
          }
        }
      ]
    },
    {
      "cell_type": "code",
      "metadata": {
        "id": "QK7vlWX-XgPs"
      },
      "source": [
        "import numpy as np\n",
        "for i in range(x_train.shape[0]):\n",
        "    x_train[i] = np.rot90(np.fliplr(x_train[i]))\n",
        "\n",
        "for i in range(x_test.shape[0]):\n",
        "    x_test[i] = np.rot90(np.fliplr(x_test[i]))"
      ],
      "execution_count": null,
      "outputs": []
    },
    {
      "cell_type": "code",
      "metadata": {
        "colab": {
          "base_uri": "https://localhost:8080/"
        },
        "id": "BQC_s2H597Xb",
        "outputId": "bc0f5d22-c6ae-46cc-ea63-462455aafca3"
      },
      "source": [
        "\n",
        "emnist = \"0123456789ABCDEFGHIJKLMNOPQRSTUVWXYZabdefghnqrt\"\n",
        "\n",
        "f, ax = plt.subplots(5, 5, figsize = (15, 15))\n",
        "for i in range(0,25):\n",
        "    \n",
        "    label = emnist[y_train[i][0]]\n",
        "    ax[i//5, i%5].imshow(tf.squeeze(x_train[i]), cmap='gray')\n",
        "    ax[i//5, i%5].axis('off')\n",
        "    ax[i//5, i%5].set_title(\"class : {}\".format(label)) \n",
        "plt.show()"
      ],
      "execution_count": null,
      "outputs": [
        {
          "output_type": "display_data",
          "data": {
            "image/png": "[encoded data removed]",
            "text/plain": [
              "<Figure size 1080x1080 with 25 Axes>"
            ]
          },
          "metadata": {
            "tags": [],
            "needs_background": "light"
          }
        }
      ]
    },
    {
      "cell_type": "code",
      "metadata": {
        "id": "N7z7Lbp5XiH2"
      },
      "source": [
        "#Normalize Data\n",
        "x_train = x_train / 255 \n",
        "x_test = x_test / 255"
      ],
      "execution_count": null,
      "outputs": []
    },
    {
      "cell_type": "markdown",
      "metadata": {
        "id": "qR16x94P-7ud"
      },
      "source": [
        "#Reshape labels into categories"
      ]
    },
    {
      "cell_type": "code",
      "metadata": {
        "id": "fQnPGjdGUdTd"
      },
      "source": [
        "y_train = keras.utils.to_categorical(y_train, 47)\n",
        "y_test = keras.utils.to_categorical(y_test, 47)"
      ],
      "execution_count": null,
      "outputs": []
    },
    {
      "cell_type": "markdown",
      "metadata": {
        "id": "Gn8qsXAg-pRK"
      },
      "source": [
        "#Image Augmentation 1"
      ]
    },
    {
      "cell_type": "code",
      "metadata": {
        "id": "h7SuZiMvQmda"
      },
      "source": [
        "data_generator1 = ImageDataGenerator(\n",
        "                        width_shift_range=0.2,\n",
        "                        height_shift_range=0.2,\n",
        "                        zoom_range=.1)"
      ],
      "execution_count": null,
      "outputs": []
    },
    {
      "cell_type": "markdown",
      "metadata": {
        "id": "IKgPSr2r-2UE"
      },
      "source": [
        "#Image Augmentation 2"
      ]
    },
    {
      "cell_type": "code",
      "metadata": {
        "id": "Wye_X4Rn-wSP"
      },
      "source": [
        "data_generator2 = ImageDataGenerator(\n",
        "                        fill_mode='nearest',\n",
        "                        rotation_range=0.2,\n",
        "                        zoom_range=.1)"
      ],
      "execution_count": null,
      "outputs": []
    },
    {
      "cell_type": "markdown",
      "metadata": {
        "id": "Iry0aFvBFEuY"
      },
      "source": [
        "#Design ANN model"
      ]
    },
    {
      "cell_type": "code",
      "metadata": {
        "id": "N_xuzgTiFEFB"
      },
      "source": [
        "model=Sequential()\n",
        "\n",
        "\n",
        "model.add(Conv2D(32,(3,3), activation='relu', input_shape=(28,28,1)))\n",
        "model.add(MaxPool2D(strides=2))\n",
        "model.add(Conv2D(32,(3,3), activation='relu'))\n",
        "model.add(MaxPool2D(strides=2))\n",
        "model.add(Conv2D(64,(3,3), activation='relu'))\n",
        "\n",
        "model.add(Flatten())\n",
        "\n",
        "model.add(Dense(512, activation='relu'))\n",
        "model.add(Dense(128, activation='relu'))\n",
        "model.add(Dense(47, activation = \"softmax\"))"
      ],
      "execution_count": null,
      "outputs": []
    },
    {
      "cell_type": "code",
      "metadata": {
        "colab": {
          "base_uri": "https://localhost:8080/"
        },
        "id": "m6d7_atBFHK_",
        "outputId": "9a7aaaf7-96b7-4e19-a363-aa25149040e0"
      },
      "source": [
        "model.summary()"
      ],
      "execution_count": null,
      "outputs": [
        {
          "output_type": "stream",
          "text": [
            "Model: \"sequential\"\n",
            "_________________________________________________________________\n",
            "Layer (type)                 Output Shape              Param #   \n",
            "=================================================================\n",
            "conv2d (Conv2D)              (None, 26, 26, 32)        320       \n",
            "_________________________________________________________________\n",
            "max_pooling2d (MaxPooling2D) (None, 13, 13, 32)        0         \n",
            "_________________________________________________________________\n",
            "conv2d_1 (Conv2D)            (None, 11, 11, 32)        9248      \n",
            "_________________________________________________________________\n",
            "max_pooling2d_1 (MaxPooling2 (None, 5, 5, 32)          0         \n",
            "_________________________________________________________________\n",
            "conv2d_2 (Conv2D)            (None, 3, 3, 64)          18496     \n",
            "_________________________________________________________________\n",
            "flatten (Flatten)            (None, 576)               0         \n",
            "_________________________________________________________________\n",
            "dense (Dense)                (None, 512)               295424    \n",
            "_________________________________________________________________\n",
            "dense_1 (Dense)              (None, 128)               65664     \n",
            "_________________________________________________________________\n",
            "dense_2 (Dense)              (None, 47)                6063      \n",
            "=================================================================\n",
            "Total params: 395,215\n",
            "Trainable params: 395,215\n",
            "Non-trainable params: 0\n",
            "_________________________________________________________________\n"
          ],
          "name": "stdout"
        }
      ]
    },
    {
      "cell_type": "markdown",
      "metadata": {
        "id": "DXWSfJ0G_WeK"
      },
      "source": [
        "#Experiment 1"
      ]
    },
    {
      "cell_type": "code",
      "metadata": {
        "id": "0lk3K-ILXjMX"
      },
      "source": [
        "epoch = 35\n",
        "optimizer = 'adam'\n",
        "\n",
        "\n",
        "NAME = \"{}-optimizer-{}-epoch\".format(optimizer,epoch)\n",
        "\n",
        "BASE_SAVE_DIR = \"/content/drive/MyDrive/Emnist_Training/\"\n",
        "\n",
        "BASE_LOGS_DIR = \"/content/drive/MyDrive/Emnist_Training/logs\"\n",
        "\n",
        "tensorboard = TensorBoard(log_dir=\"{}/{}\".format(BASE_LOGS_DIR,NAME))\n",
        "\n",
        "#mcp_save = ModelCheckpoint(BASE_SAVE_DIR + NAME + '/cp_model.h5', save_best_only=True, monitor='val_loss',verbose=1, mode='auto')\n",
        "\n",
        "model.compile(optimizer=optimizer,\n",
        "              loss='categorical_crossentropy',\n",
        "              metrics=['accuracy'])\n",
        "              \n",
        "#history = model.fit(data_generator.flow(x_train,y_train),validation_data=(x_test,y_test), epochs=epoch, callbacks=[tensorboard])\n",
        "history = model.fit(x_train,y_train,validation_data=(x_test,y_test),batch_size=32, epochs=epoch, callbacks=[tensorboard])\n",
        "    "
      ],
      "execution_count": null,
      "outputs": []
    },
    {
      "cell_type": "code",
      "metadata": {
        "id": "-oiLIc1R_onV"
      },
      "source": [
        "model.save(BASE_SAVE_DIR + NAME + '/model.h5',save_format ='h5')"
      ],
      "execution_count": null,
      "outputs": []
    },
    {
      "cell_type": "code",
      "metadata": {
        "id": "mKOjuse8Ksyb"
      },
      "source": [
        "train_evaluation = model.evaluate(x_train,y_train)\n",
        "val_evaluation = model.evaluate(x_test,y_test)"
      ],
      "execution_count": null,
      "outputs": []
    },
    {
      "cell_type": "code",
      "metadata": {
        "id": "wilCpwpHOGFW"
      },
      "source": [
        "print(\"Loss of the model (train data) is - \" , train_evaluation[0])\n",
        "print(\"Accuracy of the model (train data) is - \" , train_evaluation[1]*100 , \"%\")\n",
        "print()\n",
        "print(\"Loss of the model (validation data) is - \" , val_evaluation[0])\n",
        "print(\"Accuracy of the model (validation data) is - \" , val_evaluation[1]*100 , \"%\")"
      ],
      "execution_count": null,
      "outputs": []
    },
    {
      "cell_type": "code",
      "metadata": {
        "id": "JIgwqSUB_l5l"
      },
      "source": [
        "acc = history.history['accuracy']\n",
        "val_acc = history.history['val_accuracy']\n",
        "\n",
        "loss = history.history['loss']\n",
        "val_loss = history.history['val_loss']\n",
        "\n",
        "epochs_range = range(epoch)\n",
        "\n",
        "plt.figure(figsize=(8, 8))\n",
        "plt.subplot(1, 2, 1)\n",
        "plt.plot(epochs_range, acc, label='Training Accuracy')\n",
        "plt.plot(epochs_range, val_acc, label='Validation Accuracy')\n",
        "plt.legend(loc='lower right')\n",
        "plt.title('ACCURACY')\n",
        "\n",
        "plt.subplot(1, 2, 2)\n",
        "plt.plot(epochs_range, loss, label='Training Loss')\n",
        "plt.plot(epochs_range, val_loss, label='Validation Loss')\n",
        "plt.legend(loc='upper left')\n",
        "plt.title('LOSS')\n",
        "\n",
        "plt.savefig(BASE_SAVE_DIR + NAME +'/graph.jpg')\n",
        "plt.clf()\n",
        "plt.cla()\n",
        "plt.close()"
      ],
      "execution_count": null,
      "outputs": []
    },
    {
      "cell_type": "code",
      "metadata": {
        "id": "MdcpHurb_h6n"
      },
      "source": [
        "class_predictions = np.argmax(model.predict(x_test), axis=-1)\n",
        "\n",
        "emnist = \"0123456789ABCDEFGHIJKLMNOPQRSTUVWXYZabdefghnqrt\"\n",
        "\n",
        "predict_classes = [emnist[i] for i in class_predictions]\n",
        "actual_classes = [emnist[i] for i in np.argmax(y_test, axis=-1)]\n",
        "\n",
        "out_df = pd.DataFrame(np.vstack([predict_classes,actual_classes]).T,columns=[\"predicted_class\",\"actual_class\"])\n",
        "confusion_matrix = pd.crosstab(out_df[\"actual_class\"],out_df[\"predicted_class\"],rownames=[\"Actuals\"],colnames=[\"Predicted\"])\n",
        "plt.figure(figsize=(22, 19))\n",
        "sns.heatmap(confusion_matrix,cmap=\"Reds\",annot=True,fmt='d')\n",
        "\n",
        "plt.savefig(BASE_SAVE_DIR + NAME +'/confusion_matrix.jpg')\n",
        "plt.clf()\n",
        "plt.cla()\n",
        "plt.close()"
      ],
      "execution_count": null,
      "outputs": []
    },
    {
      "cell_type": "code",
      "metadata": {
        "id": "fldJboNSTxSl"
      },
      "source": [
        "from tensorflow.keras import backend as K\n",
        "K.clear_session()"
      ],
      "execution_count": null,
      "outputs": []
    },
    {
      "cell_type": "markdown",
      "metadata": {
        "id": "h4GCbCokBAyk"
      },
      "source": [
        "#Experiment 2"
      ]
    },
    {
      "cell_type": "code",
      "metadata": {
        "colab": {
          "base_uri": "https://localhost:8080/"
        },
        "id": "EBAvgtV6BAyu",
        "outputId": "3c638bd1-026b-415b-9a6a-af0aa012afd7"
      },
      "source": [
        "epoch = 35\n",
        "optimizer = 'rmsprop'\n",
        "\n",
        "\n",
        "NAME = \"{}-optimizer-{}-epoch\".format(optimizer,epoch)\n",
        "\n",
        "BASE_SAVE_DIR = \"/content/drive/MyDrive/Emnist_Training/\"\n",
        "\n",
        "BASE_LOGS_DIR = \"/content/drive/MyDrive/Emnist_Training/logs\"\n",
        "\n",
        "tensorboard = TensorBoard(log_dir=\"{}/{}\".format(BASE_LOGS_DIR,NAME))\n",
        "\n",
        "#mcp_save = ModelCheckpoint(BASE_SAVE_DIR + NAME + '/cp_model.h5', save_best_only=True, monitor='val_loss',verbose=1, mode='auto')\n",
        "\n",
        "model.compile(optimizer=optimizer,\n",
        "              loss='categorical_crossentropy',\n",
        "              metrics=['accuracy'])\n",
        "              \n",
        "#history = model.fit(data_generator.flow(x_train,y_train),validation_data=(x_test,y_test), epochs=epoch, callbacks=[tensorboard])\n",
        "history = model.fit(x_train,y_train,validation_data=(x_test,y_test),batch_size=32, epochs=epoch, callbacks=[tensorboard])\n",
        "    "
      ],
      "execution_count": null,
      "outputs": [
        {
          "output_type": "stream",
          "text": [
            "Epoch 1/35\n",
            "3525/3525 [==============================] - 29s 8ms/step - loss: 0.0839 - accuracy: 0.9676 - val_loss: 1.1329 - val_accuracy: 0.8669\n",
            "Epoch 2/35\n",
            "3525/3525 [==============================] - 26s 7ms/step - loss: 0.0894 - accuracy: 0.9660 - val_loss: 1.1289 - val_accuracy: 0.8678\n",
            "Epoch 3/35\n",
            "3525/3525 [==============================] - 26s 7ms/step - loss: 0.0998 - accuracy: 0.9638 - val_loss: 1.1521 - val_accuracy: 0.8671\n",
            "Epoch 4/35\n",
            "3525/3525 [==============================] - 27s 8ms/step - loss: 0.1177 - accuracy: 0.9582 - val_loss: 1.0263 - val_accuracy: 0.8631\n",
            "Epoch 5/35\n",
            "3525/3525 [==============================] - 26s 7ms/step - loss: 0.1409 - accuracy: 0.9514 - val_loss: 0.9773 - val_accuracy: 0.8663\n",
            "Epoch 6/35\n",
            "3525/3525 [==============================] - 27s 8ms/step - loss: 0.1810 - accuracy: 0.9401 - val_loss: 0.9663 - val_accuracy: 0.8609\n",
            "Epoch 7/35\n",
            "3525/3525 [==============================] - 27s 8ms/step - loss: 0.2305 - accuracy: 0.9268 - val_loss: 0.7475 - val_accuracy: 0.8522\n",
            "Epoch 8/35\n",
            "3525/3525 [==============================] - 27s 8ms/step - loss: 0.2808 - accuracy: 0.9139 - val_loss: 0.8722 - val_accuracy: 0.8590\n",
            "Epoch 9/35\n",
            "3525/3525 [==============================] - 27s 8ms/step - loss: 0.3443 - accuracy: 0.8969 - val_loss: 0.6426 - val_accuracy: 0.8533\n",
            "Epoch 10/35\n",
            "3525/3525 [==============================] - 26s 7ms/step - loss: 0.3917 - accuracy: 0.8835 - val_loss: 0.6115 - val_accuracy: 0.8432\n",
            "Epoch 11/35\n",
            "3525/3525 [==============================] - 27s 8ms/step - loss: 0.4339 - accuracy: 0.8722 - val_loss: 0.7682 - val_accuracy: 0.8455\n",
            "Epoch 12/35\n",
            "3525/3525 [==============================] - 27s 8ms/step - loss: 0.4617 - accuracy: 0.8626 - val_loss: 0.7399 - val_accuracy: 0.8471\n",
            "Epoch 13/35\n",
            "3525/3525 [==============================] - 26s 7ms/step - loss: 0.4856 - accuracy: 0.8569 - val_loss: 0.6573 - val_accuracy: 0.8243\n",
            "Epoch 14/35\n",
            "3525/3525 [==============================] - 27s 8ms/step - loss: 0.4915 - accuracy: 0.8529 - val_loss: 0.7394 - val_accuracy: 0.7827\n",
            "Epoch 15/35\n",
            "3525/3525 [==============================] - 27s 8ms/step - loss: 0.5029 - accuracy: 0.8493 - val_loss: 0.6476 - val_accuracy: 0.8337\n",
            "Epoch 16/35\n",
            "3525/3525 [==============================] - 26s 7ms/step - loss: 0.5410 - accuracy: 0.8438 - val_loss: 0.6682 - val_accuracy: 0.8238\n",
            "Epoch 17/35\n",
            "3525/3525 [==============================] - 26s 7ms/step - loss: 0.5582 - accuracy: 0.8413 - val_loss: 0.6584 - val_accuracy: 0.8034\n",
            "Epoch 18/35\n",
            "3525/3525 [==============================] - 27s 8ms/step - loss: 0.5750 - accuracy: 0.8381 - val_loss: 0.5785 - val_accuracy: 0.8297\n",
            "Epoch 19/35\n",
            "3525/3525 [==============================] - 27s 8ms/step - loss: 0.5740 - accuracy: 0.8339 - val_loss: 0.8063 - val_accuracy: 0.8232\n",
            "Epoch 20/35\n",
            "3525/3525 [==============================] - 27s 8ms/step - loss: 0.5778 - accuracy: 0.8333 - val_loss: 0.6067 - val_accuracy: 0.8176\n",
            "Epoch 21/35\n",
            "3525/3525 [==============================] - 26s 7ms/step - loss: 0.5986 - accuracy: 0.8296 - val_loss: 0.7917 - val_accuracy: 0.8239\n",
            "Epoch 22/35\n",
            "3525/3525 [==============================] - 26s 7ms/step - loss: 0.6293 - accuracy: 0.8269 - val_loss: 0.8552 - val_accuracy: 0.8194\n",
            "Epoch 23/35\n",
            "3525/3525 [==============================] - 27s 8ms/step - loss: 0.6293 - accuracy: 0.8238 - val_loss: 0.6362 - val_accuracy: 0.8259\n",
            "Epoch 24/35\n",
            "3525/3525 [==============================] - 26s 7ms/step - loss: 0.6495 - accuracy: 0.8200 - val_loss: 0.6163 - val_accuracy: 0.8088\n",
            "Epoch 25/35\n",
            "3525/3525 [==============================] - 27s 8ms/step - loss: 1.5731 - accuracy: 0.8167 - val_loss: 0.7572 - val_accuracy: 0.8323\n",
            "Epoch 26/35\n",
            "3525/3525 [==============================] - 27s 8ms/step - loss: 0.6736 - accuracy: 0.8141 - val_loss: 0.7740 - val_accuracy: 0.8098\n",
            "Epoch 27/35\n",
            "3525/3525 [==============================] - 27s 8ms/step - loss: 0.7220 - accuracy: 0.8115 - val_loss: 1.0403 - val_accuracy: 0.7524\n",
            "Epoch 28/35\n",
            "3525/3525 [==============================] - 27s 8ms/step - loss: 0.7046 - accuracy: 0.8071 - val_loss: 0.8873 - val_accuracy: 0.7931\n",
            "Epoch 29/35\n",
            "3525/3525 [==============================] - 26s 8ms/step - loss: 0.7211 - accuracy: 0.8063 - val_loss: 0.7015 - val_accuracy: 0.8004\n",
            "Epoch 30/35\n",
            "3525/3525 [==============================] - 27s 8ms/step - loss: 0.7285 - accuracy: 0.8053 - val_loss: 0.7641 - val_accuracy: 0.8132\n",
            "Epoch 31/35\n",
            "3525/3525 [==============================] - 27s 8ms/step - loss: 0.7335 - accuracy: 0.8050 - val_loss: 0.7284 - val_accuracy: 0.7960\n",
            "Epoch 32/35\n",
            "3525/3525 [==============================] - 27s 8ms/step - loss: 0.7688 - accuracy: 0.8029 - val_loss: 0.7261 - val_accuracy: 0.7941\n",
            "Epoch 33/35\n",
            "3525/3525 [==============================] - 27s 8ms/step - loss: 0.7399 - accuracy: 0.8015 - val_loss: 0.6835 - val_accuracy: 0.8010\n",
            "Epoch 34/35\n",
            "3525/3525 [==============================] - 26s 7ms/step - loss: 0.8252 - accuracy: 0.7993 - val_loss: 0.7431 - val_accuracy: 0.8126\n",
            "Epoch 35/35\n",
            "3525/3525 [==============================] - 27s 8ms/step - loss: 0.7683 - accuracy: 0.7977 - val_loss: 0.8284 - val_accuracy: 0.8177\n"
          ],
          "name": "stdout"
        }
      ]
    },
    {
      "cell_type": "code",
      "metadata": {
        "id": "Gx8cdZjqBAyv"
      },
      "source": [
        "model.save(BASE_SAVE_DIR + NAME + '/model.h5',save_format ='h5')"
      ],
      "execution_count": null,
      "outputs": []
    },
    {
      "cell_type": "code",
      "metadata": {
        "id": "q-Ms6NmnS2dc",
        "colab": {
          "base_uri": "https://localhost:8080/"
        },
        "outputId": "19166eb1-59d4-43dd-813b-b16e13d20a7a"
      },
      "source": [
        "train_evaluation = model.evaluate(x_train,y_train)\n",
        "val_evaluation = model.evaluate(x_test,y_test)"
      ],
      "execution_count": null,
      "outputs": [
        {
          "output_type": "stream",
          "text": [
            "3525/3525 [==============================] - 13s 4ms/step - loss: 0.6707 - accuracy: 0.8320\n",
            "588/588 [==============================] - 2s 4ms/step - loss: 0.8284 - accuracy: 0.8177\n"
          ],
          "name": "stdout"
        }
      ]
    },
    {
      "cell_type": "code",
      "metadata": {
        "id": "MKHBAz3oS4VE",
        "colab": {
          "base_uri": "https://localhost:8080/"
        },
        "outputId": "fe976452-4971-4def-d2a6-16191db628bd"
      },
      "source": [
        "print(\"Loss of the model (train data) is - \" , train_evaluation[0])\n",
        "print(\"Accuracy of the model (train data) is - \" , train_evaluation[1]*100 , \"%\")\n",
        "print()\n",
        "print(\"Loss of the model (validation data) is - \" , val_evaluation[0])\n",
        "print(\"Accuracy of the model (validation data) is - \" , val_evaluation[1]*100 , \"%\")"
      ],
      "execution_count": null,
      "outputs": [
        {
          "output_type": "stream",
          "text": [
            "Loss of the model (train data) is -  0.67067950963974\n",
            "Accuracy of the model (train data) is -  83.19503664970398 %\n",
            "\n",
            "Loss of the model (validation data) is -  0.8284155130386353\n",
            "Accuracy of the model (validation data) is -  81.77127838134766 %\n"
          ],
          "name": "stdout"
        }
      ]
    },
    {
      "cell_type": "code",
      "metadata": {
        "id": "FtzhvL9zBAyv"
      },
      "source": [
        "acc = history.history['accuracy']\n",
        "val_acc = history.history['val_accuracy']\n",
        "\n",
        "loss = history.history['loss']\n",
        "val_loss = history.history['val_loss']\n",
        "\n",
        "epochs_range = range(epoch)\n",
        "\n",
        "plt.figure(figsize=(8, 8))\n",
        "plt.subplot(1, 2, 1)\n",
        "plt.plot(epochs_range, acc, label='Training Accuracy')\n",
        "plt.plot(epochs_range, val_acc, label='Validation Accuracy')\n",
        "plt.legend(loc='lower right')\n",
        "plt.title('ACCURACY')\n",
        "\n",
        "plt.subplot(1, 2, 2)\n",
        "plt.plot(epochs_range, loss, label='Training Loss')\n",
        "plt.plot(epochs_range, val_loss, label='Validation Loss')\n",
        "plt.legend(loc='upper left')\n",
        "plt.title('LOSS')\n",
        "\n",
        "plt.savefig(BASE_SAVE_DIR + NAME +'/graph.jpg')\n",
        "plt.clf()\n",
        "plt.cla()\n",
        "plt.close()"
      ],
      "execution_count": null,
      "outputs": []
    },
    {
      "cell_type": "code",
      "metadata": {
        "id": "TedlErEwBAyv"
      },
      "source": [
        "class_predictions = np.argmax(model.predict(x_test), axis=-1)\n",
        "\n",
        "emnist = \"0123456789ABCDEFGHIJKLMNOPQRSTUVWXYZabdefghnqrt\"\n",
        "\n",
        "predict_classes = [emnist[i] for i in class_predictions]\n",
        "actual_classes = [emnist[i] for i in np.argmax(y_test, axis=-1)]\n",
        "\n",
        "out_df = pd.DataFrame(np.vstack([predict_classes,actual_classes]).T,columns=[\"predicted_class\",\"actual_class\"])\n",
        "confusion_matrix = pd.crosstab(out_df[\"actual_class\"],out_df[\"predicted_class\"],rownames=[\"Actuals\"],colnames=[\"Predicted\"])\n",
        "plt.figure(figsize=(22, 19))\n",
        "sns.heatmap(confusion_matrix,cmap=\"Reds\",annot=True,fmt='d')\n",
        "\n",
        "plt.savefig(BASE_SAVE_DIR + NAME +'/confusion_matrix.jpg')\n",
        "plt.clf()\n",
        "plt.cla()\n",
        "plt.close()"
      ],
      "execution_count": null,
      "outputs": []
    },
    {
      "cell_type": "code",
      "metadata": {
        "id": "VvC75M_oTwF5"
      },
      "source": [
        "from tensorflow.keras import backend as K\n",
        "K.clear_session()"
      ],
      "execution_count": null,
      "outputs": []
    },
    {
      "cell_type": "markdown",
      "metadata": {
        "id": "qxmloPEYBGLg"
      },
      "source": [
        "#Experiment 3"
      ]
    },
    {
      "cell_type": "code",
      "metadata": {
        "id": "T-gURIpiBGLh",
        "colab": {
          "base_uri": "https://localhost:8080/"
        },
        "outputId": "62b2c19a-9857-4e1f-be4e-2a80c3beeaea"
      },
      "source": [
        "epoch = 35\n",
        "optimizer = 'adamax'\n",
        "\n",
        "\n",
        "NAME = \"{}-optimizer-{}-epoch\".format(optimizer,epoch)\n",
        "\n",
        "BASE_SAVE_DIR = \"/content/drive/MyDrive/Emnist_Training/\"\n",
        "\n",
        "BASE_LOGS_DIR = \"/content/drive/MyDrive/Emnist_Training/logs\"\n",
        "\n",
        "tensorboard = TensorBoard(log_dir=\"{}/{}\".format(BASE_LOGS_DIR,NAME))\n",
        "\n",
        "#mcp_save = ModelCheckpoint(BASE_SAVE_DIR + NAME + '/cp_model.h5', save_best_only=True, monitor='val_loss',verbose=1, mode='auto')\n",
        "\n",
        "model.compile(optimizer=optimizer,\n",
        "              loss='categorical_crossentropy',\n",
        "              metrics=['accuracy'])\n",
        "              \n",
        "#history = model.fit(data_generator.flow(x_train,y_train),validation_data=(x_test,y_test), epochs=epoch, callbacks=[tensorboard])\n",
        "history = model.fit(x_train,y_train,validation_data=(x_test,y_test), batch_size=32, epochs=epoch, callbacks=[tensorboard])\n",
        "    "
      ],
      "execution_count": null,
      "outputs": [
        {
          "output_type": "stream",
          "text": [
            "Epoch 1/35\n",
            "3525/3525 [==============================] - 25s 7ms/step - loss: 0.4647 - accuracy: 0.8523 - val_loss: 0.5619 - val_accuracy: 0.8402\n",
            "Epoch 2/35\n",
            "3525/3525 [==============================] - 25s 7ms/step - loss: 0.4332 - accuracy: 0.8598 - val_loss: 0.4881 - val_accuracy: 0.8495\n",
            "Epoch 3/35\n",
            "3525/3525 [==============================] - 25s 7ms/step - loss: 0.4188 - accuracy: 0.8623 - val_loss: 0.5232 - val_accuracy: 0.8453\n",
            "Epoch 4/35\n",
            "3525/3525 [==============================] - 24s 7ms/step - loss: 0.4055 - accuracy: 0.8648 - val_loss: 0.4947 - val_accuracy: 0.8460\n",
            "Epoch 5/35\n",
            "3525/3525 [==============================] - 24s 7ms/step - loss: 0.3977 - accuracy: 0.8663 - val_loss: 0.5242 - val_accuracy: 0.8546\n",
            "Epoch 6/35\n",
            "3525/3525 [==============================] - 24s 7ms/step - loss: 0.3922 - accuracy: 0.8684 - val_loss: 0.5032 - val_accuracy: 0.8571\n",
            "Epoch 7/35\n",
            "3525/3525 [==============================] - 24s 7ms/step - loss: 0.3864 - accuracy: 0.8699 - val_loss: 0.4911 - val_accuracy: 0.8567\n",
            "Epoch 8/35\n",
            "3525/3525 [==============================] - 24s 7ms/step - loss: 0.3784 - accuracy: 0.8715 - val_loss: 0.4659 - val_accuracy: 0.8509\n",
            "Epoch 9/35\n",
            "3525/3525 [==============================] - 25s 7ms/step - loss: 0.3724 - accuracy: 0.8726 - val_loss: 0.4779 - val_accuracy: 0.8528\n",
            "Epoch 10/35\n",
            "3525/3525 [==============================] - 24s 7ms/step - loss: 0.3687 - accuracy: 0.8737 - val_loss: 0.4659 - val_accuracy: 0.8562\n",
            "Epoch 11/35\n",
            "3525/3525 [==============================] - 25s 7ms/step - loss: 0.3647 - accuracy: 0.8746 - val_loss: 0.4595 - val_accuracy: 0.8516\n",
            "Epoch 12/35\n",
            "3525/3525 [==============================] - 25s 7ms/step - loss: 0.3601 - accuracy: 0.8749 - val_loss: 0.4567 - val_accuracy: 0.8576\n",
            "Epoch 13/35\n",
            "3525/3525 [==============================] - 24s 7ms/step - loss: 0.3563 - accuracy: 0.8754 - val_loss: 0.4802 - val_accuracy: 0.8628\n",
            "Epoch 14/35\n",
            "3525/3525 [==============================] - 24s 7ms/step - loss: 0.3524 - accuracy: 0.8772 - val_loss: 0.4639 - val_accuracy: 0.8585\n",
            "Epoch 15/35\n",
            "3525/3525 [==============================] - 24s 7ms/step - loss: 0.3480 - accuracy: 0.8782 - val_loss: 0.4851 - val_accuracy: 0.8577\n",
            "Epoch 16/35\n",
            "3525/3525 [==============================] - 25s 7ms/step - loss: 0.3473 - accuracy: 0.8787 - val_loss: 0.4667 - val_accuracy: 0.8543\n",
            "Epoch 17/35\n",
            "3525/3525 [==============================] - 25s 7ms/step - loss: 0.3434 - accuracy: 0.8801 - val_loss: 0.4513 - val_accuracy: 0.8585\n",
            "Epoch 18/35\n",
            "3525/3525 [==============================] - 24s 7ms/step - loss: 0.3399 - accuracy: 0.8803 - val_loss: 0.5324 - val_accuracy: 0.8603\n",
            "Epoch 19/35\n",
            "3525/3525 [==============================] - 25s 7ms/step - loss: 0.3361 - accuracy: 0.8812 - val_loss: 0.4535 - val_accuracy: 0.8603\n",
            "Epoch 20/35\n",
            "3525/3525 [==============================] - 25s 7ms/step - loss: 0.3319 - accuracy: 0.8818 - val_loss: 0.4612 - val_accuracy: 0.8593\n",
            "Epoch 21/35\n",
            "3525/3525 [==============================] - 24s 7ms/step - loss: 0.3336 - accuracy: 0.8817 - val_loss: 0.4747 - val_accuracy: 0.8619\n",
            "Epoch 22/35\n",
            "3525/3525 [==============================] - 24s 7ms/step - loss: 0.3287 - accuracy: 0.8828 - val_loss: 0.4816 - val_accuracy: 0.8639\n",
            "Epoch 23/35\n",
            "3525/3525 [==============================] - 24s 7ms/step - loss: 0.3271 - accuracy: 0.8832 - val_loss: 0.4466 - val_accuracy: 0.8641\n",
            "Epoch 24/35\n",
            "3525/3525 [==============================] - 25s 7ms/step - loss: 0.3232 - accuracy: 0.8841 - val_loss: 0.4625 - val_accuracy: 0.8576\n",
            "Epoch 25/35\n",
            "3525/3525 [==============================] - 24s 7ms/step - loss: 0.3222 - accuracy: 0.8839 - val_loss: 0.4649 - val_accuracy: 0.8641\n",
            "Epoch 26/35\n",
            "3525/3525 [==============================] - 24s 7ms/step - loss: 0.3190 - accuracy: 0.8853 - val_loss: 0.4369 - val_accuracy: 0.8617\n",
            "Epoch 27/35\n",
            "3525/3525 [==============================] - 24s 7ms/step - loss: 0.3165 - accuracy: 0.8859 - val_loss: 0.4756 - val_accuracy: 0.8615\n",
            "Epoch 28/35\n",
            "3525/3525 [==============================] - 25s 7ms/step - loss: 0.3124 - accuracy: 0.8872 - val_loss: 0.4405 - val_accuracy: 0.8634\n",
            "Epoch 29/35\n",
            "3525/3525 [==============================] - 24s 7ms/step - loss: 0.3099 - accuracy: 0.8875 - val_loss: 0.4727 - val_accuracy: 0.8648\n",
            "Epoch 30/35\n",
            "3525/3525 [==============================] - 24s 7ms/step - loss: 0.3105 - accuracy: 0.8875 - val_loss: 0.4491 - val_accuracy: 0.8594\n",
            "Epoch 31/35\n",
            "3525/3525 [==============================] - 24s 7ms/step - loss: 0.3066 - accuracy: 0.8886 - val_loss: 0.4813 - val_accuracy: 0.8645\n",
            "Epoch 32/35\n",
            "3525/3525 [==============================] - 25s 7ms/step - loss: 0.3049 - accuracy: 0.8886 - val_loss: 0.4744 - val_accuracy: 0.8631\n",
            "Epoch 33/35\n",
            "3525/3525 [==============================] - 24s 7ms/step - loss: 0.3028 - accuracy: 0.8893 - val_loss: 0.4617 - val_accuracy: 0.8680\n",
            "Epoch 34/35\n",
            "3525/3525 [==============================] - 24s 7ms/step - loss: 0.3003 - accuracy: 0.8907 - val_loss: 0.4619 - val_accuracy: 0.8656\n",
            "Epoch 35/35\n",
            "3525/3525 [==============================] - 25s 7ms/step - loss: 0.2988 - accuracy: 0.8907 - val_loss: 0.4777 - val_accuracy: 0.8618\n"
          ],
          "name": "stdout"
        }
      ]
    },
    {
      "cell_type": "code",
      "metadata": {
        "id": "prRCqDKsBGLh"
      },
      "source": [
        "model.save(BASE_SAVE_DIR + NAME + '/model.h5',save_format ='h5')"
      ],
      "execution_count": null,
      "outputs": []
    },
    {
      "cell_type": "code",
      "metadata": {
        "id": "ANey8VACTCXi",
        "colab": {
          "base_uri": "https://localhost:8080/"
        },
        "outputId": "81daff91-069c-4b06-8d1d-f1570ae2f95c"
      },
      "source": [
        "train_evaluation = model.evaluate(x_train,y_train)\n",
        "val_evaluation = model.evaluate(x_test,y_test)"
      ],
      "execution_count": null,
      "outputs": [
        {
          "output_type": "stream",
          "text": [
            "3525/3525 [==============================] - 13s 4ms/step - loss: 0.2992 - accuracy: 0.8905\n",
            "588/588 [==============================] - 2s 4ms/step - loss: 0.4777 - accuracy: 0.8618\n"
          ],
          "name": "stdout"
        }
      ]
    },
    {
      "cell_type": "code",
      "metadata": {
        "id": "W5VDNsiRTA50",
        "colab": {
          "base_uri": "https://localhost:8080/"
        },
        "outputId": "b0348185-67ca-4ece-8d3b-89f831919fb6"
      },
      "source": [
        "print(\"Loss of the model (train data) is - \" , train_evaluation[0])\n",
        "print(\"Accuracy of the model (train data) is - \" , train_evaluation[1]*100 , \"%\")\n",
        "print()\n",
        "print(\"Loss of the model (validation data) is - \" , val_evaluation[0])\n",
        "print(\"Accuracy of the model (validation data) is - \" , val_evaluation[1]*100 , \"%\")"
      ],
      "execution_count": null,
      "outputs": [
        {
          "output_type": "stream",
          "text": [
            "Loss of the model (train data) is -  0.2991774380207062\n",
            "Accuracy of the model (train data) is -  89.05230760574341 %\n",
            "\n",
            "Loss of the model (validation data) is -  0.4777216613292694\n",
            "Accuracy of the model (validation data) is -  86.18085384368896 %\n"
          ],
          "name": "stdout"
        }
      ]
    },
    {
      "cell_type": "code",
      "metadata": {
        "id": "rEHYm67OBGLh"
      },
      "source": [
        "acc = history.history['accuracy']\n",
        "val_acc = history.history['val_accuracy']\n",
        "\n",
        "loss = history.history['loss']\n",
        "val_loss = history.history['val_loss']\n",
        "\n",
        "epochs_range = range(epoch)\n",
        "\n",
        "plt.figure(figsize=(8, 8))\n",
        "plt.subplot(1, 2, 1)\n",
        "plt.plot(epochs_range, acc, label='Training Accuracy')\n",
        "plt.plot(epochs_range, val_acc, label='Validation Accuracy')\n",
        "plt.legend(loc='lower right')\n",
        "plt.title('ACCURACY')\n",
        "\n",
        "plt.subplot(1, 2, 2)\n",
        "plt.plot(epochs_range, loss, label='Training Loss')\n",
        "plt.plot(epochs_range, val_loss, label='Validation Loss')\n",
        "plt.legend(loc='upper left')\n",
        "plt.title('LOSS')\n",
        "\n",
        "plt.savefig(BASE_SAVE_DIR + NAME +'/graph.jpg')\n",
        "plt.clf()\n",
        "plt.cla()\n",
        "plt.close()"
      ],
      "execution_count": null,
      "outputs": []
    },
    {
      "cell_type": "code",
      "metadata": {
        "id": "zrW2BBkvBGLi"
      },
      "source": [
        "class_predictions = np.argmax(model.predict(x_test), axis=-1)\n",
        "\n",
        "emnist = \"0123456789ABCDEFGHIJKLMNOPQRSTUVWXYZabdefghnqrt\"\n",
        "\n",
        "predict_classes = [emnist[i] for i in class_predictions]\n",
        "actual_classes = [emnist[i] for i in np.argmax(y_test, axis=-1)]\n",
        "\n",
        "out_df = pd.DataFrame(np.vstack([predict_classes,actual_classes]).T,columns=[\"predicted_class\",\"actual_class\"])\n",
        "confusion_matrix = pd.crosstab(out_df[\"actual_class\"],out_df[\"predicted_class\"],rownames=[\"Actuals\"],colnames=[\"Predicted\"])\n",
        "plt.figure(figsize=(22, 19))\n",
        "sns.heatmap(confusion_matrix,cmap=\"Reds\",annot=True,fmt='d')\n",
        "\n",
        "plt.savefig(BASE_SAVE_DIR + NAME +'/confusion_matrix.jpg')\n",
        "plt.clf()\n",
        "plt.cla()\n",
        "plt.close()"
      ],
      "execution_count": null,
      "outputs": []
    },
    {
      "cell_type": "code",
      "metadata": {
        "id": "6Xsfnhm_Tuvu"
      },
      "source": [
        "from tensorflow.keras import backend as K\n",
        "K.clear_session()"
      ],
      "execution_count": null,
      "outputs": []
    },
    {
      "cell_type": "markdown",
      "metadata": {
        "id": "KMHwCrRoBKlt"
      },
      "source": [
        "#Experiment 4"
      ]
    },
    {
      "cell_type": "code",
      "metadata": {
        "id": "RIxG5UMoBKlu",
        "colab": {
          "base_uri": "https://localhost:8080/"
        },
        "outputId": "3e6e695f-a264-4901-945e-07793ac31e9c"
      },
      "source": [
        "epoch = 35\n",
        "optimizer = 'adam'\n",
        "\n",
        "\n",
        "NAME = \"{}-optimizer-{}-epoch-Image_Aug_1\".format(optimizer,epoch)\n",
        "\n",
        "BASE_SAVE_DIR = \"/content/drive/MyDrive/Emnist_Training/\"\n",
        "\n",
        "BASE_LOGS_DIR = \"/content/drive/MyDrive/Emnist_Training/logs\"\n",
        "\n",
        "tensorboard = TensorBoard(log_dir=\"{}/{}\".format(BASE_LOGS_DIR,NAME))\n",
        "\n",
        "#mcp_save = ModelCheckpoint(BASE_SAVE_DIR + NAME + '/cp_model.h5', save_best_only=True, monitor='val_loss',verbose=1, mode='auto')\n",
        "\n",
        "model.compile(optimizer=optimizer,\n",
        "              loss='categorical_crossentropy',\n",
        "              metrics=['accuracy'])\n",
        "              \n",
        "history = model.fit(data_generator1.flow(x_train,y_train),validation_data=(x_test,y_test), epochs=epoch, callbacks=[tensorboard])\n",
        "#history = model.fit(x_train,y_train,validation_data=(x_test,y_test), epochs=epoch, callbacks=[tensorboard])\n",
        "    "
      ],
      "execution_count": null,
      "outputs": [
        {
          "output_type": "stream",
          "text": [
            "Epoch 1/35\n",
            "3525/3525 [==============================] - 65s 16ms/step - loss: 1.1771 - accuracy: 0.6337 - val_loss: 0.6029 - val_accuracy: 0.7951\n",
            "Epoch 2/35\n",
            "3525/3525 [==============================] - 56s 16ms/step - loss: 0.6713 - accuracy: 0.7724 - val_loss: 0.4977 - val_accuracy: 0.8283\n",
            "Epoch 3/35\n",
            "3525/3525 [==============================] - 56s 16ms/step - loss: 0.5921 - accuracy: 0.7973 - val_loss: 0.4439 - val_accuracy: 0.8494\n",
            "Epoch 4/35\n",
            "3525/3525 [==============================] - 56s 16ms/step - loss: 0.5448 - accuracy: 0.8116 - val_loss: 0.4387 - val_accuracy: 0.8462\n",
            "Epoch 5/35\n",
            "3525/3525 [==============================] - 56s 16ms/step - loss: 0.5179 - accuracy: 0.8184 - val_loss: 0.4578 - val_accuracy: 0.8390\n",
            "Epoch 6/35\n",
            "3525/3525 [==============================] - 56s 16ms/step - loss: 0.4964 - accuracy: 0.8260 - val_loss: 0.4004 - val_accuracy: 0.8598\n",
            "Epoch 7/35\n",
            "3525/3525 [==============================] - 56s 16ms/step - loss: 0.4796 - accuracy: 0.8304 - val_loss: 0.4058 - val_accuracy: 0.8577\n",
            "Epoch 8/35\n",
            "3525/3525 [==============================] - 56s 16ms/step - loss: 0.4709 - accuracy: 0.8336 - val_loss: 0.4045 - val_accuracy: 0.8582\n",
            "Epoch 9/35\n",
            "3525/3525 [==============================] - 56s 16ms/step - loss: 0.4582 - accuracy: 0.8392 - val_loss: 0.3988 - val_accuracy: 0.8561\n",
            "Epoch 10/35\n",
            "3525/3525 [==============================] - 57s 16ms/step - loss: 0.4531 - accuracy: 0.8387 - val_loss: 0.4319 - val_accuracy: 0.8482\n",
            "Epoch 11/35\n",
            "3525/3525 [==============================] - 55s 16ms/step - loss: 0.4452 - accuracy: 0.8427 - val_loss: 0.3931 - val_accuracy: 0.8634\n",
            "Epoch 12/35\n",
            "3525/3525 [==============================] - 55s 16ms/step - loss: 0.4408 - accuracy: 0.8431 - val_loss: 0.3913 - val_accuracy: 0.8624\n",
            "Epoch 13/35\n",
            "3525/3525 [==============================] - 55s 16ms/step - loss: 0.4345 - accuracy: 0.8457 - val_loss: 0.3776 - val_accuracy: 0.8691\n",
            "Epoch 14/35\n",
            "3525/3525 [==============================] - 56s 16ms/step - loss: 0.4298 - accuracy: 0.8467 - val_loss: 0.4029 - val_accuracy: 0.8589\n",
            "Epoch 15/35\n",
            "3525/3525 [==============================] - 56s 16ms/step - loss: 0.4289 - accuracy: 0.8471 - val_loss: 0.3798 - val_accuracy: 0.8660\n",
            "Epoch 16/35\n",
            "3525/3525 [==============================] - 54s 15ms/step - loss: 0.4246 - accuracy: 0.8480 - val_loss: 0.3904 - val_accuracy: 0.8609\n",
            "Epoch 17/35\n",
            "3525/3525 [==============================] - 55s 16ms/step - loss: 0.4203 - accuracy: 0.8498 - val_loss: 0.3910 - val_accuracy: 0.8639\n",
            "Epoch 18/35\n",
            "3525/3525 [==============================] - 54s 15ms/step - loss: 0.4184 - accuracy: 0.8506 - val_loss: 0.3853 - val_accuracy: 0.8646\n",
            "Epoch 19/35\n",
            "3525/3525 [==============================] - 54s 15ms/step - loss: 0.4147 - accuracy: 0.8513 - val_loss: 0.4000 - val_accuracy: 0.8636\n",
            "Epoch 20/35\n",
            "3525/3525 [==============================] - 54s 15ms/step - loss: 0.4103 - accuracy: 0.8534 - val_loss: 0.3919 - val_accuracy: 0.8633\n",
            "Epoch 21/35\n",
            "3525/3525 [==============================] - 56s 16ms/step - loss: 0.4156 - accuracy: 0.8516 - val_loss: 0.4097 - val_accuracy: 0.8602\n",
            "Epoch 22/35\n",
            "3525/3525 [==============================] - 56s 16ms/step - loss: 0.4089 - accuracy: 0.8528 - val_loss: 0.3985 - val_accuracy: 0.8580\n",
            "Epoch 23/35\n",
            "3525/3525 [==============================] - 56s 16ms/step - loss: 0.4070 - accuracy: 0.8523 - val_loss: 0.4161 - val_accuracy: 0.8571\n",
            "Epoch 24/35\n",
            "3525/3525 [==============================] - 56s 16ms/step - loss: 0.4047 - accuracy: 0.8554 - val_loss: 0.4039 - val_accuracy: 0.8601\n",
            "Epoch 25/35\n",
            "3525/3525 [==============================] - 54s 15ms/step - loss: 0.4083 - accuracy: 0.8546 - val_loss: 0.3678 - val_accuracy: 0.8727\n",
            "Epoch 26/35\n",
            "3525/3525 [==============================] - 55s 15ms/step - loss: 0.4037 - accuracy: 0.8544 - val_loss: 0.3847 - val_accuracy: 0.8677\n",
            "Epoch 27/35\n",
            "3525/3525 [==============================] - 55s 16ms/step - loss: 0.4005 - accuracy: 0.8557 - val_loss: 0.3776 - val_accuracy: 0.8709\n",
            "Epoch 28/35\n",
            "3525/3525 [==============================] - 57s 16ms/step - loss: 0.4043 - accuracy: 0.8550 - val_loss: 0.3868 - val_accuracy: 0.8647\n",
            "Epoch 29/35\n",
            "3525/3525 [==============================] - 56s 16ms/step - loss: 0.4015 - accuracy: 0.8557 - val_loss: 0.3667 - val_accuracy: 0.8736\n",
            "Epoch 30/35\n",
            "3525/3525 [==============================] - 56s 16ms/step - loss: 0.3999 - accuracy: 0.8560 - val_loss: 0.4088 - val_accuracy: 0.8613\n",
            "Epoch 31/35\n",
            "3525/3525 [==============================] - 55s 16ms/step - loss: 0.3978 - accuracy: 0.8563 - val_loss: 0.3736 - val_accuracy: 0.8734\n",
            "Epoch 32/35\n",
            "3525/3525 [==============================] - 56s 16ms/step - loss: 0.3970 - accuracy: 0.8573 - val_loss: 0.3768 - val_accuracy: 0.8721\n",
            "Epoch 33/35\n",
            "3525/3525 [==============================] - 56s 16ms/step - loss: 0.3974 - accuracy: 0.8576 - val_loss: 0.3749 - val_accuracy: 0.8738\n",
            "Epoch 34/35\n",
            "3525/3525 [==============================] - 57s 16ms/step - loss: 0.3948 - accuracy: 0.8581 - val_loss: 0.3879 - val_accuracy: 0.8660\n",
            "Epoch 35/35\n",
            "3525/3525 [==============================] - 55s 16ms/step - loss: 0.3947 - accuracy: 0.8577 - val_loss: 0.4090 - val_accuracy: 0.8649\n"
          ],
          "name": "stdout"
        }
      ]
    },
    {
      "cell_type": "code",
      "metadata": {
        "id": "FeOxDJLqBKlu"
      },
      "source": [
        "model.save(BASE_SAVE_DIR + NAME + '/model.h5',save_format ='h5')"
      ],
      "execution_count": null,
      "outputs": []
    },
    {
      "cell_type": "code",
      "metadata": {
        "id": "2NONhOZeTE_g",
        "colab": {
          "base_uri": "https://localhost:8080/"
        },
        "outputId": "e4757d5b-223e-47d8-8fb7-e4a2dea74f15"
      },
      "source": [
        "train_evaluation = model.evaluate(x_train,y_train)\n",
        "val_evaluation = model.evaluate(x_test,y_test)"
      ],
      "execution_count": null,
      "outputs": [
        {
          "output_type": "stream",
          "text": [
            "3525/3525 [==============================] - 13s 4ms/step - loss: 0.3469 - accuracy: 0.8753\n",
            "588/588 [==============================] - 2s 4ms/step - loss: 0.4090 - accuracy: 0.8649\n"
          ],
          "name": "stdout"
        }
      ]
    },
    {
      "cell_type": "code",
      "metadata": {
        "id": "BwsePIbYTGmA",
        "colab": {
          "base_uri": "https://localhost:8080/"
        },
        "outputId": "093f0baf-d0e3-4a61-fa8a-bab9267ed98a"
      },
      "source": [
        "print(\"Loss of the model (train data) is - \" , train_evaluation[0])\n",
        "print(\"Accuracy of the model (train data) is - \" , train_evaluation[1]*100 , \"%\")\n",
        "print()\n",
        "print(\"Loss of the model (validation data) is - \" , val_evaluation[0])\n",
        "print(\"Accuracy of the model (validation data) is - \" , val_evaluation[1]*100 , \"%\")"
      ],
      "execution_count": null,
      "outputs": [
        {
          "output_type": "stream",
          "text": [
            "Loss of the model (train data) is -  0.3469063341617584\n",
            "Accuracy of the model (train data) is -  87.53014206886292 %\n",
            "\n",
            "Loss of the model (validation data) is -  0.40895602107048035\n",
            "Accuracy of the model (validation data) is -  86.48936152458191 %\n"
          ],
          "name": "stdout"
        }
      ]
    },
    {
      "cell_type": "code",
      "metadata": {
        "id": "OaAfVvfrBKlu"
      },
      "source": [
        "acc = history.history['accuracy']\n",
        "val_acc = history.history['val_accuracy']\n",
        "\n",
        "loss = history.history['loss']\n",
        "val_loss = history.history['val_loss']\n",
        "\n",
        "epochs_range = range(epoch)\n",
        "\n",
        "plt.figure(figsize=(8, 8))\n",
        "plt.subplot(1, 2, 1)\n",
        "plt.plot(epochs_range, acc, label='Training Accuracy')\n",
        "plt.plot(epochs_range, val_acc, label='Validation Accuracy')\n",
        "plt.legend(loc='lower right')\n",
        "plt.title('ACCURACY')\n",
        "\n",
        "plt.subplot(1, 2, 2)\n",
        "plt.plot(epochs_range, loss, label='Training Loss')\n",
        "plt.plot(epochs_range, val_loss, label='Validation Loss')\n",
        "plt.legend(loc='upper left')\n",
        "plt.title('LOSS')\n",
        "\n",
        "plt.savefig(BASE_SAVE_DIR + NAME +'/graph.jpg')\n",
        "plt.clf()\n",
        "plt.cla()\n",
        "plt.close()"
      ],
      "execution_count": null,
      "outputs": []
    },
    {
      "cell_type": "code",
      "metadata": {
        "id": "DeDM8YxdBKlv"
      },
      "source": [
        "class_predictions = np.argmax(model.predict(x_test), axis=-1)\n",
        "\n",
        "emnist = \"0123456789ABCDEFGHIJKLMNOPQRSTUVWXYZabdefghnqrt\"\n",
        "\n",
        "predict_classes = [emnist[i] for i in class_predictions]\n",
        "actual_classes = [emnist[i] for i in np.argmax(y_test, axis=-1)]\n",
        "\n",
        "out_df = pd.DataFrame(np.vstack([predict_classes,actual_classes]).T,columns=[\"predicted_class\",\"actual_class\"])\n",
        "confusion_matrix = pd.crosstab(out_df[\"actual_class\"],out_df[\"predicted_class\"],rownames=[\"Actuals\"],colnames=[\"Predicted\"])\n",
        "plt.figure(figsize=(22, 19))\n",
        "sns.heatmap(confusion_matrix,cmap=\"Reds\",annot=True,fmt='d')\n",
        "\n",
        "plt.savefig(BASE_SAVE_DIR + NAME +'/confusion_matrix.jpg')\n",
        "plt.clf()\n",
        "plt.cla()\n",
        "plt.close()"
      ],
      "execution_count": null,
      "outputs": []
    },
    {
      "cell_type": "code",
      "metadata": {
        "id": "3fD12p86Tsz0"
      },
      "source": [
        "from tensorflow.keras import backend as K\n",
        "K.clear_session()"
      ],
      "execution_count": null,
      "outputs": []
    },
    {
      "cell_type": "markdown",
      "metadata": {
        "id": "BmQ823DJFjZC"
      },
      "source": [
        "#Experiment 5"
      ]
    },
    {
      "cell_type": "code",
      "metadata": {
        "id": "x43d7y2tFjZL",
        "colab": {
          "base_uri": "https://localhost:8080/"
        },
        "outputId": "0dea3334-98b0-4874-c95a-75b12cbd4bea"
      },
      "source": [
        "epoch = 35\n",
        "optimizer = 'rmsprop'\n",
        "\n",
        "\n",
        "NAME = \"{}-optimizer-{}-epoch-Image_Aug_1\".format(optimizer,epoch)\n",
        "\n",
        "BASE_SAVE_DIR = \"/content/drive/MyDrive/Emnist_Training/\"\n",
        "\n",
        "BASE_LOGS_DIR = \"/content/drive/MyDrive/Emnist_Training/logs\"\n",
        "\n",
        "tensorboard = TensorBoard(log_dir=\"{}/{}\".format(BASE_LOGS_DIR,NAME))\n",
        "\n",
        "#mcp_save = ModelCheckpoint(BASE_SAVE_DIR + NAME + '/cp_model.h5', save_best_only=True, monitor='val_loss',verbose=1, mode='auto')\n",
        "\n",
        "model.compile(optimizer=optimizer,\n",
        "              loss='categorical_crossentropy',\n",
        "              metrics=['accuracy'])\n",
        "              \n",
        "history = model.fit(data_generator1.flow(x_train,y_train),validation_data=(x_test,y_test), epochs=epoch, callbacks=[tensorboard])\n",
        "#history = model.fit(x_train,y_train,validation_data=(x_test,y_test), epochs=epoch, callbacks=[tensorboard])\n",
        "    "
      ],
      "execution_count": null,
      "outputs": [
        {
          "output_type": "stream",
          "text": [
            "Epoch 1/35\n",
            "3525/3525 [==============================] - 60s 17ms/step - loss: 0.4243 - accuracy: 0.8536 - val_loss: 0.4745 - val_accuracy: 0.8563\n",
            "Epoch 2/35\n",
            "3525/3525 [==============================] - 58s 16ms/step - loss: 0.4963 - accuracy: 0.8404 - val_loss: 0.5893 - val_accuracy: 0.8522\n",
            "Epoch 3/35\n",
            "3525/3525 [==============================] - 57s 16ms/step - loss: 0.5694 - accuracy: 0.8229 - val_loss: 1.0277 - val_accuracy: 0.8476\n",
            "Epoch 4/35\n",
            "3525/3525 [==============================] - 58s 16ms/step - loss: 0.6200 - accuracy: 0.8109 - val_loss: 4.6985 - val_accuracy: 0.8064\n",
            "Epoch 5/35\n",
            "3525/3525 [==============================] - 57s 16ms/step - loss: 0.6626 - accuracy: 0.8001 - val_loss: 0.8457 - val_accuracy: 0.8360\n",
            "Epoch 6/35\n",
            "3525/3525 [==============================] - 57s 16ms/step - loss: 0.6996 - accuracy: 0.7909 - val_loss: 1.5204 - val_accuracy: 0.8372\n",
            "Epoch 7/35\n",
            "3525/3525 [==============================] - 57s 16ms/step - loss: 0.7256 - accuracy: 0.7841 - val_loss: 1.0239 - val_accuracy: 0.8245\n",
            "Epoch 8/35\n",
            "3525/3525 [==============================] - 58s 17ms/step - loss: 0.7615 - accuracy: 0.7749 - val_loss: 0.7493 - val_accuracy: 0.8342\n",
            "Epoch 9/35\n",
            "3525/3525 [==============================] - 57s 16ms/step - loss: 0.8166 - accuracy: 0.7653 - val_loss: 1.4364 - val_accuracy: 0.8259\n",
            "Epoch 10/35\n",
            "3525/3525 [==============================] - 58s 16ms/step - loss: 0.8387 - accuracy: 0.7598 - val_loss: 1.2078 - val_accuracy: 0.7921\n",
            "Epoch 11/35\n",
            "3525/3525 [==============================] - 57s 16ms/step - loss: 0.8687 - accuracy: 0.7546 - val_loss: 0.7975 - val_accuracy: 0.8000\n",
            "Epoch 12/35\n",
            "3525/3525 [==============================] - 58s 16ms/step - loss: 0.9167 - accuracy: 0.7453 - val_loss: 1.0965 - val_accuracy: 0.8194\n",
            "Epoch 13/35\n",
            "3525/3525 [==============================] - 58s 16ms/step - loss: 0.9845 - accuracy: 0.7334 - val_loss: 2.1276 - val_accuracy: 0.8294\n",
            "Epoch 14/35\n",
            "3525/3525 [==============================] - 58s 16ms/step - loss: 1.0245 - accuracy: 0.7288 - val_loss: 1.4363 - val_accuracy: 0.7831\n",
            "Epoch 15/35\n",
            "3525/3525 [==============================] - 57s 16ms/step - loss: 1.0260 - accuracy: 0.7268 - val_loss: 1.1929 - val_accuracy: 0.7669\n",
            "Epoch 16/35\n",
            "3525/3525 [==============================] - 58s 16ms/step - loss: 1.0533 - accuracy: 0.7173 - val_loss: 0.7797 - val_accuracy: 0.7748\n",
            "Epoch 17/35\n",
            "3525/3525 [==============================] - 57s 16ms/step - loss: 1.0986 - accuracy: 0.7123 - val_loss: 0.7688 - val_accuracy: 0.8015\n",
            "Epoch 18/35\n",
            "3525/3525 [==============================] - 58s 17ms/step - loss: 1.0879 - accuracy: 0.7123 - val_loss: 0.8911 - val_accuracy: 0.7326\n",
            "Epoch 19/35\n",
            "3525/3525 [==============================] - 58s 16ms/step - loss: 1.1290 - accuracy: 0.7016 - val_loss: 1.2924 - val_accuracy: 0.7835\n",
            "Epoch 20/35\n",
            "3525/3525 [==============================] - 57s 16ms/step - loss: 1.1638 - accuracy: 0.6996 - val_loss: 1.1858 - val_accuracy: 0.7683\n",
            "Epoch 21/35\n",
            "3525/3525 [==============================] - 57s 16ms/step - loss: 1.1670 - accuracy: 0.6951 - val_loss: 1.3216 - val_accuracy: 0.7738\n",
            "Epoch 22/35\n",
            "3525/3525 [==============================] - 58s 16ms/step - loss: 1.2063 - accuracy: 0.6894 - val_loss: 2.2310 - val_accuracy: 0.5814\n",
            "Epoch 23/35\n",
            "3525/3525 [==============================] - 59s 17ms/step - loss: 1.2652 - accuracy: 0.6790 - val_loss: 1.2668 - val_accuracy: 0.7314\n",
            "Epoch 24/35\n",
            "3525/3525 [==============================] - 59s 17ms/step - loss: 1.2792 - accuracy: 0.6727 - val_loss: 1.3777 - val_accuracy: 0.7865\n",
            "Epoch 25/35\n",
            "3525/3525 [==============================] - 59s 17ms/step - loss: 1.2887 - accuracy: 0.6711 - val_loss: 3.0324 - val_accuracy: 0.7805\n",
            "Epoch 26/35\n",
            "3525/3525 [==============================] - 60s 17ms/step - loss: 1.2913 - accuracy: 0.6712 - val_loss: 1.0216 - val_accuracy: 0.7545\n",
            "Epoch 27/35\n",
            "3525/3525 [==============================] - 60s 17ms/step - loss: 1.2762 - accuracy: 0.6647 - val_loss: 1.1059 - val_accuracy: 0.7751\n",
            "Epoch 28/35\n",
            "3525/3525 [==============================] - 61s 17ms/step - loss: 1.3103 - accuracy: 0.6645 - val_loss: 13.7251 - val_accuracy: 0.7073\n",
            "Epoch 29/35\n",
            "3525/3525 [==============================] - 59s 17ms/step - loss: 1.3247 - accuracy: 0.6611 - val_loss: 3.1440 - val_accuracy: 0.7732\n",
            "Epoch 30/35\n",
            "3525/3525 [==============================] - 58s 16ms/step - loss: 1.3844 - accuracy: 0.6549 - val_loss: 2.2035 - val_accuracy: 0.7793\n",
            "Epoch 31/35\n",
            "3525/3525 [==============================] - 59s 17ms/step - loss: 1.4278 - accuracy: 0.6484 - val_loss: 1.4499 - val_accuracy: 0.7620\n",
            "Epoch 32/35\n",
            "3525/3525 [==============================] - 59s 17ms/step - loss: 1.4316 - accuracy: 0.6430 - val_loss: 2.5765 - val_accuracy: 0.6793\n",
            "Epoch 33/35\n",
            "3525/3525 [==============================] - 59s 17ms/step - loss: 1.4857 - accuracy: 0.6291 - val_loss: 3.6137 - val_accuracy: 0.7088\n",
            "Epoch 34/35\n",
            "3525/3525 [==============================] - 59s 17ms/step - loss: 1.5887 - accuracy: 0.6191 - val_loss: 5.3205 - val_accuracy: 0.6262\n",
            "Epoch 35/35\n",
            "3525/3525 [==============================] - 60s 17ms/step - loss: 2.0191 - accuracy: 0.6131 - val_loss: 4.0131 - val_accuracy: 0.7389\n"
          ],
          "name": "stdout"
        }
      ]
    },
    {
      "cell_type": "code",
      "metadata": {
        "id": "fQ11pN4bFjZM"
      },
      "source": [
        "model.save(BASE_SAVE_DIR + NAME + '/model.h5',save_format ='h5')"
      ],
      "execution_count": null,
      "outputs": []
    },
    {
      "cell_type": "code",
      "metadata": {
        "id": "2w8TlV3-TJRz",
        "colab": {
          "base_uri": "https://localhost:8080/"
        },
        "outputId": "04022514-389a-4d80-fbfd-fe018dc12267"
      },
      "source": [
        "train_evaluation = model.evaluate(x_train,y_train)\n",
        "val_evaluation = model.evaluate(x_test,y_test)"
      ],
      "execution_count": null,
      "outputs": [
        {
          "output_type": "stream",
          "text": [
            "3525/3525 [==============================] - 13s 4ms/step - loss: 2.8704 - accuracy: 0.7414\n",
            "588/588 [==============================] - 2s 4ms/step - loss: 4.0131 - accuracy: 0.7389\n"
          ],
          "name": "stdout"
        }
      ]
    },
    {
      "cell_type": "code",
      "metadata": {
        "id": "PavvtqQxTH3I",
        "colab": {
          "base_uri": "https://localhost:8080/"
        },
        "outputId": "2ae07494-a807-4a77-ca37-1c1ab1b2238b"
      },
      "source": [
        "print(\"Loss of the model (train data) is - \" , train_evaluation[0])\n",
        "print(\"Accuracy of the model (train data) is - \" , train_evaluation[1]*100 , \"%\")\n",
        "print()\n",
        "print(\"Loss of the model (validation data) is - \" , val_evaluation[0])\n",
        "print(\"Accuracy of the model (validation data) is - \" , val_evaluation[1]*100 , \"%\")"
      ],
      "execution_count": null,
      "outputs": [
        {
          "output_type": "stream",
          "text": [
            "Loss of the model (train data) is -  2.8703582286834717\n",
            "Accuracy of the model (train data) is -  74.1374135017395 %\n",
            "\n",
            "Loss of the model (validation data) is -  4.013098239898682\n",
            "Accuracy of the model (validation data) is -  73.8936185836792 %\n"
          ],
          "name": "stdout"
        }
      ]
    },
    {
      "cell_type": "code",
      "metadata": {
        "id": "n1IPH5HvFjZM"
      },
      "source": [
        "acc = history.history['accuracy']\n",
        "val_acc = history.history['val_accuracy']\n",
        "\n",
        "loss = history.history['loss']\n",
        "val_loss = history.history['val_loss']\n",
        "\n",
        "epochs_range = range(epoch)\n",
        "\n",
        "plt.figure(figsize=(8, 8))\n",
        "plt.subplot(1, 2, 1)\n",
        "plt.plot(epochs_range, acc, label='Training Accuracy')\n",
        "plt.plot(epochs_range, val_acc, label='Validation Accuracy')\n",
        "plt.legend(loc='lower right')\n",
        "plt.title('ACCURACY')\n",
        "\n",
        "plt.subplot(1, 2, 2)\n",
        "plt.plot(epochs_range, loss, label='Training Loss')\n",
        "plt.plot(epochs_range, val_loss, label='Validation Loss')\n",
        "plt.legend(loc='upper left')\n",
        "plt.title('LOSS')\n",
        "\n",
        "plt.savefig(BASE_SAVE_DIR + NAME +'/graph.jpg')\n",
        "plt.clf()\n",
        "plt.cla()\n",
        "plt.close()"
      ],
      "execution_count": null,
      "outputs": []
    },
    {
      "cell_type": "code",
      "metadata": {
        "id": "8c-XrGQ-FjZM"
      },
      "source": [
        "class_predictions = np.argmax(model.predict(x_test), axis=-1)\n",
        "\n",
        "emnist = \"0123456789ABCDEFGHIJKLMNOPQRSTUVWXYZabdefghnqrt\"\n",
        "\n",
        "predict_classes = [emnist[i] for i in class_predictions]\n",
        "actual_classes = [emnist[i] for i in np.argmax(y_test, axis=-1)]\n",
        "\n",
        "out_df = pd.DataFrame(np.vstack([predict_classes,actual_classes]).T,columns=[\"predicted_class\",\"actual_class\"])\n",
        "confusion_matrix = pd.crosstab(out_df[\"actual_class\"],out_df[\"predicted_class\"],rownames=[\"Actuals\"],colnames=[\"Predicted\"])\n",
        "plt.figure(figsize=(22, 19))\n",
        "sns.heatmap(confusion_matrix,cmap=\"Reds\",annot=True,fmt='d')\n",
        "\n",
        "plt.savefig(BASE_SAVE_DIR + NAME +'/confusion_matrix.jpg')\n",
        "plt.clf()\n",
        "plt.cla()\n",
        "plt.close()"
      ],
      "execution_count": null,
      "outputs": []
    },
    {
      "cell_type": "code",
      "metadata": {
        "id": "wU8_GtmgTrEk"
      },
      "source": [
        "from tensorflow.keras import backend as K\n",
        "K.clear_session()"
      ],
      "execution_count": null,
      "outputs": []
    },
    {
      "cell_type": "markdown",
      "metadata": {
        "id": "z4p2LxphFpGW"
      },
      "source": [
        "\n",
        "\n",
        "#Experiment 6"
      ]
    },
    {
      "cell_type": "code",
      "metadata": {
        "id": "66rLAtTmFpGW",
        "colab": {
          "base_uri": "https://localhost:8080/"
        },
        "outputId": "686bb422-9cd4-4901-e28c-8ccd140b9681"
      },
      "source": [
        "epoch = 35\n",
        "optimizer = 'adamax'\n",
        "\n",
        "\n",
        "NAME = \"{}-optimizer-{}-epoch-Image_Aug_1\".format(optimizer,epoch)\n",
        "\n",
        "BASE_SAVE_DIR = \"/content/drive/MyDrive/Emnist_Training/\"\n",
        "\n",
        "BASE_LOGS_DIR = \"/content/drive/MyDrive/Emnist_Training/logs\"\n",
        "\n",
        "tensorboard = TensorBoard(log_dir=\"{}/{}\".format(BASE_LOGS_DIR,NAME))\n",
        "\n",
        "#mcp_save = ModelCheckpoint(BASE_SAVE_DIR + NAME + '/cp_model.h5', save_best_only=True, monitor='val_loss',verbose=1, mode='auto')\n",
        "\n",
        "model.compile(optimizer=optimizer,\n",
        "              loss='categorical_crossentropy',\n",
        "              metrics=['accuracy'])\n",
        "              \n",
        "history = model.fit(data_generator1.flow(x_train,y_train),validation_data=(x_test,y_test), epochs=epoch, callbacks=[tensorboard])\n",
        "#history = model.fit(x_train,y_train,validation_data=(x_test,y_test), epochs=epoch, callbacks=[tensorboard])\n",
        "    "
      ],
      "execution_count": null,
      "outputs": [
        {
          "output_type": "stream",
          "text": [
            "Epoch 1/35\n",
            "3525/3525 [==============================] - 60s 17ms/step - loss: 0.9499 - accuracy: 0.7287 - val_loss: 2.6692 - val_accuracy: 0.7863\n",
            "Epoch 2/35\n",
            "3525/3525 [==============================] - 58s 17ms/step - loss: 0.8932 - accuracy: 0.7407 - val_loss: 2.2538 - val_accuracy: 0.8056\n",
            "Epoch 3/35\n",
            "3525/3525 [==============================] - 59s 17ms/step - loss: 0.9003 - accuracy: 0.7478 - val_loss: 1.9673 - val_accuracy: 0.8032\n",
            "Epoch 4/35\n",
            "3525/3525 [==============================] - 58s 16ms/step - loss: 0.8313 - accuracy: 0.7511 - val_loss: 2.1072 - val_accuracy: 0.7985\n",
            "Epoch 5/35\n",
            "3525/3525 [==============================] - 59s 17ms/step - loss: 0.8197 - accuracy: 0.7564 - val_loss: 1.8897 - val_accuracy: 0.8047\n",
            "Epoch 6/35\n",
            "3525/3525 [==============================] - 58s 17ms/step - loss: 0.8005 - accuracy: 0.7604 - val_loss: 1.6767 - val_accuracy: 0.8085\n",
            "Epoch 7/35\n",
            "3525/3525 [==============================] - 57s 16ms/step - loss: 0.7989 - accuracy: 0.7587 - val_loss: 1.6312 - val_accuracy: 0.8102\n",
            "Epoch 8/35\n",
            "3525/3525 [==============================] - 59s 17ms/step - loss: 0.9123 - accuracy: 0.7677 - val_loss: 1.3951 - val_accuracy: 0.8036\n",
            "Epoch 9/35\n",
            "3525/3525 [==============================] - 59s 17ms/step - loss: 0.7675 - accuracy: 0.7664 - val_loss: 1.5020 - val_accuracy: 0.8141\n",
            "Epoch 10/35\n",
            "3525/3525 [==============================] - 59s 17ms/step - loss: 0.7701 - accuracy: 0.7676 - val_loss: 1.4077 - val_accuracy: 0.7949\n",
            "Epoch 11/35\n",
            "3525/3525 [==============================] - 58s 16ms/step - loss: 0.7648 - accuracy: 0.7717 - val_loss: 1.2954 - val_accuracy: 0.8109\n",
            "Epoch 12/35\n",
            "3525/3525 [==============================] - 58s 17ms/step - loss: 0.7475 - accuracy: 0.7719 - val_loss: 1.3733 - val_accuracy: 0.8120\n",
            "Epoch 13/35\n",
            "3525/3525 [==============================] - 58s 16ms/step - loss: 0.7403 - accuracy: 0.7729 - val_loss: 1.1481 - val_accuracy: 0.8128\n",
            "Epoch 14/35\n",
            "3525/3525 [==============================] - 58s 16ms/step - loss: 0.7341 - accuracy: 0.7754 - val_loss: 1.1387 - val_accuracy: 0.8012\n",
            "Epoch 15/35\n",
            "3525/3525 [==============================] - 58s 17ms/step - loss: 0.7299 - accuracy: 0.7746 - val_loss: 1.1171 - val_accuracy: 0.8213\n",
            "Epoch 16/35\n",
            "3525/3525 [==============================] - 57s 16ms/step - loss: 0.7248 - accuracy: 0.7779 - val_loss: 1.0919 - val_accuracy: 0.8281\n",
            "Epoch 17/35\n",
            "3525/3525 [==============================] - 58s 17ms/step - loss: 0.7087 - accuracy: 0.7793 - val_loss: 1.0727 - val_accuracy: 0.8247\n",
            "Epoch 18/35\n",
            "3525/3525 [==============================] - 58s 16ms/step - loss: 0.7114 - accuracy: 0.7793 - val_loss: 0.9553 - val_accuracy: 0.8210\n",
            "Epoch 19/35\n",
            "3525/3525 [==============================] - 57s 16ms/step - loss: 0.7008 - accuracy: 0.7826 - val_loss: 1.0353 - val_accuracy: 0.8291\n",
            "Epoch 20/35\n",
            "3525/3525 [==============================] - 59s 17ms/step - loss: 0.6993 - accuracy: 0.7827 - val_loss: 0.7554 - val_accuracy: 0.8194\n",
            "Epoch 21/35\n",
            "3525/3525 [==============================] - 60s 17ms/step - loss: 0.6914 - accuracy: 0.7860 - val_loss: 0.8638 - val_accuracy: 0.8137\n",
            "Epoch 22/35\n",
            "3525/3525 [==============================] - 58s 17ms/step - loss: 0.6850 - accuracy: 0.7847 - val_loss: 0.9517 - val_accuracy: 0.8032\n",
            "Epoch 23/35\n",
            "3525/3525 [==============================] - 57s 16ms/step - loss: 0.6898 - accuracy: 0.7841 - val_loss: 0.6569 - val_accuracy: 0.8280\n",
            "Epoch 24/35\n",
            "3525/3525 [==============================] - 57s 16ms/step - loss: 0.6785 - accuracy: 0.7871 - val_loss: 0.6999 - val_accuracy: 0.8249\n",
            "Epoch 25/35\n",
            "3525/3525 [==============================] - 58s 16ms/step - loss: 0.6757 - accuracy: 0.7889 - val_loss: 0.7926 - val_accuracy: 0.8185\n",
            "Epoch 26/35\n",
            "3525/3525 [==============================] - 59s 17ms/step - loss: 0.6755 - accuracy: 0.7888 - val_loss: 0.7639 - val_accuracy: 0.8237\n",
            "Epoch 27/35\n",
            "3525/3525 [==============================] - 58s 16ms/step - loss: 0.6808 - accuracy: 0.7884 - val_loss: 0.7023 - val_accuracy: 0.8180\n",
            "Epoch 28/35\n",
            "3525/3525 [==============================] - 58s 17ms/step - loss: 0.6723 - accuracy: 0.7905 - val_loss: 0.7478 - val_accuracy: 0.8274\n",
            "Epoch 29/35\n",
            "3525/3525 [==============================] - 58s 17ms/step - loss: 0.6629 - accuracy: 0.7921 - val_loss: 0.7189 - val_accuracy: 0.8157\n",
            "Epoch 30/35\n",
            "3525/3525 [==============================] - 59s 17ms/step - loss: 0.6658 - accuracy: 0.7910 - val_loss: 0.7713 - val_accuracy: 0.8205\n",
            "Epoch 31/35\n",
            "3525/3525 [==============================] - 58s 16ms/step - loss: 0.6582 - accuracy: 0.7937 - val_loss: 0.6584 - val_accuracy: 0.8268\n",
            "Epoch 32/35\n",
            "3525/3525 [==============================] - 57s 16ms/step - loss: 0.6497 - accuracy: 0.7946 - val_loss: 0.7161 - val_accuracy: 0.8328\n",
            "Epoch 33/35\n",
            "3525/3525 [==============================] - 58s 16ms/step - loss: 0.6598 - accuracy: 0.7936 - val_loss: 0.7705 - val_accuracy: 0.8196\n",
            "Epoch 34/35\n",
            "3525/3525 [==============================] - 57s 16ms/step - loss: 0.6471 - accuracy: 0.7966 - val_loss: 0.6265 - val_accuracy: 0.8299\n",
            "Epoch 35/35\n",
            "3525/3525 [==============================] - 58s 16ms/step - loss: 0.6491 - accuracy: 0.7963 - val_loss: 0.6826 - val_accuracy: 0.8299\n"
          ],
          "name": "stdout"
        }
      ]
    },
    {
      "cell_type": "code",
      "metadata": {
        "id": "Vb505u1uFpGX"
      },
      "source": [
        "model.save(BASE_SAVE_DIR + NAME + '/model.h5',save_format ='h5')"
      ],
      "execution_count": null,
      "outputs": []
    },
    {
      "cell_type": "code",
      "metadata": {
        "id": "2BLW-uvlTKYv",
        "colab": {
          "base_uri": "https://localhost:8080/"
        },
        "outputId": "80423af6-f5a4-4e3c-cf00-e69df4958195"
      },
      "source": [
        "train_evaluation = model.evaluate(x_train,y_train)\n",
        "val_evaluation = model.evaluate(x_test,y_test)"
      ],
      "execution_count": null,
      "outputs": [
        {
          "output_type": "stream",
          "text": [
            "3525/3525 [==============================] - 13s 4ms/step - loss: 0.6375 - accuracy: 0.8360\n",
            "588/588 [==============================] - 2s 4ms/step - loss: 0.6826 - accuracy: 0.8299\n"
          ],
          "name": "stdout"
        }
      ]
    },
    {
      "cell_type": "code",
      "metadata": {
        "id": "QznA3XjhTLxP",
        "colab": {
          "base_uri": "https://localhost:8080/"
        },
        "outputId": "6a9f0435-5d8f-4e70-eb8b-0046a843eb2b"
      },
      "source": [
        "print(\"Loss of the model (train data) is - \" , train_evaluation[0])\n",
        "print(\"Accuracy of the model (train data) is - \" , train_evaluation[1]*100 , \"%\")\n",
        "print()\n",
        "print(\"Loss of the model (validation data) is - \" , val_evaluation[0])\n",
        "print(\"Accuracy of the model (validation data) is - \" , val_evaluation[1]*100 , \"%\")"
      ],
      "execution_count": null,
      "outputs": [
        {
          "output_type": "stream",
          "text": [
            "Loss of the model (train data) is -  0.6374857425689697\n",
            "Accuracy of the model (train data) is -  83.59840512275696 %\n",
            "\n",
            "Loss of the model (validation data) is -  0.6825701594352722\n",
            "Accuracy of the model (validation data) is -  82.98935890197754 %\n"
          ],
          "name": "stdout"
        }
      ]
    },
    {
      "cell_type": "code",
      "metadata": {
        "id": "q6q7HSvBFpGX"
      },
      "source": [
        "acc = history.history['accuracy']\n",
        "val_acc = history.history['val_accuracy']\n",
        "\n",
        "loss = history.history['loss']\n",
        "val_loss = history.history['val_loss']\n",
        "\n",
        "epochs_range = range(epoch)\n",
        "\n",
        "plt.figure(figsize=(8, 8))\n",
        "plt.subplot(1, 2, 1)\n",
        "plt.plot(epochs_range, acc, label='Training Accuracy')\n",
        "plt.plot(epochs_range, val_acc, label='Validation Accuracy')\n",
        "plt.legend(loc='lower right')\n",
        "plt.title('ACCURACY')\n",
        "\n",
        "plt.subplot(1, 2, 2)\n",
        "plt.plot(epochs_range, loss, label='Training Loss')\n",
        "plt.plot(epochs_range, val_loss, label='Validation Loss')\n",
        "plt.legend(loc='upper left')\n",
        "plt.title('LOSS')\n",
        "\n",
        "plt.savefig(BASE_SAVE_DIR + NAME +'/graph.jpg')\n",
        "plt.clf()\n",
        "plt.cla()\n",
        "plt.close()"
      ],
      "execution_count": null,
      "outputs": []
    },
    {
      "cell_type": "code",
      "metadata": {
        "id": "TzDi5GppFpGX"
      },
      "source": [
        "class_predictions = np.argmax(model.predict(x_test), axis=-1)\n",
        "\n",
        "emnist = \"0123456789ABCDEFGHIJKLMNOPQRSTUVWXYZabdefghnqrt\"\n",
        "\n",
        "predict_classes = [emnist[i] for i in class_predictions]\n",
        "actual_classes = [emnist[i] for i in np.argmax(y_test, axis=-1)]\n",
        "\n",
        "out_df = pd.DataFrame(np.vstack([predict_classes,actual_classes]).T,columns=[\"predicted_class\",\"actual_class\"])\n",
        "confusion_matrix = pd.crosstab(out_df[\"actual_class\"],out_df[\"predicted_class\"],rownames=[\"Actuals\"],colnames=[\"Predicted\"])\n",
        "plt.figure(figsize=(22, 19))\n",
        "sns.heatmap(confusion_matrix,cmap=\"Reds\",annot=True,fmt='d')\n",
        "\n",
        "plt.savefig(BASE_SAVE_DIR + NAME +'/confusion_matrix.jpg')\n",
        "plt.clf()\n",
        "plt.cla()\n",
        "plt.close()"
      ],
      "execution_count": null,
      "outputs": []
    },
    {
      "cell_type": "code",
      "metadata": {
        "id": "2n6DqL0wTpP7"
      },
      "source": [
        "from tensorflow.keras import backend as K\n",
        "K.clear_session()"
      ],
      "execution_count": null,
      "outputs": []
    },
    {
      "cell_type": "markdown",
      "metadata": {
        "id": "bnPHWnO8JXtL"
      },
      "source": [
        "\n",
        "\n",
        "#Experiment 7"
      ]
    },
    {
      "cell_type": "code",
      "metadata": {
        "id": "CV6vEz0yJXtU",
        "colab": {
          "base_uri": "https://localhost:8080/"
        },
        "outputId": "f26886c0-5dd6-4063-aeac-dba0a8ac7ba6"
      },
      "source": [
        "epoch = 35\n",
        "optimizer = 'adam'\n",
        "\n",
        "\n",
        "NAME = \"{}-optimizer-{}-epoch-Image_Aug_2\".format(optimizer,epoch)\n",
        "\n",
        "BASE_SAVE_DIR = \"/content/drive/MyDrive/Emnist_Training/\"\n",
        "\n",
        "BASE_LOGS_DIR = \"/content/drive/MyDrive/Emnist_Training/logs\"\n",
        "\n",
        "tensorboard = TensorBoard(log_dir=\"{}/{}\".format(BASE_LOGS_DIR,NAME))\n",
        "\n",
        "#mcp_save = ModelCheckpoint(BASE_SAVE_DIR + NAME + '/cp_model.h5', save_best_only=True, monitor='val_loss',verbose=1, mode='auto')\n",
        "\n",
        "model.compile(optimizer=optimizer,\n",
        "              loss='categorical_crossentropy',\n",
        "              metrics=['accuracy'])\n",
        "              \n",
        "history = model.fit(data_generator2.flow(x_train,y_train),validation_data=(x_test,y_test), epochs=epoch, callbacks=[tensorboard])\n",
        "#history = model.fit(x_train,y_train,validation_data=(x_test,y_test), epochs=epoch, callbacks=[tensorboard])\n",
        "    "
      ],
      "execution_count": null,
      "outputs": [
        {
          "output_type": "stream",
          "text": [
            "Epoch 1/35\n",
            "3525/3525 [==============================] - 76s 15ms/step - loss: 0.6627 - accuracy: 0.7835 - val_loss: 0.4648 - val_accuracy: 0.8347\n",
            "Epoch 2/35\n",
            "3525/3525 [==============================] - 53s 15ms/step - loss: 0.3943 - accuracy: 0.8570 - val_loss: 0.4052 - val_accuracy: 0.8522\n",
            "Epoch 3/35\n",
            "3525/3525 [==============================] - 51s 15ms/step - loss: 0.3466 - accuracy: 0.8714 - val_loss: 0.3764 - val_accuracy: 0.8707\n",
            "Epoch 4/35\n",
            "3525/3525 [==============================] - 52s 15ms/step - loss: 0.3175 - accuracy: 0.8808 - val_loss: 0.3628 - val_accuracy: 0.8750\n",
            "Epoch 5/35\n",
            "3525/3525 [==============================] - 52s 15ms/step - loss: 0.2950 - accuracy: 0.8862 - val_loss: 0.3657 - val_accuracy: 0.8740\n",
            "Epoch 6/35\n",
            "3525/3525 [==============================] - 51s 15ms/step - loss: 0.2778 - accuracy: 0.8920 - val_loss: 0.3838 - val_accuracy: 0.8723\n",
            "Epoch 7/35\n",
            "3525/3525 [==============================] - 52s 15ms/step - loss: 0.2613 - accuracy: 0.8974 - val_loss: 0.3670 - val_accuracy: 0.8792\n",
            "Epoch 8/35\n",
            "3525/3525 [==============================] - 52s 15ms/step - loss: 0.2491 - accuracy: 0.9000 - val_loss: 0.3790 - val_accuracy: 0.8760\n",
            "Epoch 9/35\n",
            "3525/3525 [==============================] - 51s 15ms/step - loss: 0.2417 - accuracy: 0.9027 - val_loss: 0.3968 - val_accuracy: 0.8749\n",
            "Epoch 10/35\n",
            "3525/3525 [==============================] - 52s 15ms/step - loss: 0.2304 - accuracy: 0.9063 - val_loss: 0.4050 - val_accuracy: 0.8774\n",
            "Epoch 11/35\n",
            "3525/3525 [==============================] - 51s 15ms/step - loss: 0.2230 - accuracy: 0.9088 - val_loss: 0.4032 - val_accuracy: 0.8727\n",
            "Epoch 12/35\n",
            "3525/3525 [==============================] - 52s 15ms/step - loss: 0.2168 - accuracy: 0.9118 - val_loss: 0.4358 - val_accuracy: 0.8741\n",
            "Epoch 13/35\n",
            "3525/3525 [==============================] - 51s 15ms/step - loss: 0.2087 - accuracy: 0.9140 - val_loss: 0.4267 - val_accuracy: 0.8732\n",
            "Epoch 14/35\n",
            "3525/3525 [==============================] - 52s 15ms/step - loss: 0.2036 - accuracy: 0.9151 - val_loss: 0.4717 - val_accuracy: 0.8736\n",
            "Epoch 15/35\n",
            "3525/3525 [==============================] - 52s 15ms/step - loss: 0.2002 - accuracy: 0.9172 - val_loss: 0.4386 - val_accuracy: 0.8764\n",
            "Epoch 16/35\n",
            "3525/3525 [==============================] - 51s 15ms/step - loss: 0.1943 - accuracy: 0.9189 - val_loss: 0.4664 - val_accuracy: 0.8726\n",
            "Epoch 17/35\n",
            "3525/3525 [==============================] - 52s 15ms/step - loss: 0.1876 - accuracy: 0.9213 - val_loss: 0.5130 - val_accuracy: 0.8684\n",
            "Epoch 18/35\n",
            "3525/3525 [==============================] - 52s 15ms/step - loss: 0.1860 - accuracy: 0.9225 - val_loss: 0.5336 - val_accuracy: 0.8704\n",
            "Epoch 19/35\n",
            "3525/3525 [==============================] - 51s 15ms/step - loss: 0.1811 - accuracy: 0.9245 - val_loss: 0.5075 - val_accuracy: 0.8737\n",
            "Epoch 20/35\n",
            "3525/3525 [==============================] - 51s 15ms/step - loss: 0.1804 - accuracy: 0.9245 - val_loss: 0.5021 - val_accuracy: 0.8722\n",
            "Epoch 21/35\n",
            "3525/3525 [==============================] - 52s 15ms/step - loss: 0.1754 - accuracy: 0.9271 - val_loss: 0.5796 - val_accuracy: 0.8682\n",
            "Epoch 22/35\n",
            "3525/3525 [==============================] - 51s 15ms/step - loss: 0.1732 - accuracy: 0.9276 - val_loss: 0.5724 - val_accuracy: 0.8732\n",
            "Epoch 23/35\n",
            "3525/3525 [==============================] - 51s 14ms/step - loss: 0.1698 - accuracy: 0.9293 - val_loss: 0.6020 - val_accuracy: 0.8665\n",
            "Epoch 24/35\n",
            "3525/3525 [==============================] - 52s 15ms/step - loss: 0.1668 - accuracy: 0.9300 - val_loss: 0.5903 - val_accuracy: 0.8702\n",
            "Epoch 25/35\n",
            "3525/3525 [==============================] - 52s 15ms/step - loss: 0.1647 - accuracy: 0.9301 - val_loss: 0.6382 - val_accuracy: 0.8671\n",
            "Epoch 26/35\n",
            "3525/3525 [==============================] - 53s 15ms/step - loss: 0.1618 - accuracy: 0.9324 - val_loss: 0.6255 - val_accuracy: 0.8714\n",
            "Epoch 27/35\n",
            "3525/3525 [==============================] - 51s 15ms/step - loss: 0.1616 - accuracy: 0.9328 - val_loss: 0.6279 - val_accuracy: 0.8706\n",
            "Epoch 28/35\n",
            "3525/3525 [==============================] - 51s 15ms/step - loss: 0.1587 - accuracy: 0.9339 - val_loss: 0.7036 - val_accuracy: 0.8670\n",
            "Epoch 29/35\n",
            "3525/3525 [==============================] - 52s 15ms/step - loss: 0.1577 - accuracy: 0.9345 - val_loss: 0.6328 - val_accuracy: 0.8709\n",
            "Epoch 30/35\n",
            "3525/3525 [==============================] - 51s 15ms/step - loss: 0.1574 - accuracy: 0.9350 - val_loss: 0.6969 - val_accuracy: 0.8687\n",
            "Epoch 31/35\n",
            "3525/3525 [==============================] - 52s 15ms/step - loss: 0.1552 - accuracy: 0.9362 - val_loss: 0.6924 - val_accuracy: 0.8662\n",
            "Epoch 32/35\n",
            "3525/3525 [==============================] - 52s 15ms/step - loss: 0.1515 - accuracy: 0.9368 - val_loss: 0.7256 - val_accuracy: 0.8682\n",
            "Epoch 33/35\n",
            "3525/3525 [==============================] - 51s 15ms/step - loss: 0.1530 - accuracy: 0.9371 - val_loss: 0.7104 - val_accuracy: 0.8694\n",
            "Epoch 34/35\n",
            "3525/3525 [==============================] - 52s 15ms/step - loss: 0.1490 - accuracy: 0.9380 - val_loss: 0.7063 - val_accuracy: 0.8703\n",
            "Epoch 35/35\n",
            "3525/3525 [==============================] - 52s 15ms/step - loss: 0.1513 - accuracy: 0.9381 - val_loss: 0.7379 - val_accuracy: 0.8686\n"
          ],
          "name": "stdout"
        }
      ]
    },
    {
      "cell_type": "code",
      "metadata": {
        "id": "MzlE0g1LJXtV"
      },
      "source": [
        "model.save(BASE_SAVE_DIR + NAME + '/model.h5',save_format ='h5')"
      ],
      "execution_count": null,
      "outputs": []
    },
    {
      "cell_type": "code",
      "metadata": {
        "id": "Hv5uupEQTOkQ",
        "colab": {
          "base_uri": "https://localhost:8080/"
        },
        "outputId": "4a7d21ff-0665-46e1-a096-eb35b4341c50"
      },
      "source": [
        "train_evaluation = model.evaluate(x_train,y_train)\n",
        "val_evaluation = model.evaluate(x_test,y_test)"
      ],
      "execution_count": null,
      "outputs": [
        {
          "output_type": "stream",
          "text": [
            "3525/3525 [==============================] - 13s 4ms/step - loss: 0.1271 - accuracy: 0.9471\n",
            "588/588 [==============================] - 2s 4ms/step - loss: 0.7379 - accuracy: 0.8686\n"
          ],
          "name": "stdout"
        }
      ]
    },
    {
      "cell_type": "code",
      "metadata": {
        "id": "mJuRHCeZTNI1",
        "colab": {
          "base_uri": "https://localhost:8080/"
        },
        "outputId": "68360686-8ba4-429f-915b-16caee36742a"
      },
      "source": [
        "print(\"Loss of the model (train data) is - \" , train_evaluation[0])\n",
        "print(\"Accuracy of the model (train data) is - \" , train_evaluation[1]*100 , \"%\")\n",
        "print()\n",
        "print(\"Loss of the model (validation data) is - \" , val_evaluation[0])\n",
        "print(\"Accuracy of the model (validation data) is - \" , val_evaluation[1]*100 , \"%\")"
      ],
      "execution_count": null,
      "outputs": [
        {
          "output_type": "stream",
          "text": [
            "Loss of the model (train data) is -  0.1271374374628067\n",
            "Accuracy of the model (train data) is -  94.70921754837036 %\n",
            "\n",
            "Loss of the model (validation data) is -  0.7379473447799683\n",
            "Accuracy of the model (validation data) is -  86.86169981956482 %\n"
          ],
          "name": "stdout"
        }
      ]
    },
    {
      "cell_type": "code",
      "metadata": {
        "id": "CWPuiQWfJXtV"
      },
      "source": [
        "acc = history.history['accuracy']\n",
        "val_acc = history.history['val_accuracy']\n",
        "\n",
        "loss = history.history['loss']\n",
        "val_loss = history.history['val_loss']\n",
        "\n",
        "epochs_range = range(epoch)\n",
        "\n",
        "plt.figure(figsize=(8, 8))\n",
        "plt.subplot(1, 2, 1)\n",
        "plt.plot(epochs_range, acc, label='Training Accuracy')\n",
        "plt.plot(epochs_range, val_acc, label='Validation Accuracy')\n",
        "plt.legend(loc='lower right')\n",
        "plt.title('ACCURACY')\n",
        "\n",
        "plt.subplot(1, 2, 2)\n",
        "plt.plot(epochs_range, loss, label='Training Loss')\n",
        "plt.plot(epochs_range, val_loss, label='Validation Loss')\n",
        "plt.legend(loc='upper left')\n",
        "plt.title('LOSS')\n",
        "\n",
        "plt.savefig(BASE_SAVE_DIR + NAME +'/graph.jpg')\n",
        "plt.clf()\n",
        "plt.cla()\n",
        "plt.close()"
      ],
      "execution_count": null,
      "outputs": []
    },
    {
      "cell_type": "code",
      "metadata": {
        "id": "42OlQrOVJXtV"
      },
      "source": [
        "class_predictions = np.argmax(model.predict(x_test), axis=-1)\n",
        "\n",
        "emnist = \"0123456789ABCDEFGHIJKLMNOPQRSTUVWXYZabdefghnqrt\"\n",
        "\n",
        "predict_classes = [emnist[i] for i in class_predictions]\n",
        "actual_classes = [emnist[i] for i in np.argmax(y_test, axis=-1)]\n",
        "\n",
        "out_df = pd.DataFrame(np.vstack([predict_classes,actual_classes]).T,columns=[\"predicted_class\",\"actual_class\"])\n",
        "confusion_matrix = pd.crosstab(out_df[\"actual_class\"],out_df[\"predicted_class\"],rownames=[\"Actuals\"],colnames=[\"Predicted\"])\n",
        "plt.figure(figsize=(22, 19))\n",
        "sns.heatmap(confusion_matrix,cmap=\"Reds\",annot=True,fmt='d')\n",
        "\n",
        "plt.savefig(BASE_SAVE_DIR + NAME +'/confusion_matrix.jpg')\n",
        "plt.clf()\n",
        "plt.cla()\n",
        "plt.close()"
      ],
      "execution_count": null,
      "outputs": []
    },
    {
      "cell_type": "code",
      "metadata": {
        "id": "UZn_H4CGTnRG"
      },
      "source": [
        "from tensorflow.keras import backend as K\n",
        "K.clear_session()"
      ],
      "execution_count": null,
      "outputs": []
    },
    {
      "cell_type": "markdown",
      "metadata": {
        "id": "D2sCAJ-kJfmb"
      },
      "source": [
        "\n",
        "\n",
        "#Experiment 8"
      ]
    },
    {
      "cell_type": "code",
      "metadata": {
        "id": "9yfEfmTYJfmb",
        "colab": {
          "base_uri": "https://localhost:8080/"
        },
        "outputId": "c506c897-0228-4e48-d017-3ea95a4d6398"
      },
      "source": [
        "epoch = 35\n",
        "optimizer = 'rmsprop'\n",
        "\n",
        "\n",
        "NAME = \"{}-optimizer-{}-epoch-Image_Aug_2\".format(optimizer,epoch)\n",
        "\n",
        "BASE_SAVE_DIR = \"/content/drive/MyDrive/Emnist_Training/\"\n",
        "\n",
        "BASE_LOGS_DIR = \"/content/drive/MyDrive/Emnist_Training/logs\"\n",
        "\n",
        "tensorboard = TensorBoard(log_dir=\"{}/{}\".format(BASE_LOGS_DIR,NAME))\n",
        "\n",
        "#mcp_save = ModelCheckpoint(BASE_SAVE_DIR + NAME + '/cp_model.h5', save_best_only=True, monitor='val_loss',verbose=1, mode='auto')\n",
        "\n",
        "model.compile(optimizer=optimizer,\n",
        "              loss='categorical_crossentropy',\n",
        "              metrics=['accuracy'])\n",
        "              \n",
        "history = model.fit(data_generator2.flow(x_train,y_train),validation_data=(x_test,y_test), epochs=epoch, callbacks=[tensorboard])\n",
        "#history = model.fit(x_train,y_train,validation_data=(x_test,y_test), epochs=epoch, callbacks=[tensorboard])\n",
        "    "
      ],
      "execution_count": null,
      "outputs": [
        {
          "output_type": "stream",
          "text": [
            "Epoch 1/35\n",
            "3525/3525 [==============================] - 55s 15ms/step - loss: 0.1495 - accuracy: 0.9408 - val_loss: 0.8079 - val_accuracy: 0.8763\n",
            "Epoch 2/35\n",
            "3525/3525 [==============================] - 53s 15ms/step - loss: 0.1882 - accuracy: 0.9291 - val_loss: 0.9349 - val_accuracy: 0.8669\n",
            "Epoch 3/35\n",
            "3525/3525 [==============================] - 53s 15ms/step - loss: 0.2383 - accuracy: 0.9149 - val_loss: 0.8013 - val_accuracy: 0.8710\n",
            "Epoch 4/35\n",
            "3525/3525 [==============================] - 53s 15ms/step - loss: 0.2916 - accuracy: 0.9018 - val_loss: 0.6618 - val_accuracy: 0.8618\n",
            "Epoch 5/35\n",
            "3525/3525 [==============================] - 53s 15ms/step - loss: 0.3405 - accuracy: 0.8884 - val_loss: 0.7405 - val_accuracy: 0.8569\n",
            "Epoch 6/35\n",
            "3525/3525 [==============================] - 53s 15ms/step - loss: 0.3726 - accuracy: 0.8796 - val_loss: 0.9126 - val_accuracy: 0.8599\n",
            "Epoch 7/35\n",
            "3525/3525 [==============================] - 53s 15ms/step - loss: 0.3948 - accuracy: 0.8745 - val_loss: 1.1137 - val_accuracy: 0.8528\n",
            "Epoch 8/35\n",
            "3525/3525 [==============================] - 53s 15ms/step - loss: 0.4159 - accuracy: 0.8688 - val_loss: 1.0025 - val_accuracy: 0.8609\n",
            "Epoch 9/35\n",
            "3525/3525 [==============================] - 52s 15ms/step - loss: 0.4465 - accuracy: 0.8641 - val_loss: 0.6510 - val_accuracy: 0.8406\n",
            "Epoch 10/35\n",
            "3525/3525 [==============================] - 53s 15ms/step - loss: 0.4435 - accuracy: 0.8610 - val_loss: 0.6164 - val_accuracy: 0.8541\n",
            "Epoch 11/35\n",
            "3525/3525 [==============================] - 52s 15ms/step - loss: 0.4608 - accuracy: 0.8565 - val_loss: 1.3184 - val_accuracy: 0.8229\n",
            "Epoch 12/35\n",
            "3525/3525 [==============================] - 53s 15ms/step - loss: 0.5395 - accuracy: 0.8514 - val_loss: 1.8973 - val_accuracy: 0.8464\n",
            "Epoch 13/35\n",
            "3525/3525 [==============================] - 53s 15ms/step - loss: 0.4876 - accuracy: 0.8479 - val_loss: 0.6063 - val_accuracy: 0.8452\n",
            "Epoch 14/35\n",
            "3525/3525 [==============================] - 52s 15ms/step - loss: 0.5127 - accuracy: 0.8427 - val_loss: 1.8957 - val_accuracy: 0.8347\n",
            "Epoch 15/35\n",
            "3525/3525 [==============================] - 52s 15ms/step - loss: 0.5321 - accuracy: 0.8410 - val_loss: 5.3014 - val_accuracy: 0.8372\n",
            "Epoch 16/35\n",
            "3525/3525 [==============================] - 53s 15ms/step - loss: 0.5392 - accuracy: 0.8376 - val_loss: 0.7837 - val_accuracy: 0.8452\n",
            "Epoch 17/35\n",
            "3525/3525 [==============================] - 53s 15ms/step - loss: 0.5354 - accuracy: 0.8391 - val_loss: 1.3526 - val_accuracy: 0.8183\n",
            "Epoch 18/35\n",
            "3525/3525 [==============================] - 52s 15ms/step - loss: 0.5866 - accuracy: 0.8368 - val_loss: 1.1042 - val_accuracy: 0.8447\n",
            "Epoch 19/35\n",
            "3525/3525 [==============================] - 52s 15ms/step - loss: 0.5551 - accuracy: 0.8353 - val_loss: 1.5097 - val_accuracy: 0.8261\n",
            "Epoch 20/35\n",
            "3525/3525 [==============================] - 52s 15ms/step - loss: 0.5877 - accuracy: 0.8333 - val_loss: 2.2214 - val_accuracy: 0.8324\n",
            "Epoch 21/35\n",
            "3525/3525 [==============================] - 52s 15ms/step - loss: 0.6505 - accuracy: 0.8306 - val_loss: 3.9167 - val_accuracy: 0.7477\n",
            "Epoch 22/35\n",
            "3525/3525 [==============================] - 53s 15ms/step - loss: 0.5987 - accuracy: 0.8284 - val_loss: 0.7917 - val_accuracy: 0.8351\n",
            "Epoch 23/35\n",
            "3525/3525 [==============================] - 53s 15ms/step - loss: 0.6014 - accuracy: 0.8264 - val_loss: 1.0418 - val_accuracy: 0.8283\n",
            "Epoch 24/35\n",
            "3525/3525 [==============================] - 53s 15ms/step - loss: 0.6221 - accuracy: 0.8259 - val_loss: 0.7720 - val_accuracy: 0.8104\n",
            "Epoch 25/35\n",
            "3525/3525 [==============================] - 53s 15ms/step - loss: 0.6168 - accuracy: 0.8255 - val_loss: 1.1150 - val_accuracy: 0.8267\n",
            "Epoch 26/35\n",
            "3525/3525 [==============================] - 53s 15ms/step - loss: 0.6236 - accuracy: 0.8216 - val_loss: 0.6996 - val_accuracy: 0.8174\n",
            "Epoch 27/35\n",
            "3525/3525 [==============================] - 53s 15ms/step - loss: 0.6336 - accuracy: 0.8196 - val_loss: 1.1791 - val_accuracy: 0.8136\n",
            "Epoch 28/35\n",
            "3525/3525 [==============================] - 54s 15ms/step - loss: 0.6652 - accuracy: 0.8120 - val_loss: 0.8333 - val_accuracy: 0.8250\n",
            "Epoch 29/35\n",
            "3525/3525 [==============================] - 53s 15ms/step - loss: 0.6859 - accuracy: 0.8102 - val_loss: 1.1705 - val_accuracy: 0.8206\n",
            "Epoch 30/35\n",
            "3525/3525 [==============================] - 53s 15ms/step - loss: 0.7095 - accuracy: 0.8057 - val_loss: 2.5683 - val_accuracy: 0.7928\n",
            "Epoch 31/35\n",
            "3525/3525 [==============================] - 53s 15ms/step - loss: 0.7296 - accuracy: 0.8026 - val_loss: 0.6779 - val_accuracy: 0.8159\n",
            "Epoch 32/35\n",
            "3525/3525 [==============================] - 54s 15ms/step - loss: 0.7646 - accuracy: 0.7978 - val_loss: 0.8711 - val_accuracy: 0.8081\n",
            "Epoch 33/35\n",
            "3525/3525 [==============================] - 53s 15ms/step - loss: 0.7808 - accuracy: 0.7954 - val_loss: 1.8181 - val_accuracy: 0.7751\n",
            "Epoch 34/35\n",
            "3525/3525 [==============================] - 52s 15ms/step - loss: 0.8136 - accuracy: 0.7935 - val_loss: 1.8810 - val_accuracy: 0.7937\n",
            "Epoch 35/35\n",
            "3525/3525 [==============================] - 53s 15ms/step - loss: 0.8117 - accuracy: 0.7890 - val_loss: 1.3131 - val_accuracy: 0.8000\n"
          ],
          "name": "stdout"
        }
      ]
    },
    {
      "cell_type": "code",
      "metadata": {
        "id": "xeVDhulDJfmb"
      },
      "source": [
        "model.save(BASE_SAVE_DIR + NAME + '/model.h5',save_format ='h5')"
      ],
      "execution_count": null,
      "outputs": []
    },
    {
      "cell_type": "code",
      "metadata": {
        "id": "L7SU4QfPTPkU",
        "colab": {
          "base_uri": "https://localhost:8080/"
        },
        "outputId": "8c70f16e-4363-4aa1-aad3-4fce501d518b"
      },
      "source": [
        "train_evaluation = model.evaluate(x_train,y_train)\n",
        "val_evaluation = model.evaluate(x_test,y_test)"
      ],
      "execution_count": null,
      "outputs": [
        {
          "output_type": "stream",
          "text": [
            "3525/3525 [==============================] - 13s 4ms/step - loss: 1.0707 - accuracy: 0.8083\n",
            "588/588 [==============================] - 2s 4ms/step - loss: 1.3131 - accuracy: 0.8000\n"
          ],
          "name": "stdout"
        }
      ]
    },
    {
      "cell_type": "code",
      "metadata": {
        "id": "ukQEPdN8TQFy",
        "colab": {
          "base_uri": "https://localhost:8080/"
        },
        "outputId": "50b8da13-a5fd-4fd6-c2a2-7db558d35b73"
      },
      "source": [
        "print(\"Loss of the model (train data) is - \" , train_evaluation[0])\n",
        "print(\"Accuracy of the model (train data) is - \" , train_evaluation[1]*100 , \"%\")\n",
        "print()\n",
        "print(\"Loss of the model (validation data) is - \" , val_evaluation[0])\n",
        "print(\"Accuracy of the model (validation data) is - \" , val_evaluation[1]*100 , \"%\")"
      ],
      "execution_count": null,
      "outputs": [
        {
          "output_type": "stream",
          "text": [
            "Loss of the model (train data) is -  1.0706744194030762\n",
            "Accuracy of the model (train data) is -  80.82712888717651 %\n",
            "\n",
            "Loss of the model (validation data) is -  1.313138484954834\n",
            "Accuracy of the model (validation data) is -  80.0000011920929 %\n"
          ],
          "name": "stdout"
        }
      ]
    },
    {
      "cell_type": "code",
      "metadata": {
        "id": "2IdjJtJfJfmb"
      },
      "source": [
        "acc = history.history['accuracy']\n",
        "val_acc = history.history['val_accuracy']\n",
        "\n",
        "loss = history.history['loss']\n",
        "val_loss = history.history['val_loss']\n",
        "\n",
        "epochs_range = range(epoch)\n",
        "\n",
        "plt.figure(figsize=(8, 8))\n",
        "plt.subplot(1, 2, 1)\n",
        "plt.plot(epochs_range, acc, label='Training Accuracy')\n",
        "plt.plot(epochs_range, val_acc, label='Validation Accuracy')\n",
        "plt.legend(loc='lower right')\n",
        "plt.title('ACCURACY')\n",
        "\n",
        "plt.subplot(1, 2, 2)\n",
        "plt.plot(epochs_range, loss, label='Training Loss')\n",
        "plt.plot(epochs_range, val_loss, label='Validation Loss')\n",
        "plt.legend(loc='upper left')\n",
        "plt.title('LOSS')\n",
        "\n",
        "plt.savefig(BASE_SAVE_DIR + NAME +'/graph.jpg')\n",
        "plt.clf()\n",
        "plt.cla()\n",
        "plt.close()"
      ],
      "execution_count": null,
      "outputs": []
    },
    {
      "cell_type": "code",
      "metadata": {
        "id": "bmRrtVWNJfmd"
      },
      "source": [
        "class_predictions = np.argmax(model.predict(x_test), axis=-1)\n",
        "\n",
        "emnist = \"0123456789ABCDEFGHIJKLMNOPQRSTUVWXYZabdefghnqrt\"\n",
        "\n",
        "predict_classes = [emnist[i] for i in class_predictions]\n",
        "actual_classes = [emnist[i] for i in np.argmax(y_test, axis=-1)]\n",
        "\n",
        "out_df = pd.DataFrame(np.vstack([predict_classes,actual_classes]).T,columns=[\"predicted_class\",\"actual_class\"])\n",
        "confusion_matrix = pd.crosstab(out_df[\"actual_class\"],out_df[\"predicted_class\"],rownames=[\"Actuals\"],colnames=[\"Predicted\"])\n",
        "plt.figure(figsize=(22, 19))\n",
        "sns.heatmap(confusion_matrix,cmap=\"Reds\",annot=True,fmt='d')\n",
        "\n",
        "plt.savefig(BASE_SAVE_DIR + NAME +'/confusion_matrix.jpg')\n",
        "plt.clf()\n",
        "plt.cla()\n",
        "plt.close()"
      ],
      "execution_count": null,
      "outputs": []
    },
    {
      "cell_type": "code",
      "metadata": {
        "id": "8P4OdqVUTldS"
      },
      "source": [
        "from tensorflow.keras import backend as K\n",
        "K.clear_session()"
      ],
      "execution_count": null,
      "outputs": []
    },
    {
      "cell_type": "markdown",
      "metadata": {
        "id": "N0lp6lxuJjM4"
      },
      "source": [
        "\n",
        "\n",
        "#Experiment 9"
      ]
    },
    {
      "cell_type": "code",
      "metadata": {
        "id": "VUXoWxr7JjM4",
        "colab": {
          "base_uri": "https://localhost:8080/"
        },
        "outputId": "31f25cad-227a-4992-c7f8-d117f37f00ed"
      },
      "source": [
        "epoch = 35\n",
        "optimizer = 'adamax'\n",
        "\n",
        "\n",
        "NAME = \"{}-optimizer-{}-epoch--Image_Aug_2\".format(optimizer,epoch)\n",
        "\n",
        "BASE_SAVE_DIR = \"/content/drive/MyDrive/Emnist_Training/\"\n",
        "\n",
        "BASE_LOGS_DIR = \"/content/drive/MyDrive/Emnist_Training/logs\"\n",
        "\n",
        "tensorboard = TensorBoard(log_dir=\"{}/{}\".format(BASE_LOGS_DIR,NAME))\n",
        "\n",
        "#mcp_save = ModelCheckpoint(BASE_SAVE_DIR + NAME + '/cp_model.h5', save_best_only=True, monitor='val_loss',verbose=1, mode='auto')\n",
        "\n",
        "model.compile(optimizer=optimizer,\n",
        "              loss='categorical_crossentropy',\n",
        "              metrics=['accuracy'])\n",
        "              \n",
        "history = model.fit(data_generator2.flow(x_train,y_train),validation_data=(x_test,y_test), epochs=epoch, callbacks=[tensorboard])\n",
        "#history = model.fit(x_train,y_train,validation_data=(x_test,y_test), epochs=epoch, callbacks=[tensorboard])\n",
        "    "
      ],
      "execution_count": null,
      "outputs": [
        {
          "output_type": "stream",
          "text": [
            "Epoch 1/35\n",
            "3525/3525 [==============================] - 53s 15ms/step - loss: 0.4830 - accuracy: 0.8472 - val_loss: 0.8208 - val_accuracy: 0.8431\n",
            "Epoch 2/35\n",
            "3525/3525 [==============================] - 51s 14ms/step - loss: 0.4506 - accuracy: 0.8550 - val_loss: 0.7461 - val_accuracy: 0.8502\n",
            "Epoch 3/35\n",
            "3525/3525 [==============================] - 50s 14ms/step - loss: 0.4436 - accuracy: 0.8552 - val_loss: 0.6205 - val_accuracy: 0.8508\n",
            "Epoch 4/35\n",
            "3525/3525 [==============================] - 50s 14ms/step - loss: 0.4308 - accuracy: 0.8585 - val_loss: 0.6318 - val_accuracy: 0.8486\n",
            "Epoch 5/35\n",
            "3525/3525 [==============================] - 51s 14ms/step - loss: 0.4231 - accuracy: 0.8595 - val_loss: 0.5877 - val_accuracy: 0.8522\n",
            "Epoch 6/35\n",
            "3525/3525 [==============================] - 52s 15ms/step - loss: 0.4156 - accuracy: 0.8603 - val_loss: 0.6080 - val_accuracy: 0.8589\n",
            "Epoch 7/35\n",
            "3525/3525 [==============================] - 51s 14ms/step - loss: 0.4057 - accuracy: 0.8634 - val_loss: 0.5616 - val_accuracy: 0.8531\n",
            "Epoch 8/35\n",
            "3525/3525 [==============================] - 51s 14ms/step - loss: 0.4049 - accuracy: 0.8633 - val_loss: 0.5829 - val_accuracy: 0.8553\n",
            "Epoch 9/35\n",
            "3525/3525 [==============================] - 51s 14ms/step - loss: 0.4015 - accuracy: 0.8637 - val_loss: 0.5196 - val_accuracy: 0.8554\n",
            "Epoch 10/35\n",
            "3525/3525 [==============================] - 50s 14ms/step - loss: 0.3938 - accuracy: 0.8660 - val_loss: 0.5971 - val_accuracy: 0.8597\n",
            "Epoch 11/35\n",
            "3525/3525 [==============================] - 50s 14ms/step - loss: 0.3880 - accuracy: 0.8668 - val_loss: 0.5481 - val_accuracy: 0.8577\n",
            "Epoch 12/35\n",
            "3525/3525 [==============================] - 50s 14ms/step - loss: 0.3812 - accuracy: 0.8682 - val_loss: 0.5179 - val_accuracy: 0.8573\n",
            "Epoch 13/35\n",
            "3525/3525 [==============================] - 50s 14ms/step - loss: 0.3800 - accuracy: 0.8699 - val_loss: 0.6494 - val_accuracy: 0.8558\n",
            "Epoch 14/35\n",
            "3525/3525 [==============================] - 51s 14ms/step - loss: 0.3742 - accuracy: 0.8714 - val_loss: 0.5571 - val_accuracy: 0.8614\n",
            "Epoch 15/35\n",
            "3525/3525 [==============================] - 50s 14ms/step - loss: 0.3728 - accuracy: 0.8709 - val_loss: 0.5738 - val_accuracy: 0.8595\n",
            "Epoch 16/35\n",
            "3525/3525 [==============================] - 50s 14ms/step - loss: 0.3732 - accuracy: 0.8704 - val_loss: 0.5800 - val_accuracy: 0.8636\n",
            "Epoch 17/35\n",
            "3525/3525 [==============================] - 49s 14ms/step - loss: 0.3702 - accuracy: 0.8712 - val_loss: 0.5590 - val_accuracy: 0.8553\n",
            "Epoch 18/35\n",
            "3525/3525 [==============================] - 50s 14ms/step - loss: 0.3672 - accuracy: 0.8723 - val_loss: 0.5950 - val_accuracy: 0.8592\n",
            "Epoch 19/35\n",
            " 593/3525 [====>.........................] - ETA: 38s - loss: 0.3589 - accuracy: 0.8778"
          ],
          "name": "stdout"
        }
      ]
    },
    {
      "cell_type": "code",
      "metadata": {
        "id": "pnyn5tKSJjM5"
      },
      "source": [
        "model.save(BASE_SAVE_DIR + NAME + '/model.h5',save_format ='h5')"
      ],
      "execution_count": null,
      "outputs": []
    },
    {
      "cell_type": "code",
      "metadata": {
        "id": "DPxBorT2TUEc"
      },
      "source": [
        "train_evaluation = model.evaluate(x_train,y_train)\n",
        "val_evaluation = model.evaluate(x_test,y_test)"
      ],
      "execution_count": null,
      "outputs": []
    },
    {
      "cell_type": "code",
      "metadata": {
        "id": "ApU_xkO_TSYy"
      },
      "source": [
        "print(\"Loss of the model (train data) is - \" , train_evaluation[0])\n",
        "print(\"Accuracy of the model (train data) is - \" , train_evaluation[1]*100 , \"%\")\n",
        "print()\n",
        "print(\"Loss of the model (validation data) is - \" , val_evaluation[0])\n",
        "print(\"Accuracy of the model (validation data) is - \" , val_evaluation[1]*100 , \"%\")"
      ],
      "execution_count": null,
      "outputs": []
    },
    {
      "cell_type": "code",
      "metadata": {
        "id": "kJn9hnKOJjM5"
      },
      "source": [
        "acc = history.history['accuracy']\n",
        "val_acc = history.history['val_accuracy']\n",
        "\n",
        "loss = history.history['loss']\n",
        "val_loss = history.history['val_loss']\n",
        "\n",
        "epochs_range = range(epoch)\n",
        "\n",
        "plt.figure(figsize=(8, 8))\n",
        "plt.subplot(1, 2, 1)\n",
        "plt.plot(epochs_range, acc, label='Training Accuracy')\n",
        "plt.plot(epochs_range, val_acc, label='Validation Accuracy')\n",
        "plt.legend(loc='lower right')\n",
        "plt.title('ACCURACY')\n",
        "\n",
        "plt.subplot(1, 2, 2)\n",
        "plt.plot(epochs_range, loss, label='Training Loss')\n",
        "plt.plot(epochs_range, val_loss, label='Validation Loss')\n",
        "plt.legend(loc='upper left')\n",
        "plt.title('LOSS')\n",
        "\n",
        "plt.savefig(BASE_SAVE_DIR + NAME +'/graph.jpg')\n",
        "plt.clf()\n",
        "plt.cla()\n",
        "plt.close()"
      ],
      "execution_count": null,
      "outputs": []
    },
    {
      "cell_type": "code",
      "metadata": {
        "id": "GCi9NciJJjM5"
      },
      "source": [
        "class_predictions = np.argmax(model.predict(x_test), axis=-1)\n",
        "\n",
        "emnist = \"0123456789ABCDEFGHIJKLMNOPQRSTUVWXYZabdefghnqrt\"\n",
        "\n",
        "predict_classes = [emnist[i] for i in class_predictions]\n",
        "actual_classes = [emnist[i] for i in np.argmax(y_test, axis=-1)]\n",
        "\n",
        "out_df = pd.DataFrame(np.vstack([predict_classes,actual_classes]).T,columns=[\"predicted_class\",\"actual_class\"])\n",
        "confusion_matrix = pd.crosstab(out_df[\"actual_class\"],out_df[\"predicted_class\"],rownames=[\"Actuals\"],colnames=[\"Predicted\"])\n",
        "plt.figure(figsize=(22, 19))\n",
        "sns.heatmap(confusion_matrix,cmap=\"Reds\",annot=True,fmt='d')\n",
        "\n",
        "plt.savefig(BASE_SAVE_DIR + NAME +'/confusion_matrix.jpg')\n",
        "plt.clf()\n",
        "plt.cla()\n",
        "plt.close()"
      ],
      "execution_count": null,
      "outputs": []
    },
    {
      "cell_type": "code",
      "metadata": {
        "id": "dYyDM-PaTjuI"
      },
      "source": [
        "from tensorflow.keras import backend as K\n",
        "K.clear_session()"
      ],
      "execution_count": null,
      "outputs": []
    },
    {
      "cell_type": "markdown",
      "metadata": {
        "id": "6lemK3Ahie_d"
      },
      "source": [
        "#Model test/evaluation\n"
      ]
    },
    {
      "cell_type": "code",
      "metadata": {
        "id": "UqCvFj9nlc3R"
      },
      "source": [
        "augs = [\"\",\"Image_Aug_1\",\"Image_Aug_2\"]\n",
        "opts = [\"adam\",\"rmsprop\",\"adamax\"]\n",
        "epoch = 35\n",
        "models = []\n",
        "\n",
        "for aug in augs:\n",
        "  for opt in opts:\n",
        "    if aug == \"\":\n",
        "      NAME = \"{}-optimizer-{}-epoch\".format(opt,epoch)\n",
        "    else:\n",
        "      NAME = \"{}-optimizer-{}-epoch-{}\".format(opt,epoch,aug)\n",
        "\n",
        "    if aug == \"Image_Aug_2\" and opt == \"adamax\":\n",
        "      NAME = \"{}-optimizer-{}-epoch--{}\".format(opt,epoch,aug)\n",
        "\n",
        "    BASE_SAVE_DIR = \"/content/drive/MyDrive/Emnist_Training/\"\n",
        "\n",
        "    models.append(load_model(BASE_SAVE_DIR + NAME + '/model.h5'))"
      ],
      "execution_count": null,
      "outputs": []
    },
    {
      "cell_type": "code",
      "metadata": {
        "colab": {
          "base_uri": "https://localhost:8080/"
        },
        "id": "t1sJpFcCm1vq",
        "outputId": "0d75fbaa-74f5-4f78-9365-d36c3fa9cd0b"
      },
      "source": [
        "for i in range(len(models)):\n",
        "  print(\"################################################################################################\")\n",
        "  print(\"Experiment {} : \".format(i+1))\n",
        "  print()\n",
        "  train_evaluation = models[i].evaluate(x_train,y_train)\n",
        "  val_evaluation = models[i].evaluate(x_test,y_test)\n",
        "  print()\n",
        "  print(\"Loss of the model (train data) is - \" , train_evaluation[0])\n",
        "  print(\"Accuracy of the model (train data) is - \" , train_evaluation[1]*100 , \"%\")\n",
        "  print()\n",
        "  print(\"Loss of the model (validation data) is - \" , val_evaluation[0])\n",
        "  print(\"Accuracy of the model (validation data) is - \" , val_evaluation[1]*100 , \"%\")\n",
        "  print(\"################################################################################################\")"
      ],
      "execution_count": null,
      "outputs": [
        {
          "output_type": "stream",
          "text": [
            "################################################################################################\n",
            "Experiment 1 : \n",
            "\n",
            "3525/3525 [==============================] - 41s 3ms/step - loss: 0.0820 - accuracy: 0.9668\n",
            "588/588 [==============================] - 3s 4ms/step - loss: 0.9172 - accuracy: 0.8665\n",
            "\n",
            "Loss of the model (train data) is -  0.08196332305669785\n",
            "Accuracy of the model (train data) is -  96.67819142341614 %\n",
            "\n",
            "Loss of the model (validation data) is -  0.9171789884567261\n",
            "Accuracy of the model (validation data) is -  86.64893507957458 %\n",
            "################################################################################################\n",
            "################################################################################################\n",
            "Experiment 2 : \n",
            "\n",
            "3525/3525 [==============================] - 11s 3ms/step - loss: 0.6707 - accuracy: 0.8320\n",
            "588/588 [==============================] - 3s 4ms/step - loss: 0.8284 - accuracy: 0.8177\n",
            "\n",
            "Loss of the model (train data) is -  0.6706795692443848\n",
            "Accuracy of the model (train data) is -  83.19503664970398 %\n",
            "\n",
            "Loss of the model (validation data) is -  0.8284156918525696\n",
            "Accuracy of the model (validation data) is -  81.77127838134766 %\n",
            "################################################################################################\n",
            "################################################################################################\n",
            "Experiment 3 : \n",
            "\n",
            "3525/3525 [==============================] - 11s 3ms/step - loss: 0.2992 - accuracy: 0.8905\n",
            "588/588 [==============================] - 2s 4ms/step - loss: 0.4777 - accuracy: 0.8618\n",
            "\n",
            "Loss of the model (train data) is -  0.29917752742767334\n",
            "Accuracy of the model (train data) is -  89.05230760574341 %\n",
            "\n",
            "Loss of the model (validation data) is -  0.4777216911315918\n",
            "Accuracy of the model (validation data) is -  86.18085384368896 %\n",
            "################################################################################################\n",
            "################################################################################################\n",
            "Experiment 4 : \n",
            "\n",
            "3525/3525 [==============================] - 11s 3ms/step - loss: 0.3469 - accuracy: 0.8753\n",
            "588/588 [==============================] - 3s 4ms/step - loss: 0.4090 - accuracy: 0.8649\n",
            "\n",
            "Loss of the model (train data) is -  0.34690627455711365\n",
            "Accuracy of the model (train data) is -  87.53014206886292 %\n",
            "\n",
            "Loss of the model (validation data) is -  0.40895596146583557\n",
            "Accuracy of the model (validation data) is -  86.48936152458191 %\n",
            "################################################################################################\n",
            "################################################################################################\n",
            "Experiment 5 : \n",
            "\n",
            "3525/3525 [==============================] - 11s 3ms/step - loss: 2.8704 - accuracy: 0.7414\n",
            "588/588 [==============================] - 3s 4ms/step - loss: 4.0131 - accuracy: 0.7389\n",
            "\n",
            "Loss of the model (train data) is -  2.8703701496124268\n",
            "Accuracy of the model (train data) is -  74.13652539253235 %\n",
            "\n",
            "Loss of the model (validation data) is -  4.01309871673584\n",
            "Accuracy of the model (validation data) is -  73.8936185836792 %\n",
            "################################################################################################\n",
            "################################################################################################\n",
            "Experiment 6 : \n",
            "\n",
            "3525/3525 [==============================] - 11s 3ms/step - loss: 0.6375 - accuracy: 0.8360\n",
            "588/588 [==============================] - 3s 4ms/step - loss: 0.6826 - accuracy: 0.8299\n",
            "\n",
            "Loss of the model (train data) is -  0.6374881863594055\n",
            "Accuracy of the model (train data) is -  83.59840512275696 %\n",
            "\n",
            "Loss of the model (validation data) is -  0.682571530342102\n",
            "Accuracy of the model (validation data) is -  82.98935890197754 %\n",
            "################################################################################################\n",
            "################################################################################################\n",
            "Experiment 7 : \n",
            "\n",
            "3525/3525 [==============================] - 11s 3ms/step - loss: 0.1271 - accuracy: 0.9471\n",
            "588/588 [==============================] - 2s 4ms/step - loss: 0.7379 - accuracy: 0.8686\n",
            "\n",
            "Loss of the model (train data) is -  0.1271374672651291\n",
            "Accuracy of the model (train data) is -  94.70921754837036 %\n",
            "\n",
            "Loss of the model (validation data) is -  0.7379472255706787\n",
            "Accuracy of the model (validation data) is -  86.86169981956482 %\n",
            "################################################################################################\n",
            "################################################################################################\n",
            "Experiment 8 : \n",
            "\n",
            "3525/3525 [==============================] - 11s 3ms/step - loss: 1.0707 - accuracy: 0.8083\n",
            "588/588 [==============================] - 3s 4ms/step - loss: 1.3131 - accuracy: 0.8000\n",
            "\n",
            "Loss of the model (train data) is -  1.0706748962402344\n",
            "Accuracy of the model (train data) is -  80.82712888717651 %\n",
            "\n",
            "Loss of the model (validation data) is -  1.3131393194198608\n",
            "Accuracy of the model (validation data) is -  80.0000011920929 %\n",
            "################################################################################################\n",
            "################################################################################################\n",
            "Experiment 9 : \n",
            "\n",
            "3525/3525 [==============================] - 11s 3ms/step - loss: 0.0860 - accuracy: 0.9639\n",
            "588/588 [==============================] - 3s 4ms/step - loss: 0.6443 - accuracy: 0.8692\n",
            "\n",
            "Loss of the model (train data) is -  0.08601166307926178\n",
            "Accuracy of the model (train data) is -  96.39184474945068 %\n",
            "\n",
            "Loss of the model (validation data) is -  0.6443171501159668\n",
            "Accuracy of the model (validation data) is -  86.92021369934082 %\n",
            "################################################################################################\n"
          ],
          "name": "stdout"
        }
      ]
    },
    {
      "cell_type": "code",
      "metadata": {
        "colab": {
          "resources": {
            "http://localhost:8080/nbextensions/google.colab/files.js": {
              "data": "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",
              "ok": true,
              "headers": [
                [
                  "content-type",
                  "application/javascript"
                ]
              ],
              "status": 200,
              "status_text": ""
            }
          },
          "base_uri": "https://localhost:8080/",
          "height": 112
        },
        "id": "8fgcCRivkf9l",
        "outputId": "fc9bc889-55fb-4d7f-d672-59efd56827d1"
      },
      "source": [
        "from google.colab import files\n",
        "import pandas as pd\n",
        "\n",
        "uploaded = files.upload()\n",
        "print(uploaded)"
      ],
      "execution_count": null,
      "outputs": [
        {
          "output_type": "display_data",
          "data": {
            "text/html": [
              "\n",
              "     <input type=\"file\" id=\"files-6dc7d93d-df1b-42b2-bfed-bf35748529da\" name=\"files[]\" multiple disabled\n",
              "        style=\"border:none\" />\n",
              "     <output id=\"result-6dc7d93d-df1b-42b2-bfed-bf35748529da\">\n",
              "      Upload widget is only available when the cell has been executed in the\n",
              "      current browser session. Please rerun this cell to enable.\n",
              "      </output>\n",
              "      <script src=\"/nbextensions/google.colab/files.js\"></script> "
            ],
            "text/plain": [
              "<IPython.core.display.HTML object>"
            ]
          },
          "metadata": {
            "tags": []
          }
        },
        {
          "output_type": "stream",
          "text": [
            "Saving Untitled.png to Untitled.png\n",
            "{'Untitled.png': b'\\x89PNG\\r\\n\\x1a\\n\\x00\\x00\\x00\\rIHDR\\x00\\x00\\x00\\x1c\\x00\\x00\\x00\\x1c\\x08\\x02\\x00\\x00\\x00\\xfdoH\\xc3\\x00\\x00\\x00\\x01sRGB\\x00\\xae\\xce\\x1c\\xe9\\x00\\x00\\x00\\x04gAMA\\x00\\x00\\xb1\\x8f\\x0b\\xfca\\x05\\x00\\x00\\x00\\tpHYs\\x00\\x00\\x0e\\xc3\\x00\\x00\\x0e\\xc3\\x01\\xc7o\\xa8d\\x00\\x00\\x02\\tIDATHK\\xed\\x95\\xbd\\x8faQ\\x18\\xc6\\xd9l\\x88\\x8f\\xf8\\x8al\\x14\\x12\\xa1\\xd3\\tB#\\x1a\\x95D\\xf4*\\x7f\\x81^\"AD\\xa9\\xf7\\'h4\\x124BF3!BD$JDcb2\\xecl$\\x86\\xcb\\x9dw\\xe6}w\\xf6\\xde\\x9d\\xbd\\xf7La\\x9a\\xc9\\xfe\\x8a\\xe3>\\xcf\\xfb\\x9e\\xc7q\\xce\\xcd\\xa1\\xe4y^qm\\xbe\\xd1\\xe7U\\xf9b\\xa1\\xf5z\\xbdR\\xa9\\x90\\xf8\\x08pPLt:\\x1dtV\\xabU\\xd2,\\xd8\\xa1\\xbd^\\x0f\\xbf\\xde\\xe3\\xf1\\x90\\xc5\\x82\\xfd\\xf3\\xbb\\xdd.\\x8cV\\xabu<\\x1e\\x17\\n\\x054\\x19P\\xb84\\xb1X\\x0c\\xda\\xd2\\xe94\\xf6\\xafV+*H\\xc3\\x0e\\xb5X,\\x90\\xb5\\\\.\\x13\\x89\\x04<d2\\x19*H\\xc3\\x08\\x9dL&\\x10\\xe4r\\xb9\\xe0\\x19\\xf7\\xc1f\\xb3aI\\x06\\xc6\\x9e\\xe2)\\x05\\x02\\x01\\x18\\xc3\\xe1\\xb0\\xdb\\xed^\\xaf\\xd7\\x98.\\xc3\\x87B\\x83\\xc1 J\\xdc\\xdff\\xb3\\x89\\x12\\x81\\xa5\\x9dN\\xdc\\xf1\\xc4].\\x97?\\x96\\x0cN\\xa7\\x13z\\xfa\\xfd>\\xcaV\\xab\\x05\\xd2\\xeb\\xf5\\xa2D\\x9e\\x8e\\xc7\\xdb\\xdb\\xc9\\xcd\\xcd\\xe8\\xf0tDGn\\xa5\\xd3\\xe9t>\\x9f\\xffxe6\\x9b\\r\\x87C\\x95J\\xa5V\\xabG\\xa3\\x11\\xf8\\xd4\\xf4\\xb2,\\xc5\\xfd\\xfd\\xcf\\xbb\\xbb\\x87\\xf3\\xf9\\xfcfI\\x92\\xcb\\xe5\\xa8I\\x80V\\xab\\x85\\xb1T*Q\\x13\\xcfs\\x1c\\xf7\\xf8k\\xff\\xb0}\\x84M@G\\xee>\\x8dD\"\\x9dN\\xc7h4\\x9a\\xcdf\\xc8\\xd2h40\\x1a\\x0c\\x86F\\xa3\\xe1\\xf7\\xfb\\x07\\x83\\x01\\xf5\\xbd\\xae\\x0cF\\xa5R\\x89Rr\\xa5\\xfb\\xfd\\x1e\\x1b6\\x9b\\rY\\xbf\\xb1\\xdb\\xed\\xe0\\xc3-C\\xfa\\x1d\\x92\\xa1\\xb5Z\\rf\\x86B!\\xd2\\x02\\x8a\\xc5\"\\x94\\xa2\\xd1(\\xe9wH\\x86\\xa6R)\\x98\\x99\\xcf\\xe7I\\x0b\\xd8\\xedvz\\xbd\\x1e\\xaa\\xedv\\x9b,1\\x92\\xa1>\\x9f\\x0f\\xa6\\xc1{NZL6\\x9b\\x85j<\\x1e\\'-\\xe6\\xdf\\xa1o\\x1bz8\\x1c\\xc8\\x12\\xb3\\xddn\\xe1\\xdc\\xa0a\\xb1X\\x90%\\xe0;N\\xfe\\x0b8\\xe5d2\\t\\x87\\x0eo%YbL&S\\xb9\\\\\\x86\\x1b\\xcb\\xe1p\\x90%\\xe0\\xff_\\xf4\\xf5\\xf9\\x84P\\x85\\xe2\\x19;\\x92\\xa8\\xe1I\\xbdtr\\x00\\x00\\x00\\x00IEND\\xaeB`\\x82'}\n"
          ],
          "name": "stdout"
        }
      ]
    },
    {
      "cell_type": "code",
      "metadata": {
        "colab": {
          "base_uri": "https://localhost:8080/"
        },
        "id": "5PQGRPMLt0vj",
        "outputId": "385f590f-d2b1-4f89-c143-edfdcbacd8cd"
      },
      "source": [
        "print(uploaded)"
      ],
      "execution_count": null,
      "outputs": [
        {
          "output_type": "stream",
          "text": [
            "{'Untitled.png': b'\\x89PNG\\r\\n\\x1a\\n\\x00\\x00\\x00\\rIHDR\\x00\\x00\\x00\\x1c\\x00\\x00\\x00\\x1c\\x08\\x02\\x00\\x00\\x00\\xfdoH\\xc3\\x00\\x00\\x00\\x01sRGB\\x00\\xae\\xce\\x1c\\xe9\\x00\\x00\\x00\\x04gAMA\\x00\\x00\\xb1\\x8f\\x0b\\xfca\\x05\\x00\\x00\\x00\\tpHYs\\x00\\x00\\x0e\\xc3\\x00\\x00\\x0e\\xc3\\x01\\xc7o\\xa8d\\x00\\x00\\x01\\x9aIDATHK\\xed\\x95\\xb1\\x8a\\xc2@\\x10\\x86\\xf7\\x0c6B@\\x05E\\x08\\x01%\\x8dG\\xd0V\\xcb`c\\x93\\'PHga\\xe7;h\\x11\\xb0\\xcd3X\\xd8\\'\\xa0X\\x89\\x85\\xf6\\x92R\\x0b\\xd1FQ\\x08\\x086\\xb27\\xe7\\x0ewM&\\xb9\"\\xcd\\x81_\\xb1\\xc9\\xfc3\\xfbg7\\xb3$\\x1f\\x9cs\\x964)\\xbc&\\xca\\xff1\\x8d\\x7f\\xa7\\x9b\\xcd\\xe6x<~\\xbe@)\\x160\\x8d\\xa0^\\xafc\\x1dc\\xc5bq:\\x9db\"\\x92(S\\xcf\\xf3\\xc0\\xabZ\\xad\\x9a\\xa6\\xa9i\\x9a\\xb0\\xb6m\\x1b\\xd34Q\\xa6\\xddn\\x17\\\\\\x86\\xc3\\xa1\\x08\\xc7\\xe31\\x84\\xa5R\\xe9\\xf9|\\n\\x85\\x824\\xbd\\xdf\\xef\\xaf\\x95\\xb1\\xfd~\\x8f\\x12\\xe7\\x86a\\x80\\xe28\\x0e\\xc6\\x04d\\xf73\\x99\\x8ceY\\x83\\xc1\\xa0\\\\.\\xa3\\xc4X\\xa7\\xd3\\x81q\\xb5Z\\x89\\x90\\x04\\xcd\\xe3\\xb8^\\xaf0\\xfa\\xbe\\x0fS\\x14E\\x11\"E\\xcc9\\x9d\\xcdf\\xadV\\x0b\\xfa\\x9e\\xcf\\xe7k\\xb5\\xdad2\\x01\\xf1t:\\x89,\\t\\x9a\\x87!\\x1a%\\x90e\\x19\\xef^\\x9c\\xcfg,\\n\\x834\\r\\x82@\\xcc\\x1f\\x8dF\\xb04P\\xe6\\xf3y\\xbf\\xdf\\x97$\\t\\xc4\\xcb\\xe5\"\\xcaB!M\\x17\\x8b\\x05LVU\\x15\\xde#J\\x9c\\x1f\\x0e\\x87t:\\r\\xfa\\xe3\\xf1@)\\x8c\\xa8\\xed\\xb7\\xdb\\xed\\xef\\xa52\\xa6\\xebz\\xb3\\xd9\\x84\\x13*B\\x00+\\x08\\xa2\\xd2\\xbb\\xdd\\xae\\xd7\\xeb\\xa5R\\xbf\\xcd\\xcc\\xe5r0\\x16\\n\\x05\\xac \\x88y&p\\xbb\\xdd\\xb6\\xdb\\xedz\\xbd\\x86g\\xb8\\xae\\x0b\\xa6\\xb0\\x03\\xcc\\x11\\xc4\\x7f\\xfa\\xb2\\xd9,l\\xbf\\xd1hT*\\x15\\xd1\\xbd\\x9f\\xef\\x00\\t\\x9a\\xff\\x99\\xe5r\\x89w4\\xef\\x7fT\\xf2\\xbcM\\x93\\x86\\xb1/q@]f\\xd2}]6\\x00\\x00\\x00\\x00IEND\\xaeB`\\x82'}\n"
          ],
          "name": "stdout"
        }
      ]
    },
    {
      "cell_type": "code",
      "metadata": {
        "colab": {
          "base_uri": "https://localhost:8080/",
          "height": 265
        },
        "id": "ZM4wx2ZenfcA",
        "outputId": "8c7e3de1-0057-4f76-8e1b-4f3894157bda"
      },
      "source": [
        "img = cv2.imread(list(uploaded)[0], cv2.IMREAD_GRAYSCALE)\n",
        "plt.imshow(img,cmap='gray')\n",
        "plt.show()"
      ],
      "execution_count": null,
      "outputs": [
        {
          "output_type": "display_data",
          "data": {
            "image/png": "[encoded data removed]",
            "text/plain": [
              "<Figure size 432x288 with 1 Axes>"
            ]
          },
          "metadata": {
            "tags": [],
            "needs_background": "light"
          }
        }
      ]
    },
    {
      "cell_type": "code",
      "metadata": {
        "id": "IvH1dL9owOI1"
      },
      "source": [
        "#Inverse and normalize our image\n",
        "img = abs(255-img) / 255\n"
      ],
      "execution_count": null,
      "outputs": []
    },
    {
      "cell_type": "code",
      "metadata": {
        "colab": {
          "base_uri": "https://localhost:8080/",
          "height": 265
        },
        "id": "MVJYvT1Wwscv",
        "outputId": "78c19a71-5f79-4255-c508-5c32b54cf8bb"
      },
      "source": [
        "plt.imshow(img,cmap='gray')\n",
        "plt.show()"
      ],
      "execution_count": null,
      "outputs": [
        {
          "output_type": "display_data",
          "data": {
            "image/png": "[encoded data removed]",
            "text/plain": [
              "<Figure size 432x288 with 1 Axes>"
            ]
          },
          "metadata": {
            "tags": [],
            "needs_background": "light"
          }
        }
      ]
    },
    {
      "cell_type": "code",
      "metadata": {
        "id": "AgiHOvX7yTHO"
      },
      "source": [
        "img = img.reshape(1,28,28,1)"
      ],
      "execution_count": null,
      "outputs": []
    },
    {
      "cell_type": "code",
      "metadata": {
        "id": "Ia4vq6ldpZZP"
      },
      "source": [
        "predictions = []\n",
        "\n",
        "for model in models:\n",
        "  predictions.append(np.argmax(model.predict(img), axis=1)[0])"
      ],
      "execution_count": null,
      "outputs": []
    },
    {
      "cell_type": "code",
      "metadata": {
        "colab": {
          "base_uri": "https://localhost:8080/",
          "height": 591
        },
        "id": "bOtiksWEsm-R",
        "outputId": "88039af9-3230-4060-980e-90b26c272708"
      },
      "source": [
        "emnist = \"0123456789ABCDEFGHIJKLMNOPQRSTUVWXYZabdefghnqrt\"\n",
        "\n",
        "f, ax = plt.subplots(3, 3, figsize = (10, 10))\n",
        "for i in range(0,9):\n",
        "    \n",
        "    label = emnist[predictions[i]]\n",
        "    ax[i//3, i%3].imshow(tf.squeeze(img), cmap='gray')\n",
        "    ax[i//3, i%3].axis('off')\n",
        "    ax[i//3, i%3].set_title(\"Experiment {} (class : {})\".format(i+1,label)) \n",
        "plt.show()"
      ],
      "execution_count": null,
      "outputs": [
        {
          "output_type": "display_data",
          "data": {
            "image/png": "[encoded data removed]",
            "text/plain": [
              "<Figure size 720x720 with 9 Axes>"
            ]
          },
          "metadata": {
            "tags": [],
            "needs_background": "light"
          }
        }
      ]
    }
  ]
}